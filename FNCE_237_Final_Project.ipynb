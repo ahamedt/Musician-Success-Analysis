{
  "nbformat": 4,
  "nbformat_minor": 0,
  "metadata": {
    "colab": {
      "provenance": [],
      "collapsed_sections": [
        "pxZ3j0AVtLaQ"
      ]
    },
    "kernelspec": {
      "name": "python3",
      "display_name": "Python 3"
    },
    "language_info": {
      "name": "python"
    }
  },
  "cells": [
    {
      "cell_type": "markdown",
      "source": [
        "# **Main Determinants of Music Artists Success**\n",
        "*Tahmid Ahamed & Shiva Menta – FNCE 2370, Professor Michael Roberts*"
      ],
      "metadata": {
        "id": "rMo9z_CIsTxu"
      }
    },
    {
      "cell_type": "markdown",
      "source": [
        "# Project Code Setup"
      ],
      "metadata": {
        "id": "JpMhNPZuxIVl"
      }
    },
    {
      "cell_type": "code",
      "source": [
        "%matplotlib inline \n",
        "%load_ext autoreload\n",
        "%autoreload 2"
      ],
      "metadata": {
        "id": "wqEuSimzxNpE"
      },
      "execution_count": null,
      "outputs": []
    },
    {
      "cell_type": "code",
      "source": [
        "import pandas as pd\n",
        "import seaborn as sns\n",
        "%matplotlib inline\n",
        "import numpy as np\n",
        "import math\n",
        "import matplotlib.pyplot as plt\n",
        "import statsmodels.api as sm\n",
        "from statsmodels.graphics.gofplots import qqplot\n",
        "import scipy.stats as ss\n",
        "from numba import njit\n",
        "import matplotlib.dates as mdates\n",
        "import matplotlib.ticker as mtick\n",
        "import tweepy\n",
        "import datetime\n",
        "import multiprocessing\n",
        "from sklearn.preprocessing import OneHotEncoder\n",
        "from sklearn.model_selection import train_test_split\n",
        "from sklearn.linear_model import LinearRegression, Lasso\n",
        "from sklearn.model_selection import cross_val_score, GridSearchCV, RandomizedSearchCV\n",
        "from sklearn.ensemble import RandomForestRegressor, GradientBoostingRegressor\n",
        "from sklearn.tree import DecisionTreeRegressor, export_graphviz"
      ],
      "metadata": {
        "id": "w8Qz6m4TxPwv"
      },
      "execution_count": null,
      "outputs": []
    },
    {
      "cell_type": "code",
      "source": [
        "from urllib.request import urlopen\n",
        "from bs4 import BeautifulSoup"
      ],
      "metadata": {
        "id": "FE2QkQhRxWAN"
      },
      "execution_count": null,
      "outputs": []
    },
    {
      "cell_type": "code",
      "source": [
        "# figure formats\n",
        "font = {'family':'DejaVu Sans',\n",
        "        'size': 12}\n",
        "plt.rc('font', **font)\n",
        "\n",
        "# numpy number precision\n",
        "np.set_printoptions(precision=4, suppress=True) # display options\n",
        "\n",
        "TOL = 1.0e-8                                    # Numerical tolerance for comparisons\n",
        "SEED = 24                                       # Random number seed\n",
        "SCALE = 12\n",
        "CPUS = multiprocessing.cpu_count()"
      ],
      "metadata": {
        "id": "XEeg4yfVxXQF"
      },
      "execution_count": null,
      "outputs": []
    },
    {
      "cell_type": "markdown",
      "source": [
        "# Data Acquisition"
      ],
      "metadata": {
        "id": "_uczpuIEtCXq"
      }
    },
    {
      "cell_type": "markdown",
      "source": [
        "**Kworb.net Top Artist Scraping**"
      ],
      "metadata": {
        "id": "FWMRvNR_uWW5"
      }
    },
    {
      "cell_type": "markdown",
      "source": [
        "*Code Executed to Create Data Set (not executed in current file, imported data set made in separate notebook using this code)*"
      ],
      "metadata": {
        "id": "h1DbKWLWxhFo"
      }
    },
    {
      "cell_type": "code",
      "source": [
        "# code intentionally not executed\n",
        "if (0 == 1):\n",
        "  # url import and beautiful soup setup\n",
        "  url = \"https://kworb.net/spotify/artists.html\"\n",
        "  html = urlopen(url)\n",
        "  soup = BeautifulSoup(html, 'lxml')\n",
        "\n",
        "\n",
        "  # import top artists data\n",
        "  all_tr = soup.find_all(\"tr\")\n",
        "  list_rows = []\n",
        "  for tr in all_tr:\n",
        "      curr_link = \"\"\n",
        "      all_links = tr.find_all(\"a\")\n",
        "      for link in all_links:\n",
        "          curr_link = link.get(\"href\")\n",
        "\n",
        "      curr_link = \"https://kworb.net/spotify/\" + curr_link\n",
        "\n",
        "      row_dat = tr.find_all('td')\n",
        "      str_cells = str(row_dat)\n",
        "      \n",
        "      cleantext = BeautifulSoup(str_cells, \"lxml\").get_text()\n",
        "      cleantext = cleantext.strip(\"[]\")\n",
        "      dat_arr = cleantext.split(', ')\n",
        "      dat_arr.append(curr_link)\n",
        "      list_rows.append(dat_arr)\n",
        "\n",
        "\n",
        "  # formatting df\n",
        "  col_names=[\"Rank\",\"Artist\",\"Total Streams\", \"Link\"]\n",
        "\n",
        "  kworb_raw = pd.DataFrame(list_rows)\n",
        "  kworb_raw = kworb_raw.iloc[: , :-2]\n",
        "  kworb_raw = kworb_raw.iloc[1:]\n",
        "  kworb_raw.columns = col_names\n",
        "  kworb_total = kworb_raw\n",
        "\n",
        "\n",
        "  # adding individual song data to new df\n",
        "  kworb_agg = pd.DataFrame()\n",
        "\n",
        "  for index, row in kworb_total.iterrows():\n",
        "      link = row[3]\n",
        "\n",
        "      try:\n",
        "        song_df = pd.read_html(link)[0]\n",
        "      except:\n",
        "        continue\n",
        "\n",
        "      song_df = song_df.iloc[: , :3]\n",
        "\n",
        "      song_df[\"Artist\"] = row[\"Artist\"]\n",
        "      song_df[\"Total Streams\"] = row[\"Total Streams\"]\n",
        "      song_df[\"Rank\"] = row[\"Rank\"]\n",
        "\n",
        "      kworb_agg = kworb_agg.append(song_df)"
      ],
      "metadata": {
        "id": "1YFkSK6_yJp8"
      },
      "execution_count": null,
      "outputs": []
    },
    {
      "cell_type": "markdown",
      "source": [
        "*Kworb Data Import*"
      ],
      "metadata": {
        "id": "xCIJ8Fsqxxu6"
      }
    },
    {
      "cell_type": "code",
      "source": [
        "df_agg = pd.read_csv('kworb_total.csv')"
      ],
      "metadata": {
        "id": "Zir_Ngwyxdns"
      },
      "execution_count": null,
      "outputs": []
    },
    {
      "cell_type": "markdown",
      "source": [
        "**Spotify Song Data Sourcing**"
      ],
      "metadata": {
        "id": "Z4_m-BWjudNc"
      }
    },
    {
      "cell_type": "markdown",
      "source": [
        "*Code Executed to Create Data Set (not executed in current file, imported data set made in separate notebook using this code)*"
      ],
      "metadata": {
        "id": "6p4ZYwjSztOO"
      }
    },
    {
      "cell_type": "markdown",
      "source": [
        "*Spotify Data Import*"
      ],
      "metadata": {
        "id": "GRy9NZRLzpy1"
      }
    },
    {
      "cell_type": "code",
      "source": [
        "df_spot = pd.read_csv('spot_data.csv')\n",
        "df_spot = df_spot.drop(columns=['Unnamed: 0', 'type', 'id', 'uri', 'track_href', 'analysis_url'])"
      ],
      "metadata": {
        "id": "FuyLUcg-y0vp"
      },
      "execution_count": null,
      "outputs": []
    },
    {
      "cell_type": "markdown",
      "source": [
        "**Tweet Frequency Data Sourcing**"
      ],
      "metadata": {
        "id": "OqydyJ6wu3ql"
      }
    },
    {
      "cell_type": "markdown",
      "source": [
        "*Twitter API Authentication*"
      ],
      "metadata": {
        "id": "5aaFjVuAz_K-"
      }
    },
    {
      "cell_type": "code",
      "source": [
        "# code intentionally not executed\n",
        "if (0 == 1):\n",
        "  # twitter v1.1 api information\n",
        "  api_key = \"y2EO8nqNHZpGVMy7H2i9SUUSX\"\n",
        "  api_secrets = \"H18iD1QIzv4sI98TsRKdsZQthePLESRpD6tCIFzd5IX9YKmVLe\"\n",
        "  access_token = \"1025200377405296640-hFe7nhLBoxL74nuvMXtFUF80BlW7Ho\"\n",
        "  access_secret = \"249UXqz5n1YO1S39GoYsKE1f3ZiuQWIhHfAICHvF54Io8\"\n",
        "  \n",
        "  # authenticate to twitter using tweepy v1.1\n",
        "  auth = tweepy.OAuthHandler(api_key,api_secrets)\n",
        "  auth.set_access_token(access_token,access_secret)\n",
        "  \n",
        "  api = tweepy.API(auth)\n",
        "  \n",
        "  try:\n",
        "      api.verify_credentials()\n",
        "      print('Successful Authentication')\n",
        "  except:\n",
        "      print('Failed authentication')\n",
        "\n",
        "  # authenticate to twitter using tweepy v2\n",
        "  bearer_token = \"AAAAAAAAAAAAAAAAAAAAAFxCjwEAAAAAPNtYtAkh0zPWmixcZ01yLUe9Dm0%3DmEBScTJzwzO0XxGYmkajTwAKcjNYjdhOBAWmAr7xqLq3yvcTNK\"\n",
        "\n",
        "  client = tweepy.Client(bearer_token=bearer_token)"
      ],
      "metadata": {
        "id": "rQXBp6GYecUe"
      },
      "execution_count": null,
      "outputs": []
    },
    {
      "cell_type": "markdown",
      "source": [
        "*Twitter Username Searches and Total Tweets / Account Creation Sourcing*"
      ],
      "metadata": {
        "id": "LAGTlsQm0B31"
      }
    },
    {
      "cell_type": "code",
      "source": [
        "# code intentionally not executed\n",
        "if (0 == 1):\n",
        "  # get list of artist to conduct username searches\n",
        "  artists = df_agg[\"Artist\"].unique()\n",
        "\n",
        "  # creating dataframe for twitter data\n",
        "  df_twit = pd.DataFrame()\n",
        "\n",
        "  # data sourcing loop (segmented due to API retrieval limits)\n",
        "  list_twit_rows = []\n",
        "\n",
        "  for i in range(0, len(artists)):\n",
        "    user_arr = api.search_users(q=artists[i], count=\"1\")\n",
        "    if (len(user_arr) != 0):\n",
        "      user_info = client.get_user(username=user_arr[0].screen_name, user_fields=[\"created_at\", \"public_metrics\"])\n",
        "\n",
        "      created_at = user_info.data.created_at\n",
        "      follower_count = user_info.data.public_metrics['followers_count']\n",
        "      tweet_count = user_info.data.public_metrics['tweet_count']\n",
        "\n",
        "      row = [artists[i], user_arr[0].screen_name, created_at, follower_count, tweet_count]\n",
        "      list_twit_rows.append(row)"
      ],
      "metadata": {
        "id": "CxMRSfXhra5S"
      },
      "execution_count": null,
      "outputs": []
    },
    {
      "cell_type": "code",
      "source": [
        "# import pre-created twitter data\n",
        "df_twt = pd.read_csv('twitter_data.csv')"
      ],
      "metadata": {
        "id": "SAolDDUFZzjL"
      },
      "execution_count": null,
      "outputs": []
    },
    {
      "cell_type": "markdown",
      "source": [
        "**Time-Based Genre Popularity Data Sourcing**"
      ],
      "metadata": {
        "id": "ilOTTtVX1nbw"
      }
    },
    {
      "cell_type": "code",
      "source": [
        "# import pre-sourced time data\n",
        "df_genre = pd.read_excel('genre_popularity_time.xlsx')\n",
        "df_genre = df_genre.fillna(0)\n",
        "\n",
        "# adjust cells to reflect major genre (0 for < 0.10, 1 for >= 0.10)\n",
        "def major_classifier(x):\n",
        "  float_val = float(x)\n",
        "  if float_val >= 0.10:\n",
        "    return 1\n",
        "  else:\n",
        "    return 0\n",
        "\n",
        "df_genre.loc[:, df_genre.columns != 'Primary Genre'] = df_genre.loc[:, df_genre.columns != 'Primary Genre'].applymap(major_classifier)"
      ],
      "metadata": {
        "id": "Zq7q7B094mPi"
      },
      "execution_count": null,
      "outputs": []
    },
    {
      "cell_type": "markdown",
      "source": [
        "# Data Ingestion and Verification"
      ],
      "metadata": {
        "id": "pxZ3j0AVtLaQ"
      }
    },
    {
      "cell_type": "markdown",
      "source": [
        "**Kworb.net Variable / Feature Dictionary**\n",
        "\n",
        "*Peak Date* – Date when a song's popularity peaked (measured in most streams per day) – Current Type: Object, Intended Type: Datetime\n",
        "\n",
        "*Title* – Song title – Current Type: Object, Intended Type: String\n",
        "\n",
        "*Streams* – Total streams for a given song on Spotify – Current Type: Integer, Intended Type: Integer\n",
        "\n",
        "*Artist* – Artist's name / stage name – Current Type: Object, Intended Type: String\n",
        "\n",
        "*Total Streams* – Sum of streams for all recorded songs for an artist on Spotify  – Current Type: Integer, Intended Type: Integer\n",
        "\n",
        "*Rank* – Numerical ranking of an artist in Top 10,000 artists by total streams"
      ],
      "metadata": {
        "id": "fgw7DUx_u9zP"
      }
    },
    {
      "cell_type": "code",
      "source": [
        "df_agg.info()"
      ],
      "metadata": {
        "colab": {
          "base_uri": "https://localhost:8080/"
        },
        "id": "mHAWu-KVJi-O",
        "outputId": "1b40467f-0a01-4979-e69d-1c961d778c0e"
      },
      "execution_count": null,
      "outputs": [
        {
          "output_type": "stream",
          "name": "stdout",
          "text": [
            "<class 'pandas.core.frame.DataFrame'>\n",
            "RangeIndex: 147581 entries, 0 to 147580\n",
            "Data columns (total 7 columns):\n",
            " #   Column         Non-Null Count   Dtype \n",
            "---  ------         --------------   ----- \n",
            " 0   Unnamed: 0     147581 non-null  int64 \n",
            " 1   Peak Date      147581 non-null  object\n",
            " 2   Title          147560 non-null  object\n",
            " 3   Streams        147581 non-null  int64 \n",
            " 4   Artist         147558 non-null  object\n",
            " 5   Total Streams  147581 non-null  object\n",
            " 6   Rank           147581 non-null  int64 \n",
            "dtypes: int64(3), object(4)\n",
            "memory usage: 7.9+ MB\n"
          ]
        }
      ]
    },
    {
      "cell_type": "markdown",
      "source": [
        "**Spotify API Features Variable / Feature Dictionary**\n",
        "\n",
        "*Artist Name* – Artist's name / stage name – Current Type: Object, Intended Type: String\n",
        "\n",
        "*Track Name* – Song title – Current Type: String, Intended Type: String\n",
        "\n",
        "*collabs* – Number of collaborators present on song (including main artist) – Current Type: Integer, Intended Type: Integer\n",
        "\n",
        "*danceability* – (0 - 1) scale measuring a song's suitability for dancing based on various musical elements; 0 = not danceable and 1 = danceable – Current Type: Object, Intended Type: Float\n",
        "\n",
        "*energy* – (0 - 1) scale measuring a song's intensity and activity; 0 = low energy and 1 = high energy – Current Type: Float, Intended Type: Float\n",
        "\n",
        "*key* – estimated overall key of track, integers map to pitches using pitch class notation – Current Type: Float, Intended Type: Category\n",
        "\n",
        "*loudness* – overall loundess of a track measured in decibels, averaged across entire track – Current Type: Float, Intended Type: Float\n",
        "\n",
        "*mode* – key modality of a track; 0 = minor key and 1 = major key – Current Type: Float, Intended Type: Category\n",
        "\n",
        "*speechiness* – (0 - 1) scale measuring a song's presence of spoken words; 0 = minimal spoken word and 1 = maximal spoken word – Current Type: Float, Intended Type: Float\n",
        "\n",
        "*acousticness* – (0 - 1) scale measuring a song's acousticness levels – Current Type: Float, Intended Type: Float\n",
        "\n",
        "*instrumentalness* – (0 - 1) scale measuring a song's level of instrumentalness (opposite of vocality); 0 = minimal instrumental focus and 1 = maximal instrumental focus – Current Type: Float, Intended Type: Float\n",
        "\n",
        "*liveness* – (0 - 1) scale measuring a song's likeliness of being performed live; 0 = no probability track was performed live and 1 = absolute certainty track was performed live – Current Type: Float, Intended Type: Float\n",
        "\n",
        "*valence* – (0 - 1) scale measuring a song's level of musical positiveness; 0 = minimal positivity and 1 = maximal positivity – Current Type: Float, Intended Type: Float\n",
        "\n",
        "*tempo* – overall estimated tempo / speed of a song measured in BPM – Current Type: Float, Intended Type: Float\n",
        "\n",
        "*duration_ms* – length of a song measured in milliseconds – Current Type: Float, Intended Type: Float\n",
        "\n",
        "*time_signature* – estimated overall time signature of a track, measured in beats per bar – Current Type: Float, Intended Type: Categorical\n",
        "\n",
        "*genre* – array of strings representing the minute subgenres in which an artist produces – Current Type: Object, Intended Type: String"
      ],
      "metadata": {
        "id": "-zovDToKJMXR"
      }
    },
    {
      "cell_type": "code",
      "source": [
        "df_spot.info()"
      ],
      "metadata": {
        "colab": {
          "base_uri": "https://localhost:8080/"
        },
        "id": "IOqNlQ0v1fCz",
        "outputId": "1009d4bc-d0c0-40f1-c82c-fa7c264dc369"
      },
      "execution_count": null,
      "outputs": [
        {
          "output_type": "stream",
          "name": "stdout",
          "text": [
            "<class 'pandas.core.frame.DataFrame'>\n",
            "RangeIndex: 159433 entries, 0 to 159432\n",
            "Data columns (total 17 columns):\n",
            " #   Column            Non-Null Count   Dtype  \n",
            "---  ------            --------------   -----  \n",
            " 0   Artist Name       159433 non-null  object \n",
            " 1   Track Name        159432 non-null  object \n",
            " 2   collabs           159433 non-null  int64  \n",
            " 3   danceability      159433 non-null  object \n",
            " 4   energy            159297 non-null  float64\n",
            " 5   key               159297 non-null  float64\n",
            " 6   loudness          159297 non-null  float64\n",
            " 7   mode              159297 non-null  float64\n",
            " 8   speechiness       159297 non-null  float64\n",
            " 9   acousticness      159297 non-null  float64\n",
            " 10  instrumentalness  159297 non-null  float64\n",
            " 11  liveness          159297 non-null  float64\n",
            " 12  valence           159297 non-null  float64\n",
            " 13  tempo             159297 non-null  float64\n",
            " 14  duration_ms       159297 non-null  float64\n",
            " 15  time_signature    159297 non-null  float64\n",
            " 16  genre             157648 non-null  object \n",
            "dtypes: float64(12), int64(1), object(4)\n",
            "memory usage: 20.7+ MB\n"
          ]
        }
      ]
    },
    {
      "cell_type": "code",
      "source": [
        "vlist = [c for c in df_spot.columns]\n",
        "df_spot[vlist].describe().T.style.format(\"{:,.2f}\")"
      ],
      "metadata": {
        "colab": {
          "base_uri": "https://localhost:8080/"
        },
        "id": "lIW_oPlX39rE",
        "outputId": "19f9c150-f456-433a-9ff5-c77300ad1de7"
      },
      "execution_count": null,
      "outputs": [
        {
          "output_type": "execute_result",
          "data": {
            "text/plain": [
              "<pandas.io.formats.style.Styler at 0x7f398ee2f790>"
            ],
            "text/html": [
              "<style type=\"text/css\">\n",
              "</style>\n",
              "<table id=\"T_66ab0_\" class=\"dataframe\">\n",
              "  <thead>\n",
              "    <tr>\n",
              "      <th class=\"blank level0\" >&nbsp;</th>\n",
              "      <th class=\"col_heading level0 col0\" >count</th>\n",
              "      <th class=\"col_heading level0 col1\" >mean</th>\n",
              "      <th class=\"col_heading level0 col2\" >std</th>\n",
              "      <th class=\"col_heading level0 col3\" >min</th>\n",
              "      <th class=\"col_heading level0 col4\" >25%</th>\n",
              "      <th class=\"col_heading level0 col5\" >50%</th>\n",
              "      <th class=\"col_heading level0 col6\" >75%</th>\n",
              "      <th class=\"col_heading level0 col7\" >max</th>\n",
              "    </tr>\n",
              "  </thead>\n",
              "  <tbody>\n",
              "    <tr>\n",
              "      <th id=\"T_66ab0_level0_row0\" class=\"row_heading level0 row0\" >collabs</th>\n",
              "      <td id=\"T_66ab0_row0_col0\" class=\"data row0 col0\" >159,433.00</td>\n",
              "      <td id=\"T_66ab0_row0_col1\" class=\"data row0 col1\" >1.77</td>\n",
              "      <td id=\"T_66ab0_row0_col2\" class=\"data row0 col2\" >1.79</td>\n",
              "      <td id=\"T_66ab0_row0_col3\" class=\"data row0 col3\" >1.00</td>\n",
              "      <td id=\"T_66ab0_row0_col4\" class=\"data row0 col4\" >1.00</td>\n",
              "      <td id=\"T_66ab0_row0_col5\" class=\"data row0 col5\" >1.00</td>\n",
              "      <td id=\"T_66ab0_row0_col6\" class=\"data row0 col6\" >2.00</td>\n",
              "      <td id=\"T_66ab0_row0_col7\" class=\"data row0 col7\" >50.00</td>\n",
              "    </tr>\n",
              "    <tr>\n",
              "      <th id=\"T_66ab0_level0_row1\" class=\"row_heading level0 row1\" >energy</th>\n",
              "      <td id=\"T_66ab0_row1_col0\" class=\"data row1 col0\" >159,297.00</td>\n",
              "      <td id=\"T_66ab0_row1_col1\" class=\"data row1 col1\" >0.62</td>\n",
              "      <td id=\"T_66ab0_row1_col2\" class=\"data row1 col2\" >0.21</td>\n",
              "      <td id=\"T_66ab0_row1_col3\" class=\"data row1 col3\" >0.00</td>\n",
              "      <td id=\"T_66ab0_row1_col4\" class=\"data row1 col4\" >0.49</td>\n",
              "      <td id=\"T_66ab0_row1_col5\" class=\"data row1 col5\" >0.65</td>\n",
              "      <td id=\"T_66ab0_row1_col6\" class=\"data row1 col6\" >0.78</td>\n",
              "      <td id=\"T_66ab0_row1_col7\" class=\"data row1 col7\" >1.00</td>\n",
              "    </tr>\n",
              "    <tr>\n",
              "      <th id=\"T_66ab0_level0_row2\" class=\"row_heading level0 row2\" >key</th>\n",
              "      <td id=\"T_66ab0_row2_col0\" class=\"data row2 col0\" >159,297.00</td>\n",
              "      <td id=\"T_66ab0_row2_col1\" class=\"data row2 col1\" >5.32</td>\n",
              "      <td id=\"T_66ab0_row2_col2\" class=\"data row2 col2\" >3.60</td>\n",
              "      <td id=\"T_66ab0_row2_col3\" class=\"data row2 col3\" >0.00</td>\n",
              "      <td id=\"T_66ab0_row2_col4\" class=\"data row2 col4\" >2.00</td>\n",
              "      <td id=\"T_66ab0_row2_col5\" class=\"data row2 col5\" >6.00</td>\n",
              "      <td id=\"T_66ab0_row2_col6\" class=\"data row2 col6\" >8.00</td>\n",
              "      <td id=\"T_66ab0_row2_col7\" class=\"data row2 col7\" >11.00</td>\n",
              "    </tr>\n",
              "    <tr>\n",
              "      <th id=\"T_66ab0_level0_row3\" class=\"row_heading level0 row3\" >loudness</th>\n",
              "      <td id=\"T_66ab0_row3_col0\" class=\"data row3 col0\" >159,297.00</td>\n",
              "      <td id=\"T_66ab0_row3_col1\" class=\"data row3 col1\" >-7.84</td>\n",
              "      <td id=\"T_66ab0_row3_col2\" class=\"data row3 col2\" >4.53</td>\n",
              "      <td id=\"T_66ab0_row3_col3\" class=\"data row3 col3\" >-60.00</td>\n",
              "      <td id=\"T_66ab0_row3_col4\" class=\"data row3 col4\" >-9.18</td>\n",
              "      <td id=\"T_66ab0_row3_col5\" class=\"data row3 col5\" >-6.84</td>\n",
              "      <td id=\"T_66ab0_row3_col6\" class=\"data row3 col6\" >-5.14</td>\n",
              "      <td id=\"T_66ab0_row3_col7\" class=\"data row3 col7\" >3.94</td>\n",
              "    </tr>\n",
              "    <tr>\n",
              "      <th id=\"T_66ab0_level0_row4\" class=\"row_heading level0 row4\" >mode</th>\n",
              "      <td id=\"T_66ab0_row4_col0\" class=\"data row4 col0\" >159,297.00</td>\n",
              "      <td id=\"T_66ab0_row4_col1\" class=\"data row4 col1\" >0.57</td>\n",
              "      <td id=\"T_66ab0_row4_col2\" class=\"data row4 col2\" >0.49</td>\n",
              "      <td id=\"T_66ab0_row4_col3\" class=\"data row4 col3\" >0.00</td>\n",
              "      <td id=\"T_66ab0_row4_col4\" class=\"data row4 col4\" >0.00</td>\n",
              "      <td id=\"T_66ab0_row4_col5\" class=\"data row4 col5\" >1.00</td>\n",
              "      <td id=\"T_66ab0_row4_col6\" class=\"data row4 col6\" >1.00</td>\n",
              "      <td id=\"T_66ab0_row4_col7\" class=\"data row4 col7\" >1.00</td>\n",
              "    </tr>\n",
              "    <tr>\n",
              "      <th id=\"T_66ab0_level0_row5\" class=\"row_heading level0 row5\" >speechiness</th>\n",
              "      <td id=\"T_66ab0_row5_col0\" class=\"data row5 col0\" >159,297.00</td>\n",
              "      <td id=\"T_66ab0_row5_col1\" class=\"data row5 col1\" >0.12</td>\n",
              "      <td id=\"T_66ab0_row5_col2\" class=\"data row5 col2\" >0.12</td>\n",
              "      <td id=\"T_66ab0_row5_col3\" class=\"data row5 col3\" >0.00</td>\n",
              "      <td id=\"T_66ab0_row5_col4\" class=\"data row5 col4\" >0.04</td>\n",
              "      <td id=\"T_66ab0_row5_col5\" class=\"data row5 col5\" >0.06</td>\n",
              "      <td id=\"T_66ab0_row5_col6\" class=\"data row5 col6\" >0.15</td>\n",
              "      <td id=\"T_66ab0_row5_col7\" class=\"data row5 col7\" >0.97</td>\n",
              "    </tr>\n",
              "    <tr>\n",
              "      <th id=\"T_66ab0_level0_row6\" class=\"row_heading level0 row6\" >acousticness</th>\n",
              "      <td id=\"T_66ab0_row6_col0\" class=\"data row6 col0\" >159,297.00</td>\n",
              "      <td id=\"T_66ab0_row6_col1\" class=\"data row6 col1\" >0.30</td>\n",
              "      <td id=\"T_66ab0_row6_col2\" class=\"data row6 col2\" >0.29</td>\n",
              "      <td id=\"T_66ab0_row6_col3\" class=\"data row6 col3\" >0.00</td>\n",
              "      <td id=\"T_66ab0_row6_col4\" class=\"data row6 col4\" >0.05</td>\n",
              "      <td id=\"T_66ab0_row6_col5\" class=\"data row6 col5\" >0.20</td>\n",
              "      <td id=\"T_66ab0_row6_col6\" class=\"data row6 col6\" >0.50</td>\n",
              "      <td id=\"T_66ab0_row6_col7\" class=\"data row6 col7\" >1.00</td>\n",
              "    </tr>\n",
              "    <tr>\n",
              "      <th id=\"T_66ab0_level0_row7\" class=\"row_heading level0 row7\" >instrumentalness</th>\n",
              "      <td id=\"T_66ab0_row7_col0\" class=\"data row7 col0\" >159,297.00</td>\n",
              "      <td id=\"T_66ab0_row7_col1\" class=\"data row7 col1\" >0.09</td>\n",
              "      <td id=\"T_66ab0_row7_col2\" class=\"data row7 col2\" >0.25</td>\n",
              "      <td id=\"T_66ab0_row7_col3\" class=\"data row7 col3\" >0.00</td>\n",
              "      <td id=\"T_66ab0_row7_col4\" class=\"data row7 col4\" >0.00</td>\n",
              "      <td id=\"T_66ab0_row7_col5\" class=\"data row7 col5\" >0.00</td>\n",
              "      <td id=\"T_66ab0_row7_col6\" class=\"data row7 col6\" >0.00</td>\n",
              "      <td id=\"T_66ab0_row7_col7\" class=\"data row7 col7\" >1.00</td>\n",
              "    </tr>\n",
              "    <tr>\n",
              "      <th id=\"T_66ab0_level0_row8\" class=\"row_heading level0 row8\" >liveness</th>\n",
              "      <td id=\"T_66ab0_row8_col0\" class=\"data row8 col0\" >159,297.00</td>\n",
              "      <td id=\"T_66ab0_row8_col1\" class=\"data row8 col1\" >0.18</td>\n",
              "      <td id=\"T_66ab0_row8_col2\" class=\"data row8 col2\" >0.15</td>\n",
              "      <td id=\"T_66ab0_row8_col3\" class=\"data row8 col3\" >0.00</td>\n",
              "      <td id=\"T_66ab0_row8_col4\" class=\"data row8 col4\" >0.10</td>\n",
              "      <td id=\"T_66ab0_row8_col5\" class=\"data row8 col5\" >0.12</td>\n",
              "      <td id=\"T_66ab0_row8_col6\" class=\"data row8 col6\" >0.22</td>\n",
              "      <td id=\"T_66ab0_row8_col7\" class=\"data row8 col7\" >1.00</td>\n",
              "    </tr>\n",
              "    <tr>\n",
              "      <th id=\"T_66ab0_level0_row9\" class=\"row_heading level0 row9\" >valence</th>\n",
              "      <td id=\"T_66ab0_row9_col0\" class=\"data row9 col0\" >159,297.00</td>\n",
              "      <td id=\"T_66ab0_row9_col1\" class=\"data row9 col1\" >0.52</td>\n",
              "      <td id=\"T_66ab0_row9_col2\" class=\"data row9 col2\" >0.24</td>\n",
              "      <td id=\"T_66ab0_row9_col3\" class=\"data row9 col3\" >0.00</td>\n",
              "      <td id=\"T_66ab0_row9_col4\" class=\"data row9 col4\" >0.33</td>\n",
              "      <td id=\"T_66ab0_row9_col5\" class=\"data row9 col5\" >0.52</td>\n",
              "      <td id=\"T_66ab0_row9_col6\" class=\"data row9 col6\" >0.71</td>\n",
              "      <td id=\"T_66ab0_row9_col7\" class=\"data row9 col7\" >1.00</td>\n",
              "    </tr>\n",
              "    <tr>\n",
              "      <th id=\"T_66ab0_level0_row10\" class=\"row_heading level0 row10\" >tempo</th>\n",
              "      <td id=\"T_66ab0_row10_col0\" class=\"data row10 col0\" >159,297.00</td>\n",
              "      <td id=\"T_66ab0_row10_col1\" class=\"data row10 col1\" >121.22</td>\n",
              "      <td id=\"T_66ab0_row10_col2\" class=\"data row10 col2\" >29.03</td>\n",
              "      <td id=\"T_66ab0_row10_col3\" class=\"data row10 col3\" >0.00</td>\n",
              "      <td id=\"T_66ab0_row10_col4\" class=\"data row10 col4\" >98.00</td>\n",
              "      <td id=\"T_66ab0_row10_col5\" class=\"data row10 col5\" >120.22</td>\n",
              "      <td id=\"T_66ab0_row10_col6\" class=\"data row10 col6\" >139.97</td>\n",
              "      <td id=\"T_66ab0_row10_col7\" class=\"data row10 col7\" >236.06</td>\n",
              "    </tr>\n",
              "    <tr>\n",
              "      <th id=\"T_66ab0_level0_row11\" class=\"row_heading level0 row11\" >duration_ms</th>\n",
              "      <td id=\"T_66ab0_row11_col0\" class=\"data row11 col0\" >159,297.00</td>\n",
              "      <td id=\"T_66ab0_row11_col1\" class=\"data row11 col1\" >208,477.69</td>\n",
              "      <td id=\"T_66ab0_row11_col2\" class=\"data row11 col2\" >99,153.15</td>\n",
              "      <td id=\"T_66ab0_row11_col3\" class=\"data row11 col3\" >7,133.00</td>\n",
              "      <td id=\"T_66ab0_row11_col4\" class=\"data row11 col4\" >165,808.00</td>\n",
              "      <td id=\"T_66ab0_row11_col5\" class=\"data row11 col5\" >197,950.00</td>\n",
              "      <td id=\"T_66ab0_row11_col6\" class=\"data row11 col6\" >235,107.00</td>\n",
              "      <td id=\"T_66ab0_row11_col7\" class=\"data row11 col7\" >4,676,058.00</td>\n",
              "    </tr>\n",
              "    <tr>\n",
              "      <th id=\"T_66ab0_level0_row12\" class=\"row_heading level0 row12\" >time_signature</th>\n",
              "      <td id=\"T_66ab0_row12_col0\" class=\"data row12 col0\" >159,297.00</td>\n",
              "      <td id=\"T_66ab0_row12_col1\" class=\"data row12 col1\" >3.93</td>\n",
              "      <td id=\"T_66ab0_row12_col2\" class=\"data row12 col2\" >0.39</td>\n",
              "      <td id=\"T_66ab0_row12_col3\" class=\"data row12 col3\" >0.00</td>\n",
              "      <td id=\"T_66ab0_row12_col4\" class=\"data row12 col4\" >4.00</td>\n",
              "      <td id=\"T_66ab0_row12_col5\" class=\"data row12 col5\" >4.00</td>\n",
              "      <td id=\"T_66ab0_row12_col6\" class=\"data row12 col6\" >4.00</td>\n",
              "      <td id=\"T_66ab0_row12_col7\" class=\"data row12 col7\" >5.00</td>\n",
              "    </tr>\n",
              "  </tbody>\n",
              "</table>\n"
            ]
          },
          "metadata": {},
          "execution_count": 61
        }
      ]
    },
    {
      "cell_type": "markdown",
      "source": [
        "**Twitter API Variable / Feature Dictionary**\n",
        "\n",
        "*Artist* – Artist's name / stage name – Current Type: Object, Intended Type: String\n",
        "\n",
        "*Twitter Handle* – Twitter account username used to access relevant information – Current Type: Object, Intended Type: String\n",
        "\n",
        "*Twitter Acct. Creation Date* – Date a Twitter account was created – Current Type: Object, Intended Type: Datetime\n",
        "\n",
        "*Num. Followers* – Total number of followers a Twitter account has (most recently updated 11/28/22) – Current Type: Integer, Intended Type: Integer\n",
        "\n",
        "*Num Tweets* – Total number of tweets a Twitter account has made (including retweets) since account creation – Current Type: Integer, Intended Type: Integer"
      ],
      "metadata": {
        "id": "XEtw_Be6JIbq"
      }
    },
    {
      "cell_type": "code",
      "source": [
        "df_twt.info()"
      ],
      "metadata": {
        "colab": {
          "base_uri": "https://localhost:8080/"
        },
        "id": "9Q5-zQLtK9Ke",
        "outputId": "e5757dea-f98d-4cda-84dc-82895a5235fe"
      },
      "execution_count": null,
      "outputs": [
        {
          "output_type": "stream",
          "name": "stdout",
          "text": [
            "<class 'pandas.core.frame.DataFrame'>\n",
            "RangeIndex: 9421 entries, 0 to 9420\n",
            "Data columns (total 6 columns):\n",
            " #   Column                       Non-Null Count  Dtype \n",
            "---  ------                       --------------  ----- \n",
            " 0   Unnamed: 0                   9421 non-null   int64 \n",
            " 1   Artist                       9420 non-null   object\n",
            " 2   Twitter Handle               9419 non-null   object\n",
            " 3   Twitter Acct. Creation Date  9421 non-null   object\n",
            " 4   Num. Followers               9421 non-null   int64 \n",
            " 5   Num Tweets                   9421 non-null   int64 \n",
            "dtypes: int64(3), object(3)\n",
            "memory usage: 441.7+ KB\n"
          ]
        }
      ]
    },
    {
      "cell_type": "markdown",
      "source": [
        "**Genre Time Data Variable / Feature Dictionary**\n",
        "\n",
        "*Primary Genre* – Broad music category / genre measured over time – Current Type: Object, Intended Type: String\n",
        "\n",
        "*Years 1958 - 2022* – 0 or 1 value depending on if a genre is considered as \"major\" for a certain year, in which 0 corresponds with < 0.10 and 1 corresponds with >= 0.10 of top 100 Billboard chart in a certain year – Current Type: Integer, Intended Type: Integer"
      ],
      "metadata": {
        "id": "U-SiISqpKian"
      }
    },
    {
      "cell_type": "code",
      "source": [
        "df_genre.info()"
      ],
      "metadata": {
        "colab": {
          "base_uri": "https://localhost:8080/"
        },
        "id": "swWkqe8rLqjN",
        "outputId": "7664a5df-8935-491b-98e0-c633a63efcc8"
      },
      "execution_count": null,
      "outputs": [
        {
          "output_type": "stream",
          "name": "stdout",
          "text": [
            "<class 'pandas.core.frame.DataFrame'>\n",
            "RangeIndex: 16 entries, 0 to 15\n",
            "Data columns (total 66 columns):\n",
            " #   Column         Non-Null Count  Dtype \n",
            "---  ------         --------------  ----- \n",
            " 0   Primary Genre  16 non-null     object\n",
            " 1   1958           16 non-null     int64 \n",
            " 2   1959           16 non-null     int64 \n",
            " 3   1960           16 non-null     int64 \n",
            " 4   1961           16 non-null     int64 \n",
            " 5   1962           16 non-null     int64 \n",
            " 6   1963           16 non-null     int64 \n",
            " 7   1964           16 non-null     int64 \n",
            " 8   1965           16 non-null     int64 \n",
            " 9   1966           16 non-null     int64 \n",
            " 10  1967           16 non-null     int64 \n",
            " 11  1968           16 non-null     int64 \n",
            " 12  1969           16 non-null     int64 \n",
            " 13  1970           16 non-null     int64 \n",
            " 14  1971           16 non-null     int64 \n",
            " 15  1972           16 non-null     int64 \n",
            " 16  1973           16 non-null     int64 \n",
            " 17  1974           16 non-null     int64 \n",
            " 18  1975           16 non-null     int64 \n",
            " 19  1976           16 non-null     int64 \n",
            " 20  1977           16 non-null     int64 \n",
            " 21  1978           16 non-null     int64 \n",
            " 22  1979           16 non-null     int64 \n",
            " 23  1980           16 non-null     int64 \n",
            " 24  1981           16 non-null     int64 \n",
            " 25  1982           16 non-null     int64 \n",
            " 26  1983           16 non-null     int64 \n",
            " 27  1984           16 non-null     int64 \n",
            " 28  1985           16 non-null     int64 \n",
            " 29  1986           16 non-null     int64 \n",
            " 30  1987           16 non-null     int64 \n",
            " 31  1988           16 non-null     int64 \n",
            " 32  1989           16 non-null     int64 \n",
            " 33  1990           16 non-null     int64 \n",
            " 34  1991           16 non-null     int64 \n",
            " 35  1992           16 non-null     int64 \n",
            " 36  1993           16 non-null     int64 \n",
            " 37  1994           16 non-null     int64 \n",
            " 38  1995           16 non-null     int64 \n",
            " 39  1996           16 non-null     int64 \n",
            " 40  1997           16 non-null     int64 \n",
            " 41  1998           16 non-null     int64 \n",
            " 42  1999           16 non-null     int64 \n",
            " 43  2000           16 non-null     int64 \n",
            " 44  2001           16 non-null     int64 \n",
            " 45  2002           16 non-null     int64 \n",
            " 46  2003           16 non-null     int64 \n",
            " 47  2004           16 non-null     int64 \n",
            " 48  2005           16 non-null     int64 \n",
            " 49  2006           16 non-null     int64 \n",
            " 50  2007           16 non-null     int64 \n",
            " 51  2008           16 non-null     int64 \n",
            " 52  2009           16 non-null     int64 \n",
            " 53  2010           16 non-null     int64 \n",
            " 54  2011           16 non-null     int64 \n",
            " 55  2012           16 non-null     int64 \n",
            " 56  2013           16 non-null     int64 \n",
            " 57  2014           16 non-null     int64 \n",
            " 58  2015           16 non-null     int64 \n",
            " 59  2016           16 non-null     int64 \n",
            " 60  2017           16 non-null     int64 \n",
            " 61  2018           16 non-null     int64 \n",
            " 62  2019           16 non-null     int64 \n",
            " 63  2020           16 non-null     int64 \n",
            " 64  2021           16 non-null     int64 \n",
            " 65  2022           16 non-null     int64 \n",
            "dtypes: int64(65), object(1)\n",
            "memory usage: 8.4+ KB\n"
          ]
        }
      ]
    },
    {
      "cell_type": "markdown",
      "source": [
        "# Feature Engineering and Data Cleaning"
      ],
      "metadata": {
        "id": "z2J7HnA7tQcv"
      }
    },
    {
      "cell_type": "markdown",
      "source": [
        "**Initial Data Cleaning**"
      ],
      "metadata": {
        "id": "c4GQMkad0gMw"
      }
    },
    {
      "cell_type": "markdown",
      "source": [
        "*Kworb.net Dataset*"
      ],
      "metadata": {
        "id": "6HqDBmM89-_r"
      }
    },
    {
      "cell_type": "code",
      "source": [
        "# rename columns\n",
        "df_agg.columns = df_agg.columns.str.strip().str.lower()\n",
        "df_agg = df_agg.rename(columns={'title': 'song_title', 'streams': 'song_streams', \n",
        "  'total streams': 'artist_streams', 'peak date': 'peak_date'})\n",
        "\n",
        "# formatting artist name and track name to improve merge results\n",
        "df_agg['artist'] = df_agg['artist'].str.replace('[^\\w\\s]','')\n",
        "df_agg['artist'] = df_agg['artist'].str.lower()\n",
        "\n",
        "df_agg['song_title'] = df_agg['song_title'].str.replace('[^\\w\\s]','')\n",
        "df_agg['song_title'] = df_agg['song_title'].str.lower()\n",
        "\n",
        "# drop unusable columns\n",
        "df_agg = df_agg.drop(columns={'unnamed: 0', 'rank'})\n",
        "\n",
        "# drop unusable rows\n",
        "df_agg = df_agg.loc[df_agg['artist'].notna() & df_agg['song_title'].notna()]"
      ],
      "metadata": {
        "colab": {
          "base_uri": "https://localhost:8080/"
        },
        "id": "GhZqM9ZLGGwt",
        "outputId": "c527951b-3b83-4b46-98f4-70decc3bd1dd"
      },
      "execution_count": null,
      "outputs": [
        {
          "output_type": "stream",
          "name": "stderr",
          "text": [
            "/usr/local/lib/python3.7/dist-packages/ipykernel_launcher.py:7: FutureWarning: The default value of regex will change from True to False in a future version.\n",
            "  import sys\n",
            "/usr/local/lib/python3.7/dist-packages/ipykernel_launcher.py:10: FutureWarning: The default value of regex will change from True to False in a future version.\n",
            "  # Remove the CWD from sys.path while we load stuff.\n"
          ]
        }
      ]
    },
    {
      "cell_type": "markdown",
      "source": [
        "*Spotify Dataset*"
      ],
      "metadata": {
        "id": "s66LYPogFy-1"
      }
    },
    {
      "cell_type": "code",
      "source": [
        "# rename columns\n",
        "df_spot.columns = df_spot.columns.str.strip().str.lower()\n",
        "df_spot = df_spot.rename(columns={'track name': 'song_title', 'artist name': 'artist'})\n",
        "\n",
        "# clean artist and track data\n",
        "df_spot['artist'] = df_spot['artist'].str.replace('[^\\w\\s]','')\n",
        "df_spot['artist'] = df_spot['artist'].str.lower()\n",
        "df_spot['song_title'] = df_spot['song_title'].str.replace('[^\\w\\s]','')\n",
        "df_spot['song_title'] = df_spot['song_title'].str.lower()\n",
        "\n",
        "# drop data not retrieved from API\n",
        "df_spot = df_spot.dropna()\n",
        "\n",
        "# remove columns\n",
        "df_spot = df_spot.drop(columns=['key', 'time_signature'])\n",
        "\n",
        "# column type adjustments\n",
        "df_spot = df_spot.astype({'danceability': 'float'})\n",
        "\n",
        "# remove any potential duplicates\n",
        "df_spot = df_spot.drop_duplicates()"
      ],
      "metadata": {
        "colab": {
          "base_uri": "https://localhost:8080/"
        },
        "id": "T8B0liFvHpBo",
        "outputId": "25f55752-266a-4fb6-eb8b-5b6ad714d54f"
      },
      "execution_count": null,
      "outputs": [
        {
          "output_type": "stream",
          "name": "stderr",
          "text": [
            "/usr/local/lib/python3.7/dist-packages/ipykernel_launcher.py:6: FutureWarning: The default value of regex will change from True to False in a future version.\n",
            "  \n",
            "/usr/local/lib/python3.7/dist-packages/ipykernel_launcher.py:8: FutureWarning: The default value of regex will change from True to False in a future version.\n",
            "  \n"
          ]
        }
      ]
    },
    {
      "cell_type": "code",
      "source": [
        "# dealing with genre data\n",
        "# removing any slots with no genre\n",
        "df_spot_compr = df_spot.groupby('artist')['genre'].agg(pd.Series.mode)\n",
        "df_spot_compr = pd.DataFrame(df_spot_compr)\n",
        "\n",
        "def map_to_genre_div(x):\n",
        "  genre_str = x[1:-1]\n",
        "  if (type(genre_str) == str):\n",
        "    genre_list = genre_str.split(', ')\n",
        "\n",
        "    if (len(genre_list) == 0):\n",
        "      return 1\n",
        "    else:\n",
        "      return len(genre_list)\n",
        "  else:\n",
        "    return 1\n",
        "\n",
        "def map_to_dominant_genre(x):\n",
        "  if (type(x) == str):\n",
        "    if 'pop' in x:\n",
        "      return 'pop'\n",
        "    elif 'hip hop' in x or 'rap' in x or 'trap' in x:\n",
        "      return 'rap/hip-hop'\n",
        "    elif 'country' in x:\n",
        "      return 'country'\n",
        "    elif 'edm' in x or 'house' in x or 'trance' in x:\n",
        "      return 'edm'\n",
        "    elif 'r&b' in x:\n",
        "      return 'r&b'\n",
        "    elif 'rock' in x:\n",
        "      return 'rock'\n",
        "    else:\n",
        "      return 'misc'\n",
        "  else:\n",
        "    return 'misc'\n",
        "\n",
        "df_spot_compr['genre_div'] = df_spot_compr['genre'].apply(map_to_genre_div)\n",
        "df_spot_compr['genre_dom'] = df_spot_compr['genre'].apply(map_to_dominant_genre)\n",
        "df_spot_compr = df_spot_compr.drop(columns=['genre'])"
      ],
      "metadata": {
        "id": "C_Xydw5UCJkj"
      },
      "execution_count": null,
      "outputs": []
    },
    {
      "cell_type": "markdown",
      "source": [
        "*Twitter Dataset*"
      ],
      "metadata": {
        "id": "I7x1k8EiF2aP"
      }
    },
    {
      "cell_type": "code",
      "source": [
        "# rename columns\n",
        "df_twt.columns = df_twt.columns.str.strip().str.lower()\n",
        "df_twt = df_twt.rename(columns={'twitter handle': 'twt_handle', \n",
        "  'twitter acct. creation date': 'twt_create', 'num. followers': 'twt_follow', \n",
        "  'num tweets': 'twt_count'})\n",
        "\n",
        "# clean artist data\n",
        "df_twt['artist'] = df_twt['artist'].str.replace('[^\\w\\s]','')\n",
        "df_twt['artist'] = df_twt['artist'].str.lower()\n",
        "\n",
        "# fill twitter count data with 0 (corresponding with no tweets / followers) if NA\n",
        "df_twt['twt_follow'] = df_twt['twt_follow'].fillna(0)\n",
        "df_twt['twt_count'] = df_twt['twt_count'].fillna(0)\n",
        "\n",
        "# drop unusable columns\n",
        "df_twt = df_twt.drop(columns=['unnamed: 0'])"
      ],
      "metadata": {
        "colab": {
          "base_uri": "https://localhost:8080/"
        },
        "id": "r1ApEb5oIZwr",
        "outputId": "24f764eb-4d96-4e3f-b9e9-711c76d9c574"
      },
      "execution_count": null,
      "outputs": [
        {
          "output_type": "stream",
          "name": "stderr",
          "text": [
            "/usr/local/lib/python3.7/dist-packages/ipykernel_launcher.py:8: FutureWarning: The default value of regex will change from True to False in a future version.\n",
            "  \n"
          ]
        }
      ]
    },
    {
      "cell_type": "markdown",
      "source": [
        "**Feature Engineering (by dataset)**"
      ],
      "metadata": {
        "id": "-RJvUJKHvNK5"
      }
    },
    {
      "cell_type": "markdown",
      "source": [
        "*Kworb.net Dataset*\n",
        "\n",
        "avg_streams – measured as average number of Spotify streams / listens for a song across all of an artist's available discography present in data"
      ],
      "metadata": {
        "id": "DHSerx1crPEU"
      }
    },
    {
      "cell_type": "code",
      "source": [
        "# create dataframe with artist names\n",
        "df_artists = pd.DataFrame(df_agg['artist'].unique())\n",
        "artist_cols = ['artist']\n",
        "df_artists.columns = artist_cols\n",
        "\n",
        "# calculate average streams per artist using groupby\n",
        "df_avg_stream = df_agg.groupby('artist')['song_streams'].mean()\n",
        "avg_stream_cols = ['avg_streams']\n",
        "df_avg_stream = pd.DataFrame(df_avg_stream)\n",
        "df_avg_stream.columns = avg_stream_cols\n",
        "\n",
        "# merging back and creating new dataframe\n",
        "df_agg_clean = pd.merge(df_artists, df_avg_stream, on='artist')"
      ],
      "metadata": {
        "id": "hLa9RZOmreZn"
      },
      "execution_count": null,
      "outputs": []
    },
    {
      "cell_type": "markdown",
      "source": [
        "*Spotify Dataset*\n",
        "\n",
        "avg_collab – measured as average number of collaborators on each of an artist's songs across entire discography\n",
        "\n",
        "song_features – various song-specific features (0 - 1 scale mostly) averaged out across all songs in dataset"
      ],
      "metadata": {
        "id": "43d1pMhMrS7h"
      }
    },
    {
      "cell_type": "code",
      "source": [
        "# drop unnecessary columns\n",
        "df_spot = df_spot.drop(columns=['song_title', 'genre'])\n",
        "\n",
        "# convert duration_ms to minutes\n",
        "df_spot['duration_min'] = df_spot['duration_ms'] / 60000\n",
        "df_spot = df_spot.drop(columns=['duration_ms']) \n",
        "\n",
        "# calculate means\n",
        "df_spot['collabs'] = df_spot['collabs'] - 1\n",
        "df_spot = df_spot.groupby('artist').mean()\n",
        "\n",
        "# rename columns\n",
        "df_spot = df_spot.rename(columns={'collabs': 'avg_collab', 'danceability': 'avg_dance', \n",
        "  'energy': 'avg_energy', 'loudness': 'avg_loud', 'speechiness': 'avg_spch', 'acousticness': 'avg_acoust',\n",
        "  'instrumentalness': 'avg_instr', 'liveness': 'avg_live', 'valence': 'avg_val', 'tempo': 'avg_temp',\n",
        "  'duration_min': 'avg_dur', 'mode': 'avg_mode'})\n",
        "\n",
        "df_spot_clean = df_spot"
      ],
      "metadata": {
        "id": "F3FA-Gkfwpz6"
      },
      "execution_count": null,
      "outputs": []
    },
    {
      "cell_type": "markdown",
      "source": [
        "Dominant genre and genre diversity metric was previously calculated above, will be included in merge down below."
      ],
      "metadata": {
        "id": "g0pU8NDpZTak"
      }
    },
    {
      "cell_type": "markdown",
      "source": [
        "*Twitter Dataset*\n",
        "\n",
        "twt_freq – measured as number of tweets on average per week over existence of account"
      ],
      "metadata": {
        "id": "SzxRxIAkrVPV"
      }
    },
    {
      "cell_type": "code",
      "source": [
        "# convert twt_create to datetime\n",
        "df_twt['twt_create'] = pd.to_datetime(df_twt['twt_create'])\n",
        "\n",
        "# create diff_weeks column\n",
        "today = datetime.datetime(2022, 11, 28)\n",
        "df_twt['current_date'] = today\n",
        "df_twt['twt_create'] = df_twt['twt_create'].dt.tz_localize(None)\n",
        "df_twt['diff_weeks'] = np.trunc((df_twt['current_date'] - df_twt['twt_create']) / np.timedelta64(1, 'W'))\n",
        "\n",
        "# create twt_freq variable\n",
        "df_twt['twt_freq'] = df_twt['twt_count'] / df_twt['diff_weeks']\n",
        "df_twt = df_twt.drop(columns=['twt_handle', 'twt_create', 'twt_follow', 'twt_count', 'current_date', 'diff_weeks'])\n",
        "\n",
        "# merging back and creating new dataframe\n",
        "df_twt_clean = pd.merge(df_artists, df_twt, on='artist')"
      ],
      "metadata": {
        "id": "An65QP1bs864"
      },
      "execution_count": null,
      "outputs": []
    },
    {
      "cell_type": "markdown",
      "source": [
        "**Merge Datasets**"
      ],
      "metadata": {
        "id": "E39kddK6v2H0"
      }
    },
    {
      "cell_type": "code",
      "source": [
        "df_clean = pd.merge(df_agg_clean, df_twt_clean, on='artist')\n",
        "df_clean = pd.merge(df_clean, df_spot_compr, on='artist')\n",
        "df_clean = pd.merge(df_clean, df_spot_clean, on='artist')\n",
        "\n",
        "df_clean = df_clean.drop(columns=['artist'])"
      ],
      "metadata": {
        "id": "GxUGAhGVcOMD"
      },
      "execution_count": null,
      "outputs": []
    },
    {
      "cell_type": "markdown",
      "source": [
        "**Post-Feature Engineering Data Cleaning**"
      ],
      "metadata": {
        "id": "iJ1njHeevQRX"
      }
    },
    {
      "cell_type": "code",
      "source": [
        "df_clean = (\n",
        "    df_clean\n",
        "    .assign(genre_dom=lambda x: x.genre_dom.astype('category'))\n",
        ")\n",
        "df_clean.info()"
      ],
      "metadata": {
        "colab": {
          "base_uri": "https://localhost:8080/"
        },
        "id": "-CPp8KAsRF5Q",
        "outputId": "b080a89e-85a8-4645-a85d-7a1c9cc353fa"
      },
      "execution_count": null,
      "outputs": [
        {
          "output_type": "stream",
          "name": "stdout",
          "text": [
            "<class 'pandas.core.frame.DataFrame'>\n",
            "Int64Index: 6683 entries, 0 to 6682\n",
            "Data columns (total 16 columns):\n",
            " #   Column       Non-Null Count  Dtype   \n",
            "---  ------       --------------  -----   \n",
            " 0   avg_streams  6683 non-null   float64 \n",
            " 1   twt_freq     6683 non-null   float64 \n",
            " 2   genre_div    6683 non-null   int64   \n",
            " 3   genre_dom    6683 non-null   category\n",
            " 4   avg_collab   6683 non-null   float64 \n",
            " 5   avg_dance    6683 non-null   float64 \n",
            " 6   avg_energy   6683 non-null   float64 \n",
            " 7   avg_loud     6683 non-null   float64 \n",
            " 8   avg_mode     6683 non-null   float64 \n",
            " 9   avg_spch     6683 non-null   float64 \n",
            " 10  avg_acoust   6683 non-null   float64 \n",
            " 11  avg_instr    6683 non-null   float64 \n",
            " 12  avg_live     6683 non-null   float64 \n",
            " 13  avg_val      6683 non-null   float64 \n",
            " 14  avg_temp     6683 non-null   float64 \n",
            " 15  avg_dur      6683 non-null   float64 \n",
            "dtypes: category(1), float64(14), int64(1)\n",
            "memory usage: 842.2 KB\n"
          ]
        }
      ]
    },
    {
      "cell_type": "code",
      "source": [
        "vlist = [c for c in df_clean.columns]\n",
        "df_clean[vlist].describe().T.style.format(\"{:,.2f}\")"
      ],
      "metadata": {
        "colab": {
          "base_uri": "https://localhost:8080/"
        },
        "id": "Wv5vSfmRhC9F",
        "outputId": "8a66f204-f7fb-4f76-d402-6643d31d1502"
      },
      "execution_count": null,
      "outputs": [
        {
          "output_type": "execute_result",
          "data": {
            "text/plain": [
              "<pandas.io.formats.style.Styler at 0x7f3990011350>"
            ],
            "text/html": [
              "<style type=\"text/css\">\n",
              "</style>\n",
              "<table id=\"T_bbce6_\" class=\"dataframe\">\n",
              "  <thead>\n",
              "    <tr>\n",
              "      <th class=\"blank level0\" >&nbsp;</th>\n",
              "      <th class=\"col_heading level0 col0\" >count</th>\n",
              "      <th class=\"col_heading level0 col1\" >mean</th>\n",
              "      <th class=\"col_heading level0 col2\" >std</th>\n",
              "      <th class=\"col_heading level0 col3\" >min</th>\n",
              "      <th class=\"col_heading level0 col4\" >25%</th>\n",
              "      <th class=\"col_heading level0 col5\" >50%</th>\n",
              "      <th class=\"col_heading level0 col6\" >75%</th>\n",
              "      <th class=\"col_heading level0 col7\" >max</th>\n",
              "    </tr>\n",
              "  </thead>\n",
              "  <tbody>\n",
              "    <tr>\n",
              "      <th id=\"T_bbce6_level0_row0\" class=\"row_heading level0 row0\" >avg_streams</th>\n",
              "      <td id=\"T_bbce6_row0_col0\" class=\"data row0 col0\" >6,683.00</td>\n",
              "      <td id=\"T_bbce6_row0_col1\" class=\"data row0 col1\" >15,073,761.43</td>\n",
              "      <td id=\"T_bbce6_row0_col2\" class=\"data row0 col2\" >32,522,431.76</td>\n",
              "      <td id=\"T_bbce6_row0_col3\" class=\"data row0 col3\" >75,992.62</td>\n",
              "      <td id=\"T_bbce6_row0_col4\" class=\"data row0 col4\" >1,957,225.23</td>\n",
              "      <td id=\"T_bbce6_row0_col5\" class=\"data row0 col5\" >5,432,757.00</td>\n",
              "      <td id=\"T_bbce6_row0_col6\" class=\"data row0 col6\" >14,304,296.80</td>\n",
              "      <td id=\"T_bbce6_row0_col7\" class=\"data row0 col7\" >630,732,589.00</td>\n",
              "    </tr>\n",
              "    <tr>\n",
              "      <th id=\"T_bbce6_level0_row1\" class=\"row_heading level0 row1\" >twt_freq</th>\n",
              "      <td id=\"T_bbce6_row1_col0\" class=\"data row1 col0\" >6,683.00</td>\n",
              "      <td id=\"T_bbce6_row1_col1\" class=\"data row1 col1\" >inf</td>\n",
              "      <td id=\"T_bbce6_row1_col2\" class=\"data row1 col2\" >nan</td>\n",
              "      <td id=\"T_bbce6_row1_col3\" class=\"data row1 col3\" >0.00</td>\n",
              "      <td id=\"T_bbce6_row1_col4\" class=\"data row1 col4\" >1.54</td>\n",
              "      <td id=\"T_bbce6_row1_col5\" class=\"data row1 col5\" >7.58</td>\n",
              "      <td id=\"T_bbce6_row1_col6\" class=\"data row1 col6\" >23.33</td>\n",
              "      <td id=\"T_bbce6_row1_col7\" class=\"data row1 col7\" >inf</td>\n",
              "    </tr>\n",
              "    <tr>\n",
              "      <th id=\"T_bbce6_level0_row2\" class=\"row_heading level0 row2\" >genre_div</th>\n",
              "      <td id=\"T_bbce6_row2_col0\" class=\"data row2 col0\" >6,683.00</td>\n",
              "      <td id=\"T_bbce6_row2_col1\" class=\"data row2 col1\" >2.32</td>\n",
              "      <td id=\"T_bbce6_row2_col2\" class=\"data row2 col2\" >1.66</td>\n",
              "      <td id=\"T_bbce6_row2_col3\" class=\"data row2 col3\" >1.00</td>\n",
              "      <td id=\"T_bbce6_row2_col4\" class=\"data row2 col4\" >1.00</td>\n",
              "      <td id=\"T_bbce6_row2_col5\" class=\"data row2 col5\" >2.00</td>\n",
              "      <td id=\"T_bbce6_row2_col6\" class=\"data row2 col6\" >3.00</td>\n",
              "      <td id=\"T_bbce6_row2_col7\" class=\"data row2 col7\" >14.00</td>\n",
              "    </tr>\n",
              "    <tr>\n",
              "      <th id=\"T_bbce6_level0_row3\" class=\"row_heading level0 row3\" >avg_collab</th>\n",
              "      <td id=\"T_bbce6_row3_col0\" class=\"data row3 col0\" >6,683.00</td>\n",
              "      <td id=\"T_bbce6_row3_col1\" class=\"data row3 col1\" >0.76</td>\n",
              "      <td id=\"T_bbce6_row3_col2\" class=\"data row3 col2\" >0.71</td>\n",
              "      <td id=\"T_bbce6_row3_col3\" class=\"data row3 col3\" >0.00</td>\n",
              "      <td id=\"T_bbce6_row3_col4\" class=\"data row3 col4\" >0.30</td>\n",
              "      <td id=\"T_bbce6_row3_col5\" class=\"data row3 col5\" >0.59</td>\n",
              "      <td id=\"T_bbce6_row3_col6\" class=\"data row3 col6\" >1.00</td>\n",
              "      <td id=\"T_bbce6_row3_col7\" class=\"data row3 col7\" >8.37</td>\n",
              "    </tr>\n",
              "    <tr>\n",
              "      <th id=\"T_bbce6_level0_row4\" class=\"row_heading level0 row4\" >avg_dance</th>\n",
              "      <td id=\"T_bbce6_row4_col0\" class=\"data row4 col0\" >6,683.00</td>\n",
              "      <td id=\"T_bbce6_row4_col1\" class=\"data row4 col1\" >0.65</td>\n",
              "      <td id=\"T_bbce6_row4_col2\" class=\"data row4 col2\" >0.09</td>\n",
              "      <td id=\"T_bbce6_row4_col3\" class=\"data row4 col3\" >0.32</td>\n",
              "      <td id=\"T_bbce6_row4_col4\" class=\"data row4 col4\" >0.59</td>\n",
              "      <td id=\"T_bbce6_row4_col5\" class=\"data row4 col5\" >0.65</td>\n",
              "      <td id=\"T_bbce6_row4_col6\" class=\"data row4 col6\" >0.71</td>\n",
              "      <td id=\"T_bbce6_row4_col7\" class=\"data row4 col7\" >0.89</td>\n",
              "    </tr>\n",
              "    <tr>\n",
              "      <th id=\"T_bbce6_level0_row5\" class=\"row_heading level0 row5\" >avg_energy</th>\n",
              "      <td id=\"T_bbce6_row5_col0\" class=\"data row5 col0\" >6,683.00</td>\n",
              "      <td id=\"T_bbce6_row5_col1\" class=\"data row5 col1\" >0.62</td>\n",
              "      <td id=\"T_bbce6_row5_col2\" class=\"data row5 col2\" >0.11</td>\n",
              "      <td id=\"T_bbce6_row5_col3\" class=\"data row5 col3\" >0.12</td>\n",
              "      <td id=\"T_bbce6_row5_col4\" class=\"data row5 col4\" >0.55</td>\n",
              "      <td id=\"T_bbce6_row5_col5\" class=\"data row5 col5\" >0.63</td>\n",
              "      <td id=\"T_bbce6_row5_col6\" class=\"data row5 col6\" >0.69</td>\n",
              "      <td id=\"T_bbce6_row5_col7\" class=\"data row5 col7\" >0.95</td>\n",
              "    </tr>\n",
              "    <tr>\n",
              "      <th id=\"T_bbce6_level0_row6\" class=\"row_heading level0 row6\" >avg_loud</th>\n",
              "      <td id=\"T_bbce6_row6_col0\" class=\"data row6 col0\" >6,683.00</td>\n",
              "      <td id=\"T_bbce6_row6_col1\" class=\"data row6 col1\" >-7.83</td>\n",
              "      <td id=\"T_bbce6_row6_col2\" class=\"data row6 col2\" >2.22</td>\n",
              "      <td id=\"T_bbce6_row6_col3\" class=\"data row6 col3\" >-21.05</td>\n",
              "      <td id=\"T_bbce6_row6_col4\" class=\"data row6 col4\" >-8.93</td>\n",
              "      <td id=\"T_bbce6_row6_col5\" class=\"data row6 col5\" >-7.56</td>\n",
              "      <td id=\"T_bbce6_row6_col6\" class=\"data row6 col6\" >-6.37</td>\n",
              "      <td id=\"T_bbce6_row6_col7\" class=\"data row6 col7\" >-0.22</td>\n",
              "    </tr>\n",
              "    <tr>\n",
              "      <th id=\"T_bbce6_level0_row7\" class=\"row_heading level0 row7\" >avg_mode</th>\n",
              "      <td id=\"T_bbce6_row7_col0\" class=\"data row7 col0\" >6,683.00</td>\n",
              "      <td id=\"T_bbce6_row7_col1\" class=\"data row7 col1\" >0.57</td>\n",
              "      <td id=\"T_bbce6_row7_col2\" class=\"data row7 col2\" >0.18</td>\n",
              "      <td id=\"T_bbce6_row7_col3\" class=\"data row7 col3\" >0.00</td>\n",
              "      <td id=\"T_bbce6_row7_col4\" class=\"data row7 col4\" >0.45</td>\n",
              "      <td id=\"T_bbce6_row7_col5\" class=\"data row7 col5\" >0.58</td>\n",
              "      <td id=\"T_bbce6_row7_col6\" class=\"data row7 col6\" >0.70</td>\n",
              "      <td id=\"T_bbce6_row7_col7\" class=\"data row7 col7\" >1.00</td>\n",
              "    </tr>\n",
              "    <tr>\n",
              "      <th id=\"T_bbce6_level0_row8\" class=\"row_heading level0 row8\" >avg_spch</th>\n",
              "      <td id=\"T_bbce6_row8_col0\" class=\"data row8 col0\" >6,683.00</td>\n",
              "      <td id=\"T_bbce6_row8_col1\" class=\"data row8 col1\" >0.12</td>\n",
              "      <td id=\"T_bbce6_row8_col2\" class=\"data row8 col2\" >0.07</td>\n",
              "      <td id=\"T_bbce6_row8_col3\" class=\"data row8 col3\" >0.03</td>\n",
              "      <td id=\"T_bbce6_row8_col4\" class=\"data row8 col4\" >0.07</td>\n",
              "      <td id=\"T_bbce6_row8_col5\" class=\"data row8 col5\" >0.10</td>\n",
              "      <td id=\"T_bbce6_row8_col6\" class=\"data row8 col6\" >0.15</td>\n",
              "      <td id=\"T_bbce6_row8_col7\" class=\"data row8 col7\" >0.71</td>\n",
              "    </tr>\n",
              "    <tr>\n",
              "      <th id=\"T_bbce6_level0_row9\" class=\"row_heading level0 row9\" >avg_acoust</th>\n",
              "      <td id=\"T_bbce6_row9_col0\" class=\"data row9 col0\" >6,683.00</td>\n",
              "      <td id=\"T_bbce6_row9_col1\" class=\"data row9 col1\" >0.30</td>\n",
              "      <td id=\"T_bbce6_row9_col2\" class=\"data row9 col2\" >0.15</td>\n",
              "      <td id=\"T_bbce6_row9_col3\" class=\"data row9 col3\" >0.00</td>\n",
              "      <td id=\"T_bbce6_row9_col4\" class=\"data row9 col4\" >0.20</td>\n",
              "      <td id=\"T_bbce6_row9_col5\" class=\"data row9 col5\" >0.29</td>\n",
              "      <td id=\"T_bbce6_row9_col6\" class=\"data row9 col6\" >0.39</td>\n",
              "      <td id=\"T_bbce6_row9_col7\" class=\"data row9 col7\" >0.98</td>\n",
              "    </tr>\n",
              "    <tr>\n",
              "      <th id=\"T_bbce6_level0_row10\" class=\"row_heading level0 row10\" >avg_instr</th>\n",
              "      <td id=\"T_bbce6_row10_col0\" class=\"data row10 col0\" >6,683.00</td>\n",
              "      <td id=\"T_bbce6_row10_col1\" class=\"data row10 col1\" >0.09</td>\n",
              "      <td id=\"T_bbce6_row10_col2\" class=\"data row10 col2\" >0.11</td>\n",
              "      <td id=\"T_bbce6_row10_col3\" class=\"data row10 col3\" >0.00</td>\n",
              "      <td id=\"T_bbce6_row10_col4\" class=\"data row10 col4\" >0.00</td>\n",
              "      <td id=\"T_bbce6_row10_col5\" class=\"data row10 col5\" >0.05</td>\n",
              "      <td id=\"T_bbce6_row10_col6\" class=\"data row10 col6\" >0.14</td>\n",
              "      <td id=\"T_bbce6_row10_col7\" class=\"data row10 col7\" >0.94</td>\n",
              "    </tr>\n",
              "    <tr>\n",
              "      <th id=\"T_bbce6_level0_row11\" class=\"row_heading level0 row11\" >avg_live</th>\n",
              "      <td id=\"T_bbce6_row11_col0\" class=\"data row11 col0\" >6,683.00</td>\n",
              "      <td id=\"T_bbce6_row11_col1\" class=\"data row11 col1\" >0.18</td>\n",
              "      <td id=\"T_bbce6_row11_col2\" class=\"data row11 col2\" >0.05</td>\n",
              "      <td id=\"T_bbce6_row11_col3\" class=\"data row11 col3\" >0.07</td>\n",
              "      <td id=\"T_bbce6_row11_col4\" class=\"data row11 col4\" >0.15</td>\n",
              "      <td id=\"T_bbce6_row11_col5\" class=\"data row11 col5\" >0.17</td>\n",
              "      <td id=\"T_bbce6_row11_col6\" class=\"data row11 col6\" >0.21</td>\n",
              "      <td id=\"T_bbce6_row11_col7\" class=\"data row11 col7\" >0.63</td>\n",
              "    </tr>\n",
              "    <tr>\n",
              "      <th id=\"T_bbce6_level0_row12\" class=\"row_heading level0 row12\" >avg_val</th>\n",
              "      <td id=\"T_bbce6_row12_col0\" class=\"data row12 col0\" >6,683.00</td>\n",
              "      <td id=\"T_bbce6_row12_col1\" class=\"data row12 col1\" >0.51</td>\n",
              "      <td id=\"T_bbce6_row12_col2\" class=\"data row12 col2\" >0.12</td>\n",
              "      <td id=\"T_bbce6_row12_col3\" class=\"data row12 col3\" >0.12</td>\n",
              "      <td id=\"T_bbce6_row12_col4\" class=\"data row12 col4\" >0.43</td>\n",
              "      <td id=\"T_bbce6_row12_col5\" class=\"data row12 col5\" >0.51</td>\n",
              "      <td id=\"T_bbce6_row12_col6\" class=\"data row12 col6\" >0.59</td>\n",
              "      <td id=\"T_bbce6_row12_col7\" class=\"data row12 col7\" >0.94</td>\n",
              "    </tr>\n",
              "    <tr>\n",
              "      <th id=\"T_bbce6_level0_row13\" class=\"row_heading level0 row13\" >avg_temp</th>\n",
              "      <td id=\"T_bbce6_row13_col0\" class=\"data row13 col0\" >6,683.00</td>\n",
              "      <td id=\"T_bbce6_row13_col1\" class=\"data row13 col1\" >121.18</td>\n",
              "      <td id=\"T_bbce6_row13_col2\" class=\"data row13 col2\" >8.74</td>\n",
              "      <td id=\"T_bbce6_row13_col3\" class=\"data row13 col3\" >84.84</td>\n",
              "      <td id=\"T_bbce6_row13_col4\" class=\"data row13 col4\" >115.41</td>\n",
              "      <td id=\"T_bbce6_row13_col5\" class=\"data row13 col5\" >120.99</td>\n",
              "      <td id=\"T_bbce6_row13_col6\" class=\"data row13 col6\" >126.69</td>\n",
              "      <td id=\"T_bbce6_row13_col7\" class=\"data row13 col7\" >166.04</td>\n",
              "    </tr>\n",
              "    <tr>\n",
              "      <th id=\"T_bbce6_level0_row14\" class=\"row_heading level0 row14\" >avg_dur</th>\n",
              "      <td id=\"T_bbce6_row14_col0\" class=\"data row14 col0\" >6,683.00</td>\n",
              "      <td id=\"T_bbce6_row14_col1\" class=\"data row14 col1\" >3.48</td>\n",
              "      <td id=\"T_bbce6_row14_col2\" class=\"data row14 col2\" >0.65</td>\n",
              "      <td id=\"T_bbce6_row14_col3\" class=\"data row14 col3\" >1.16</td>\n",
              "      <td id=\"T_bbce6_row14_col4\" class=\"data row14 col4\" >3.09</td>\n",
              "      <td id=\"T_bbce6_row14_col5\" class=\"data row14 col5\" >3.39</td>\n",
              "      <td id=\"T_bbce6_row14_col6\" class=\"data row14 col6\" >3.76</td>\n",
              "      <td id=\"T_bbce6_row14_col7\" class=\"data row14 col7\" >11.92</td>\n",
              "    </tr>\n",
              "  </tbody>\n",
              "</table>\n"
            ]
          },
          "metadata": {},
          "execution_count": 73
        }
      ]
    },
    {
      "cell_type": "markdown",
      "source": [
        "*Invalid Values*\n",
        "\n",
        "We can see above that twt_freq has some invalid values, likely caused by a division by zero. We'll clear that below by setting twt_freq as 0 for those values."
      ],
      "metadata": {
        "id": "9M6wEFG5hcX7"
      }
    },
    {
      "cell_type": "code",
      "source": [
        "df_clean['twt_freq'].replace([np. inf, -np. inf], 0, inplace=True)"
      ],
      "metadata": {
        "id": "fZkR21fNh-IJ"
      },
      "execution_count": null,
      "outputs": []
    },
    {
      "cell_type": "markdown",
      "source": [
        "*Outliers*"
      ],
      "metadata": {
        "id": "ZJWE1ITtvq_b"
      }
    },
    {
      "cell_type": "code",
      "source": [
        "df_clean['avg_streams'].hist()"
      ],
      "metadata": {
        "colab": {
          "base_uri": "https://localhost:8080/"
        },
        "id": "0Xv4Re9cf9tP",
        "outputId": "800f39d2-8b1b-4784-c4cf-e8262774ae43"
      },
      "execution_count": null,
      "outputs": [
        {
          "output_type": "execute_result",
          "data": {
            "text/plain": [
              "<matplotlib.axes._subplots.AxesSubplot at 0x7f398fb69c10>"
            ]
          },
          "metadata": {},
          "execution_count": 75
        },
        {
          "output_type": "display_data",
          "data": {
            "text/plain": [
              "<Figure size 432x288 with 1 Axes>"
            ],
            "image/png": "[encoded data removed]"
          },
          "metadata": {
            "needs_background": "light"
          }
        }
      ]
    },
    {
      "cell_type": "code",
      "source": [
        "df_clean['avg_streams'] = np.log10(df_clean['avg_streams'])\n",
        "df_clean['avg_streams'].hist()"
      ],
      "metadata": {
        "colab": {
          "base_uri": "https://localhost:8080/"
        },
        "id": "OI1RYWBMgo2o",
        "outputId": "aeccbae9-e182-4e6f-9f37-0bfe51d7dced"
      },
      "execution_count": null,
      "outputs": [
        {
          "output_type": "execute_result",
          "data": {
            "text/plain": [
              "<matplotlib.axes._subplots.AxesSubplot at 0x7f39905e5610>"
            ]
          },
          "metadata": {},
          "execution_count": 76
        },
        {
          "output_type": "display_data",
          "data": {
            "text/plain": [
              "<Figure size 432x288 with 1 Axes>"
            ],
            "image/png": "[encoded data removed]"
          },
          "metadata": {
            "needs_background": "light"
          }
        }
      ]
    },
    {
      "cell_type": "markdown",
      "source": [
        "**Train-Test Split**"
      ],
      "metadata": {
        "id": "AX8Zy0avvR_R"
      }
    },
    {
      "cell_type": "code",
      "source": [
        "train_size = 0.8\n",
        "df_train = df_clean.sample(frac=train_size, random_state=SEED)\n",
        "train_idx = df_train.index\n",
        "df_test = df_clean.loc[~(df_clean.index.isin(train_idx))]"
      ],
      "metadata": {
        "id": "unaK0J8r6iOt"
      },
      "execution_count": null,
      "outputs": []
    },
    {
      "cell_type": "code",
      "source": [
        "# creating column list\n",
        "cat_list = [c for c in df_clean.columns if (c == 'genre_dom')]\n",
        "num_list = [c for c in df_clean.columns if (c != 'genre_dom')]"
      ],
      "metadata": {
        "id": "1CgMDbW27Xdf"
      },
      "execution_count": null,
      "outputs": []
    },
    {
      "cell_type": "markdown",
      "source": [
        "*Float Variables*"
      ],
      "metadata": {
        "id": "VTtK8lee63P4"
      }
    },
    {
      "cell_type": "markdown",
      "source": [
        "Sample Mean Equality"
      ],
      "metadata": {
        "id": "0p1zWe-T7PU8"
      }
    },
    {
      "cell_type": "code",
      "source": [
        "mu=df_clean[num_list].mean()\n",
        "se=df_clean[num_list].std()/np.sqrt(len(df_clean))\n",
        "\n",
        "mu_train=df_train[num_list].mean()\n",
        "se_train=df_train[num_list].std()/np.sqrt(len(df_train))\n",
        "\n",
        "mu_test=df_test[num_list].mean()\n",
        "se_test=df_test[num_list].std()/np.sqrt(len(df_test))\n",
        "\n",
        "t_train=(mu - mu_train) / np.sqrt(se**2 + se_train**2)\n",
        "t_test=(mu - mu_test) / np.sqrt(se**2 + se_test**2)\n",
        "\n",
        "x = pd.concat((mu,mu_train,mu_test,t_train,t_test),\n",
        "          axis=1,\n",
        "          keys=['avg-full','avg-train','avg-test','t_train','t_test']\n",
        "         )\n",
        "\n",
        "# test for significance\n",
        "\n",
        "x.style.format(\"{:.2f}\")"
      ],
      "metadata": {
        "colab": {
          "base_uri": "https://localhost:8080/"
        },
        "id": "gdJCeF2Z75yZ",
        "outputId": "4e377b12-4ad7-4930-90cb-3719dacf33a6"
      },
      "execution_count": null,
      "outputs": [
        {
          "output_type": "execute_result",
          "data": {
            "text/plain": [
              "<pandas.io.formats.style.Styler at 0x7f398e729490>"
            ],
            "text/html": [
              "<style type=\"text/css\">\n",
              "</style>\n",
              "<table id=\"T_2680a_\" class=\"dataframe\">\n",
              "  <thead>\n",
              "    <tr>\n",
              "      <th class=\"blank level0\" >&nbsp;</th>\n",
              "      <th class=\"col_heading level0 col0\" >avg-full</th>\n",
              "      <th class=\"col_heading level0 col1\" >avg-train</th>\n",
              "      <th class=\"col_heading level0 col2\" >avg-test</th>\n",
              "      <th class=\"col_heading level0 col3\" >t_train</th>\n",
              "      <th class=\"col_heading level0 col4\" >t_test</th>\n",
              "    </tr>\n",
              "  </thead>\n",
              "  <tbody>\n",
              "    <tr>\n",
              "      <th id=\"T_2680a_level0_row0\" class=\"row_heading level0 row0\" >avg_streams</th>\n",
              "      <td id=\"T_2680a_row0_col0\" class=\"data row0 col0\" >6.74</td>\n",
              "      <td id=\"T_2680a_row0_col1\" class=\"data row0 col1\" >6.74</td>\n",
              "      <td id=\"T_2680a_row0_col2\" class=\"data row0 col2\" >6.72</td>\n",
              "      <td id=\"T_2680a_row0_col3\" class=\"data row0 col3\" >-0.40</td>\n",
              "      <td id=\"T_2680a_row0_col4\" class=\"data row0 col4\" >0.96</td>\n",
              "    </tr>\n",
              "    <tr>\n",
              "      <th id=\"T_2680a_level0_row1\" class=\"row_heading level0 row1\" >twt_freq</th>\n",
              "      <td id=\"T_2680a_row1_col0\" class=\"data row1 col0\" >22.44</td>\n",
              "      <td id=\"T_2680a_row1_col1\" class=\"data row1 col1\" >22.18</td>\n",
              "      <td id=\"T_2680a_row1_col2\" class=\"data row1 col2\" >23.48</td>\n",
              "      <td id=\"T_2680a_row1_col3\" class=\"data row1 col3\" >0.29</td>\n",
              "      <td id=\"T_2680a_row1_col4\" class=\"data row1 col4\" >-0.54</td>\n",
              "    </tr>\n",
              "    <tr>\n",
              "      <th id=\"T_2680a_level0_row2\" class=\"row_heading level0 row2\" >genre_div</th>\n",
              "      <td id=\"T_2680a_row2_col0\" class=\"data row2 col0\" >2.32</td>\n",
              "      <td id=\"T_2680a_row2_col1\" class=\"data row2 col1\" >2.32</td>\n",
              "      <td id=\"T_2680a_row2_col2\" class=\"data row2 col2\" >2.33</td>\n",
              "      <td id=\"T_2680a_row2_col3\" class=\"data row2 col3\" >0.04</td>\n",
              "      <td id=\"T_2680a_row2_col4\" class=\"data row2 col4\" >-0.09</td>\n",
              "    </tr>\n",
              "    <tr>\n",
              "      <th id=\"T_2680a_level0_row3\" class=\"row_heading level0 row3\" >avg_collab</th>\n",
              "      <td id=\"T_2680a_row3_col0\" class=\"data row3 col0\" >0.76</td>\n",
              "      <td id=\"T_2680a_row3_col1\" class=\"data row3 col1\" >0.77</td>\n",
              "      <td id=\"T_2680a_row3_col2\" class=\"data row3 col2\" >0.74</td>\n",
              "      <td id=\"T_2680a_row3_col3\" class=\"data row3 col3\" >-0.41</td>\n",
              "      <td id=\"T_2680a_row3_col4\" class=\"data row3 col4\" >1.03</td>\n",
              "    </tr>\n",
              "    <tr>\n",
              "      <th id=\"T_2680a_level0_row4\" class=\"row_heading level0 row4\" >avg_dance</th>\n",
              "      <td id=\"T_2680a_row4_col0\" class=\"data row4 col0\" >0.65</td>\n",
              "      <td id=\"T_2680a_row4_col1\" class=\"data row4 col1\" >0.65</td>\n",
              "      <td id=\"T_2680a_row4_col2\" class=\"data row4 col2\" >0.65</td>\n",
              "      <td id=\"T_2680a_row4_col3\" class=\"data row4 col3\" >0.08</td>\n",
              "      <td id=\"T_2680a_row4_col4\" class=\"data row4 col4\" >-0.19</td>\n",
              "    </tr>\n",
              "    <tr>\n",
              "      <th id=\"T_2680a_level0_row5\" class=\"row_heading level0 row5\" >avg_energy</th>\n",
              "      <td id=\"T_2680a_row5_col0\" class=\"data row5 col0\" >0.62</td>\n",
              "      <td id=\"T_2680a_row5_col1\" class=\"data row5 col1\" >0.62</td>\n",
              "      <td id=\"T_2680a_row5_col2\" class=\"data row5 col2\" >0.62</td>\n",
              "      <td id=\"T_2680a_row5_col3\" class=\"data row5 col3\" >0.15</td>\n",
              "      <td id=\"T_2680a_row5_col4\" class=\"data row5 col4\" >-0.37</td>\n",
              "    </tr>\n",
              "    <tr>\n",
              "      <th id=\"T_2680a_level0_row6\" class=\"row_heading level0 row6\" >avg_loud</th>\n",
              "      <td id=\"T_2680a_row6_col0\" class=\"data row6 col0\" >-7.83</td>\n",
              "      <td id=\"T_2680a_row6_col1\" class=\"data row6 col1\" >-7.84</td>\n",
              "      <td id=\"T_2680a_row6_col2\" class=\"data row6 col2\" >-7.79</td>\n",
              "      <td id=\"T_2680a_row6_col3\" class=\"data row6 col3\" >0.24</td>\n",
              "      <td id=\"T_2680a_row6_col4\" class=\"data row6 col4\" >-0.58</td>\n",
              "    </tr>\n",
              "    <tr>\n",
              "      <th id=\"T_2680a_level0_row7\" class=\"row_heading level0 row7\" >avg_mode</th>\n",
              "      <td id=\"T_2680a_row7_col0\" class=\"data row7 col0\" >0.57</td>\n",
              "      <td id=\"T_2680a_row7_col1\" class=\"data row7 col1\" >0.57</td>\n",
              "      <td id=\"T_2680a_row7_col2\" class=\"data row7 col2\" >0.57</td>\n",
              "      <td id=\"T_2680a_row7_col3\" class=\"data row7 col3\" >-0.05</td>\n",
              "      <td id=\"T_2680a_row7_col4\" class=\"data row7 col4\" >0.13</td>\n",
              "    </tr>\n",
              "    <tr>\n",
              "      <th id=\"T_2680a_level0_row8\" class=\"row_heading level0 row8\" >avg_spch</th>\n",
              "      <td id=\"T_2680a_row8_col0\" class=\"data row8 col0\" >0.12</td>\n",
              "      <td id=\"T_2680a_row8_col1\" class=\"data row8 col1\" >0.12</td>\n",
              "      <td id=\"T_2680a_row8_col2\" class=\"data row8 col2\" >0.11</td>\n",
              "      <td id=\"T_2680a_row8_col3\" class=\"data row8 col3\" >-0.24</td>\n",
              "      <td id=\"T_2680a_row8_col4\" class=\"data row8 col4\" >0.59</td>\n",
              "    </tr>\n",
              "    <tr>\n",
              "      <th id=\"T_2680a_level0_row9\" class=\"row_heading level0 row9\" >avg_acoust</th>\n",
              "      <td id=\"T_2680a_row9_col0\" class=\"data row9 col0\" >0.30</td>\n",
              "      <td id=\"T_2680a_row9_col1\" class=\"data row9 col1\" >0.30</td>\n",
              "      <td id=\"T_2680a_row9_col2\" class=\"data row9 col2\" >0.30</td>\n",
              "      <td id=\"T_2680a_row9_col3\" class=\"data row9 col3\" >-0.12</td>\n",
              "      <td id=\"T_2680a_row9_col4\" class=\"data row9 col4\" >0.30</td>\n",
              "    </tr>\n",
              "    <tr>\n",
              "      <th id=\"T_2680a_level0_row10\" class=\"row_heading level0 row10\" >avg_instr</th>\n",
              "      <td id=\"T_2680a_row10_col0\" class=\"data row10 col0\" >0.09</td>\n",
              "      <td id=\"T_2680a_row10_col1\" class=\"data row10 col1\" >0.09</td>\n",
              "      <td id=\"T_2680a_row10_col2\" class=\"data row10 col2\" >0.10</td>\n",
              "      <td id=\"T_2680a_row10_col3\" class=\"data row10 col3\" >0.54</td>\n",
              "      <td id=\"T_2680a_row10_col4\" class=\"data row10 col4\" >-1.25</td>\n",
              "    </tr>\n",
              "    <tr>\n",
              "      <th id=\"T_2680a_level0_row11\" class=\"row_heading level0 row11\" >avg_live</th>\n",
              "      <td id=\"T_2680a_row11_col0\" class=\"data row11 col0\" >0.18</td>\n",
              "      <td id=\"T_2680a_row11_col1\" class=\"data row11 col1\" >0.18</td>\n",
              "      <td id=\"T_2680a_row11_col2\" class=\"data row11 col2\" >0.18</td>\n",
              "      <td id=\"T_2680a_row11_col3\" class=\"data row11 col3\" >0.13</td>\n",
              "      <td id=\"T_2680a_row11_col4\" class=\"data row11 col4\" >-0.31</td>\n",
              "    </tr>\n",
              "    <tr>\n",
              "      <th id=\"T_2680a_level0_row12\" class=\"row_heading level0 row12\" >avg_val</th>\n",
              "      <td id=\"T_2680a_row12_col0\" class=\"data row12 col0\" >0.51</td>\n",
              "      <td id=\"T_2680a_row12_col1\" class=\"data row12 col1\" >0.51</td>\n",
              "      <td id=\"T_2680a_row12_col2\" class=\"data row12 col2\" >0.51</td>\n",
              "      <td id=\"T_2680a_row12_col3\" class=\"data row12 col3\" >-0.20</td>\n",
              "      <td id=\"T_2680a_row12_col4\" class=\"data row12 col4\" >0.47</td>\n",
              "    </tr>\n",
              "    <tr>\n",
              "      <th id=\"T_2680a_level0_row13\" class=\"row_heading level0 row13\" >avg_temp</th>\n",
              "      <td id=\"T_2680a_row13_col0\" class=\"data row13 col0\" >121.18</td>\n",
              "      <td id=\"T_2680a_row13_col1\" class=\"data row13 col1\" >121.16</td>\n",
              "      <td id=\"T_2680a_row13_col2\" class=\"data row13 col2\" >121.27</td>\n",
              "      <td id=\"T_2680a_row13_col3\" class=\"data row13 col3\" >0.15</td>\n",
              "      <td id=\"T_2680a_row13_col4\" class=\"data row13 col4\" >-0.36</td>\n",
              "    </tr>\n",
              "    <tr>\n",
              "      <th id=\"T_2680a_level0_row14\" class=\"row_heading level0 row14\" >avg_dur</th>\n",
              "      <td id=\"T_2680a_row14_col0\" class=\"data row14 col0\" >3.48</td>\n",
              "      <td id=\"T_2680a_row14_col1\" class=\"data row14 col1\" >3.48</td>\n",
              "      <td id=\"T_2680a_row14_col2\" class=\"data row14 col2\" >3.49</td>\n",
              "      <td id=\"T_2680a_row14_col3\" class=\"data row14 col3\" >0.06</td>\n",
              "      <td id=\"T_2680a_row14_col4\" class=\"data row14 col4\" >-0.14</td>\n",
              "    </tr>\n",
              "  </tbody>\n",
              "</table>\n"
            ]
          },
          "metadata": {},
          "execution_count": 79
        }
      ]
    },
    {
      "cell_type": "markdown",
      "source": [
        "Kolmogorov-Smirnov Test"
      ],
      "metadata": {
        "id": "YONOA1zJ7Q0k"
      }
    },
    {
      "cell_type": "code",
      "source": [
        "ks_dict = {}\n",
        "for n in num_list:\n",
        "    ks = ss.kstest(df_clean[n],df_train[n])\n",
        "    ks_dict[n] = ks[1]\n",
        "    assert ks_dict[n] > 0.10\n",
        "\n",
        "ks_dict"
      ],
      "metadata": {
        "colab": {
          "base_uri": "https://localhost:8080/"
        },
        "id": "OM9CpYyD8Jfn",
        "outputId": "46245f0f-7189-4123-efc4-6aed33d2010f"
      },
      "execution_count": null,
      "outputs": [
        {
          "output_type": "execute_result",
          "data": {
            "text/plain": [
              "{'avg_streams': 0.9999981987877041,\n",
              " 'twt_freq': 0.9999999999137305,\n",
              " 'genre_div': 1.0,\n",
              " 'avg_collab': 0.9999122205893802,\n",
              " 'avg_dance': 0.9999996644472402,\n",
              " 'avg_energy': 0.9999999999156131,\n",
              " 'avg_loud': 0.9999997453268482,\n",
              " 'avg_mode': 0.9999999970252141,\n",
              " 'avg_spch': 0.9987642221021911,\n",
              " 'avg_acoust': 0.9999999999995034,\n",
              " 'avg_instr': 0.9999999982940398,\n",
              " 'avg_live': 0.999999999236956,\n",
              " 'avg_val': 0.9999999997242792,\n",
              " 'avg_temp': 0.999999999983924,\n",
              " 'avg_dur': 0.9999999999385549}"
            ]
          },
          "metadata": {},
          "execution_count": 80
        }
      ]
    },
    {
      "cell_type": "markdown",
      "source": [
        "*Categorical Variable (Genre)*"
      ],
      "metadata": {
        "id": "UXlkXs6zeySg"
      }
    },
    {
      "cell_type": "code",
      "source": [
        "fig,axes=plt.subplots(len(cat_list),1,figsize=(12,len(cat_list)*4))\n",
        "axes=np.ravel(axes)\n",
        "for c,ax in zip(cat_list,axes):\n",
        "    eperc=df_clean[c].value_counts(normalize=True)\n",
        "\n",
        "    # train test\n",
        "    etrain=(eperc*df_train.shape[0]).sort_index()\n",
        "    atrain=df_train[c].value_counts().sort_index()\n",
        "    chi2train=ss.chisquare(f_obs=atrain,f_exp=etrain)\n",
        "\n",
        "    # test test\n",
        "    etest=(eperc*df_test.shape[0]).sort_index()\n",
        "    atest=df_test[c].value_counts().sort_index()\n",
        "    chi2test=ss.chisquare(f_obs=atest,f_exp=etest)\n",
        "\n",
        "    eperc=eperc.to_frame().assign(key='Full')\n",
        "    trainperc=(atrain/atrain.sum()).to_frame().assign(key=f'Train ({chi2train.pvalue:.0%})')\n",
        "    testperc=(atest/atest.sum()).to_frame().assign(key=f'Test ({chi2test.pvalue:.0%})')\n",
        "    z = pd.concat((eperc,trainperc,testperc),axis=0).reset_index()\n",
        "\n",
        "    sns.barplot(x='index', y=c, hue='key', data=z,ax=ax)\n",
        "    ax.set_xlabel(c)\n",
        "    ax.set_ylabel(\"\")\n",
        "    ax.spines['top'].set_visible(False)\n",
        "    ax.spines['right'].set_visible(False)\n",
        "\n",
        "print(\"Chi2 p-values in parentheses\")"
      ],
      "metadata": {
        "colab": {
          "base_uri": "https://localhost:8080/"
        },
        "id": "hrv_AwBNe1Sp",
        "outputId": "01f5a602-2a8c-4734-b5ff-dd171980eae1"
      },
      "execution_count": null,
      "outputs": [
        {
          "output_type": "stream",
          "name": "stdout",
          "text": [
            "Chi2 p-values in parentheses\n"
          ]
        },
        {
          "output_type": "display_data",
          "data": {
            "text/plain": [
              "<Figure size 864x288 with 1 Axes>"
            ],
            "image/png": "[encoded data removed]"
          },
          "metadata": {
            "needs_background": "light"
          }
        }
      ]
    },
    {
      "cell_type": "markdown",
      "source": [
        "# Exploratory Data Analysis"
      ],
      "metadata": {
        "id": "WAOmNxAgtZ7r"
      }
    },
    {
      "cell_type": "markdown",
      "source": [
        "Our EDA will be guided by our main goal: determining the features that are the most relevant to the success of an artist. However, another thing we'll be looking for in our EDA is understanding how these features vary across genre. Although this isn't something we'll be direclty observing for this model, we know that the communities between genres have different aggregate characteristics."
      ],
      "metadata": {
        "id": "YU0f4hgD0Boj"
      }
    },
    {
      "cell_type": "markdown",
      "source": [
        "**Dependent Variable**"
      ],
      "metadata": {
        "id": "gxvnIBtggw-5"
      }
    },
    {
      "cell_type": "code",
      "source": [
        "sns.histplot(df_train.avg_streams)"
      ],
      "metadata": {
        "colab": {
          "base_uri": "https://localhost:8080/",
          "height": 305
        },
        "id": "mBig01zdg1L9",
        "outputId": "0d42c06f-1d06-4b95-8400-8cc249ac5070"
      },
      "execution_count": null,
      "outputs": [
        {
          "output_type": "execute_result",
          "data": {
            "text/plain": [
              "<matplotlib.axes._subplots.AxesSubplot at 0x7f398ce9f4d0>"
            ]
          },
          "metadata": {},
          "execution_count": 82
        },
        {
          "output_type": "display_data",
          "data": {
            "text/plain": [
              "<Figure size 432x288 with 1 Axes>"
            ],
            "image/png": "[encoded data removed]"
          },
          "metadata": {
            "needs_background": "light"
          }
        }
      ]
    },
    {
      "cell_type": "markdown",
      "source": [
        "**Numerical Values**"
      ],
      "metadata": {
        "id": "k0GXhafm8p8W"
      }
    },
    {
      "cell_type": "code",
      "source": [
        "df_train.describe([.01,.5,.99]).T"
      ],
      "metadata": {
        "colab": {
          "base_uri": "https://localhost:8080/",
          "height": 520
        },
        "id": "X7RpSH7j8vg2",
        "outputId": "40031f14-14e6-4413-d536-1756056dbb8f"
      },
      "execution_count": null,
      "outputs": [
        {
          "output_type": "execute_result",
          "data": {
            "text/plain": [
              "              count        mean        std        min            1%  \\\n",
              "avg_streams  5346.0    6.739945   0.618534   4.880771  5.421353e+00   \n",
              "twt_freq     5346.0   22.177461  46.745056   0.000000  0.000000e+00   \n",
              "genre_div    5346.0    2.319865   1.649845   1.000000  1.000000e+00   \n",
              "avg_collab   5346.0    0.769074   0.719173   0.000000  0.000000e+00   \n",
              "avg_dance    5346.0    0.646748   0.085952   0.315235  4.384468e-01   \n",
              "avg_energy   5346.0    0.619536   0.108194   0.124208  3.271582e-01   \n",
              "avg_loud     5346.0   -7.837360   2.224947 -21.048900 -1.476125e+01   \n",
              "avg_mode     5346.0    0.574428   0.181463   0.000000  1.500000e-01   \n",
              "avg_spch     5346.0    0.116422   0.065811   0.028140  3.378842e-02   \n",
              "avg_acoust   5346.0    0.303777   0.149557   0.000689  4.775450e-02   \n",
              "avg_instr    5346.0    0.089616   0.112183   0.000000  1.551184e-07   \n",
              "avg_live     5346.0    0.183272   0.051579   0.080853  1.074773e-01   \n",
              "avg_val      5346.0    0.514245   0.119076   0.121445  2.644332e-01   \n",
              "avg_temp     5346.0  121.157759   8.744949  84.842450  1.016842e+02   \n",
              "avg_dur      5346.0    3.481821   0.654141   1.368386  2.399129e+00   \n",
              "\n",
              "                    50%         99%          max  \n",
              "avg_streams    6.741251    8.176578     8.757404  \n",
              "twt_freq       7.429592  217.746747  1004.119332  \n",
              "genre_div      2.000000    8.000000    14.000000  \n",
              "avg_collab     0.600000    3.334605     8.368421  \n",
              "avg_dance      0.649946    0.828105     0.895000  \n",
              "avg_energy     0.625805    0.853755     0.948583  \n",
              "avg_loud      -7.561136   -3.708716    -0.216150  \n",
              "avg_mode       0.578947    0.950000     1.000000  \n",
              "avg_spch       0.101752    0.328793     0.708785  \n",
              "avg_acoust     0.284820    0.747999     0.979739  \n",
              "avg_instr      0.047814    0.463369     0.940696  \n",
              "avg_live       0.174550    0.363870     0.630500  \n",
              "avg_val        0.507575    0.818365     0.941100  \n",
              "avg_temp     120.992000  143.381743   166.037450  \n",
              "avg_dur        3.388401    5.736515    11.917966  "
            ],
            "text/html": [
              "\n",
              "  <div id=\"df-6620ad7a-262f-422e-a029-48b49a220d2a\">\n",
              "    <div class=\"colab-df-container\">\n",
              "      <div>\n",
              "<style scoped>\n",
              "    .dataframe tbody tr th:only-of-type {\n",
              "        vertical-align: middle;\n",
              "    }\n",
              "\n",
              "    .dataframe tbody tr th {\n",
              "        vertical-align: top;\n",
              "    }\n",
              "\n",
              "    .dataframe thead th {\n",
              "        text-align: right;\n",
              "    }\n",
              "</style>\n",
              "<table border=\"1\" class=\"dataframe\">\n",
              "  <thead>\n",
              "    <tr style=\"text-align: right;\">\n",
              "      <th></th>\n",
              "      <th>count</th>\n",
              "      <th>mean</th>\n",
              "      <th>std</th>\n",
              "      <th>min</th>\n",
              "      <th>1%</th>\n",
              "      <th>50%</th>\n",
              "      <th>99%</th>\n",
              "      <th>max</th>\n",
              "    </tr>\n",
              "  </thead>\n",
              "  <tbody>\n",
              "    <tr>\n",
              "      <th>avg_streams</th>\n",
              "      <td>5346.0</td>\n",
              "      <td>6.739945</td>\n",
              "      <td>0.618534</td>\n",
              "      <td>4.880771</td>\n",
              "      <td>5.421353e+00</td>\n",
              "      <td>6.741251</td>\n",
              "      <td>8.176578</td>\n",
              "      <td>8.757404</td>\n",
              "    </tr>\n",
              "    <tr>\n",
              "      <th>twt_freq</th>\n",
              "      <td>5346.0</td>\n",
              "      <td>22.177461</td>\n",
              "      <td>46.745056</td>\n",
              "      <td>0.000000</td>\n",
              "      <td>0.000000e+00</td>\n",
              "      <td>7.429592</td>\n",
              "      <td>217.746747</td>\n",
              "      <td>1004.119332</td>\n",
              "    </tr>\n",
              "    <tr>\n",
              "      <th>genre_div</th>\n",
              "      <td>5346.0</td>\n",
              "      <td>2.319865</td>\n",
              "      <td>1.649845</td>\n",
              "      <td>1.000000</td>\n",
              "      <td>1.000000e+00</td>\n",
              "      <td>2.000000</td>\n",
              "      <td>8.000000</td>\n",
              "      <td>14.000000</td>\n",
              "    </tr>\n",
              "    <tr>\n",
              "      <th>avg_collab</th>\n",
              "      <td>5346.0</td>\n",
              "      <td>0.769074</td>\n",
              "      <td>0.719173</td>\n",
              "      <td>0.000000</td>\n",
              "      <td>0.000000e+00</td>\n",
              "      <td>0.600000</td>\n",
              "      <td>3.334605</td>\n",
              "      <td>8.368421</td>\n",
              "    </tr>\n",
              "    <tr>\n",
              "      <th>avg_dance</th>\n",
              "      <td>5346.0</td>\n",
              "      <td>0.646748</td>\n",
              "      <td>0.085952</td>\n",
              "      <td>0.315235</td>\n",
              "      <td>4.384468e-01</td>\n",
              "      <td>0.649946</td>\n",
              "      <td>0.828105</td>\n",
              "      <td>0.895000</td>\n",
              "    </tr>\n",
              "    <tr>\n",
              "      <th>avg_energy</th>\n",
              "      <td>5346.0</td>\n",
              "      <td>0.619536</td>\n",
              "      <td>0.108194</td>\n",
              "      <td>0.124208</td>\n",
              "      <td>3.271582e-01</td>\n",
              "      <td>0.625805</td>\n",
              "      <td>0.853755</td>\n",
              "      <td>0.948583</td>\n",
              "    </tr>\n",
              "    <tr>\n",
              "      <th>avg_loud</th>\n",
              "      <td>5346.0</td>\n",
              "      <td>-7.837360</td>\n",
              "      <td>2.224947</td>\n",
              "      <td>-21.048900</td>\n",
              "      <td>-1.476125e+01</td>\n",
              "      <td>-7.561136</td>\n",
              "      <td>-3.708716</td>\n",
              "      <td>-0.216150</td>\n",
              "    </tr>\n",
              "    <tr>\n",
              "      <th>avg_mode</th>\n",
              "      <td>5346.0</td>\n",
              "      <td>0.574428</td>\n",
              "      <td>0.181463</td>\n",
              "      <td>0.000000</td>\n",
              "      <td>1.500000e-01</td>\n",
              "      <td>0.578947</td>\n",
              "      <td>0.950000</td>\n",
              "      <td>1.000000</td>\n",
              "    </tr>\n",
              "    <tr>\n",
              "      <th>avg_spch</th>\n",
              "      <td>5346.0</td>\n",
              "      <td>0.116422</td>\n",
              "      <td>0.065811</td>\n",
              "      <td>0.028140</td>\n",
              "      <td>3.378842e-02</td>\n",
              "      <td>0.101752</td>\n",
              "      <td>0.328793</td>\n",
              "      <td>0.708785</td>\n",
              "    </tr>\n",
              "    <tr>\n",
              "      <th>avg_acoust</th>\n",
              "      <td>5346.0</td>\n",
              "      <td>0.303777</td>\n",
              "      <td>0.149557</td>\n",
              "      <td>0.000689</td>\n",
              "      <td>4.775450e-02</td>\n",
              "      <td>0.284820</td>\n",
              "      <td>0.747999</td>\n",
              "      <td>0.979739</td>\n",
              "    </tr>\n",
              "    <tr>\n",
              "      <th>avg_instr</th>\n",
              "      <td>5346.0</td>\n",
              "      <td>0.089616</td>\n",
              "      <td>0.112183</td>\n",
              "      <td>0.000000</td>\n",
              "      <td>1.551184e-07</td>\n",
              "      <td>0.047814</td>\n",
              "      <td>0.463369</td>\n",
              "      <td>0.940696</td>\n",
              "    </tr>\n",
              "    <tr>\n",
              "      <th>avg_live</th>\n",
              "      <td>5346.0</td>\n",
              "      <td>0.183272</td>\n",
              "      <td>0.051579</td>\n",
              "      <td>0.080853</td>\n",
              "      <td>1.074773e-01</td>\n",
              "      <td>0.174550</td>\n",
              "      <td>0.363870</td>\n",
              "      <td>0.630500</td>\n",
              "    </tr>\n",
              "    <tr>\n",
              "      <th>avg_val</th>\n",
              "      <td>5346.0</td>\n",
              "      <td>0.514245</td>\n",
              "      <td>0.119076</td>\n",
              "      <td>0.121445</td>\n",
              "      <td>2.644332e-01</td>\n",
              "      <td>0.507575</td>\n",
              "      <td>0.818365</td>\n",
              "      <td>0.941100</td>\n",
              "    </tr>\n",
              "    <tr>\n",
              "      <th>avg_temp</th>\n",
              "      <td>5346.0</td>\n",
              "      <td>121.157759</td>\n",
              "      <td>8.744949</td>\n",
              "      <td>84.842450</td>\n",
              "      <td>1.016842e+02</td>\n",
              "      <td>120.992000</td>\n",
              "      <td>143.381743</td>\n",
              "      <td>166.037450</td>\n",
              "    </tr>\n",
              "    <tr>\n",
              "      <th>avg_dur</th>\n",
              "      <td>5346.0</td>\n",
              "      <td>3.481821</td>\n",
              "      <td>0.654141</td>\n",
              "      <td>1.368386</td>\n",
              "      <td>2.399129e+00</td>\n",
              "      <td>3.388401</td>\n",
              "      <td>5.736515</td>\n",
              "      <td>11.917966</td>\n",
              "    </tr>\n",
              "  </tbody>\n",
              "</table>\n",
              "</div>\n",
              "      <button class=\"colab-df-convert\" onclick=\"convertToInteractive('df-6620ad7a-262f-422e-a029-48b49a220d2a')\"\n",
              "              title=\"Convert this dataframe to an interactive table.\"\n",
              "              style=\"display:none;\">\n",
              "        \n",
              "  <svg xmlns=\"http://www.w3.org/2000/svg\" height=\"24px\"viewBox=\"0 0 24 24\"\n",
              "       width=\"24px\">\n",
              "    <path d=\"M0 0h24v24H0V0z\" fill=\"none\"/>\n",
              "    <path d=\"M18.56 5.44l.94 2.06.94-2.06 2.06-.94-2.06-.94-.94-2.06-.94 2.06-2.06.94zm-11 1L8.5 8.5l.94-2.06 2.06-.94-2.06-.94L8.5 2.5l-.94 2.06-2.06.94zm10 10l.94 2.06.94-2.06 2.06-.94-2.06-.94-.94-2.06-.94 2.06-2.06.94z\"/><path d=\"M17.41 7.96l-1.37-1.37c-.4-.4-.92-.59-1.43-.59-.52 0-1.04.2-1.43.59L10.3 9.45l-7.72 7.72c-.78.78-.78 2.05 0 2.83L4 21.41c.39.39.9.59 1.41.59.51 0 1.02-.2 1.41-.59l7.78-7.78 2.81-2.81c.8-.78.8-2.07 0-2.86zM5.41 20L4 18.59l7.72-7.72 1.47 1.35L5.41 20z\"/>\n",
              "  </svg>\n",
              "      </button>\n",
              "      \n",
              "  <style>\n",
              "    .colab-df-container {\n",
              "      display:flex;\n",
              "      flex-wrap:wrap;\n",
              "      gap: 12px;\n",
              "    }\n",
              "\n",
              "    .colab-df-convert {\n",
              "      background-color: #E8F0FE;\n",
              "      border: none;\n",
              "      border-radius: 50%;\n",
              "      cursor: pointer;\n",
              "      display: none;\n",
              "      fill: #1967D2;\n",
              "      height: 32px;\n",
              "      padding: 0 0 0 0;\n",
              "      width: 32px;\n",
              "    }\n",
              "\n",
              "    .colab-df-convert:hover {\n",
              "      background-color: #E2EBFA;\n",
              "      box-shadow: 0px 1px 2px rgba(60, 64, 67, 0.3), 0px 1px 3px 1px rgba(60, 64, 67, 0.15);\n",
              "      fill: #174EA6;\n",
              "    }\n",
              "\n",
              "    [theme=dark] .colab-df-convert {\n",
              "      background-color: #3B4455;\n",
              "      fill: #D2E3FC;\n",
              "    }\n",
              "\n",
              "    [theme=dark] .colab-df-convert:hover {\n",
              "      background-color: #434B5C;\n",
              "      box-shadow: 0px 1px 3px 1px rgba(0, 0, 0, 0.15);\n",
              "      filter: drop-shadow(0px 1px 2px rgba(0, 0, 0, 0.3));\n",
              "      fill: #FFFFFF;\n",
              "    }\n",
              "  </style>\n",
              "\n",
              "      <script>\n",
              "        const buttonEl =\n",
              "          document.querySelector('#df-6620ad7a-262f-422e-a029-48b49a220d2a button.colab-df-convert');\n",
              "        buttonEl.style.display =\n",
              "          google.colab.kernel.accessAllowed ? 'block' : 'none';\n",
              "\n",
              "        async function convertToInteractive(key) {\n",
              "          const element = document.querySelector('#df-6620ad7a-262f-422e-a029-48b49a220d2a');\n",
              "          const dataTable =\n",
              "            await google.colab.kernel.invokeFunction('convertToInteractive',\n",
              "                                                     [key], {});\n",
              "          if (!dataTable) return;\n",
              "\n",
              "          const docLinkHtml = 'Like what you see? Visit the ' +\n",
              "            '<a target=\"_blank\" href=https://colab.research.google.com/notebooks/data_table.ipynb>data table notebook</a>'\n",
              "            + ' to learn more about interactive tables.';\n",
              "          element.innerHTML = '';\n",
              "          dataTable['output_type'] = 'display_data';\n",
              "          await google.colab.output.renderOutput(dataTable, element);\n",
              "          const docLink = document.createElement('div');\n",
              "          docLink.innerHTML = docLinkHtml;\n",
              "          element.appendChild(docLink);\n",
              "        }\n",
              "      </script>\n",
              "    </div>\n",
              "  </div>\n",
              "  "
            ]
          },
          "metadata": {},
          "execution_count": 83
        }
      ]
    },
    {
      "cell_type": "markdown",
      "source": [
        "**Categorical Variables**"
      ],
      "metadata": {
        "id": "xchYhytEgHI2"
      }
    },
    {
      "cell_type": "code",
      "source": [
        "def create_barplot(data,col):\n",
        "    x = data[col].value_counts(normalize=True).sort_index()\n",
        "    fig,ax=plt.subplots(1,1,figsize=(12,4))\n",
        "    ax=sns.barplot(x=x.index,y=x,ax=ax);\n",
        "    ax.set_xlabel(col)\n",
        "    ax.set_ylabel(\"Fraction of observations\")"
      ],
      "metadata": {
        "id": "I_y4rrj6gJd6"
      },
      "execution_count": null,
      "outputs": []
    },
    {
      "cell_type": "code",
      "source": [
        "create_barplot(df_train, 'genre_dom')"
      ],
      "metadata": {
        "colab": {
          "base_uri": "https://localhost:8080/",
          "height": 285
        },
        "id": "LApaUPIegZsv",
        "outputId": "d44ab994-5aac-4b49-d4a2-e890b91dc165"
      },
      "execution_count": null,
      "outputs": [
        {
          "output_type": "display_data",
          "data": {
            "text/plain": [
              "<Figure size 864x288 with 1 Axes>"
            ],
            "image/png": "[encoded data removed]"
          },
          "metadata": {
            "needs_background": "light"
          }
        }
      ]
    },
    {
      "cell_type": "markdown",
      "source": [
        "**Feature Relationships**"
      ],
      "metadata": {
        "id": "FO6r5qgXvkrQ"
      }
    },
    {
      "cell_type": "markdown",
      "source": [
        "*Feature Correlations*"
      ],
      "metadata": {
        "id": "lWnRNL4fJs70"
      }
    },
    {
      "cell_type": "markdown",
      "source": [
        "*Spotify Song Characteristics (Tahmid)*"
      ],
      "metadata": {
        "id": "xBQ9K-s08lWa"
      }
    },
    {
      "cell_type": "code",
      "source": [
        "fig, ax = plt.subplots(figsize=(15, 15))\n",
        "spot_feat_corr = sns.heatmap(df_train[['avg_streams', 'avg_collab','avg_dance', 'avg_energy', 'avg_loud', 'avg_mode', 'avg_spch', 'avg_acoust',\n",
        "          'avg_instr', 'avg_live', 'avg_val', 'avg_temp', 'avg_dur']].corr(), cmap=\"YlGnBu\", annot=True, ax=ax)\n",
        "\n",
        "plt.show()"
      ],
      "metadata": {
        "colab": {
          "base_uri": "https://localhost:8080/",
          "height": 935
        },
        "id": "BFaQEztHMVOV",
        "outputId": "2116de02-b2ce-4345-8d73-695937348f94"
      },
      "execution_count": null,
      "outputs": [
        {
          "output_type": "display_data",
          "data": {
            "text/plain": [
              "<Figure size 1080x1080 with 2 Axes>"
            ],
            "image/png": "[encoded data removed]"
          },
          "metadata": {
            "needs_background": "light"
          }
        }
      ]
    },
    {
      "cell_type": "markdown",
      "source": [
        "Vs. Genres"
      ],
      "metadata": {
        "id": "ctQsIITDh1Tb"
      }
    },
    {
      "cell_type": "code",
      "source": [
        "sns.catplot(x='genre_dom', y='avg_dance', data=df_train, kind='box' ,aspect=2.5 );"
      ],
      "metadata": {
        "colab": {
          "base_uri": "https://localhost:8080/",
          "height": 365
        },
        "id": "JLbX9Uexh2wF",
        "outputId": "42cce592-10a3-47f3-9cd5-ffb6d69773be"
      },
      "execution_count": null,
      "outputs": [
        {
          "output_type": "display_data",
          "data": {
            "text/plain": [
              "<Figure size 900x360 with 1 Axes>"
            ],
            "image/png": "[encoded data removed]"
          },
          "metadata": {
            "needs_background": "light"
          }
        }
      ]
    },
    {
      "cell_type": "code",
      "source": [
        "sns.catplot(x='genre_dom', y='avg_energy', data=df_train, kind='box' ,aspect=2.5 );"
      ],
      "metadata": {
        "colab": {
          "base_uri": "https://localhost:8080/",
          "height": 365
        },
        "id": "AxwkRAvniMhl",
        "outputId": "67414a3b-7b88-4298-dc64-d4b0900da553"
      },
      "execution_count": null,
      "outputs": [
        {
          "output_type": "display_data",
          "data": {
            "text/plain": [
              "<Figure size 900x360 with 1 Axes>"
            ],
            "image/png": "[encoded data removed]"
          },
          "metadata": {
            "needs_background": "light"
          }
        }
      ]
    },
    {
      "cell_type": "code",
      "source": [
        "sns.catplot(x='genre_dom', y='avg_loud', data=df_train, kind='box' ,aspect=2.5 );"
      ],
      "metadata": {
        "colab": {
          "base_uri": "https://localhost:8080/",
          "height": 365
        },
        "id": "vCDhQYByiRqe",
        "outputId": "3c52ae33-14a8-4dcc-f5a3-f08cc76d18ec"
      },
      "execution_count": null,
      "outputs": [
        {
          "output_type": "display_data",
          "data": {
            "text/plain": [
              "<Figure size 900x360 with 1 Axes>"
            ],
            "image/png": "[encoded data removed]"
          },
          "metadata": {
            "needs_background": "light"
          }
        }
      ]
    },
    {
      "cell_type": "code",
      "source": [
        "sns.catplot(x='genre_dom', y='avg_mode', data=df_train, kind='box' ,aspect=2.5 );"
      ],
      "metadata": {
        "colab": {
          "base_uri": "https://localhost:8080/",
          "height": 365
        },
        "id": "ASLYbe0WiU35",
        "outputId": "e00867e5-de9a-4cf3-f7e7-704785a2bc30"
      },
      "execution_count": null,
      "outputs": [
        {
          "output_type": "display_data",
          "data": {
            "text/plain": [
              "<Figure size 900x360 with 1 Axes>"
            ],
            "image/png": "[encoded data removed]"
          },
          "metadata": {
            "needs_background": "light"
          }
        }
      ]
    },
    {
      "cell_type": "code",
      "source": [
        "sns.catplot(x='genre_dom', y='avg_spch', data=df_train, kind='box' ,aspect=2.5 );"
      ],
      "metadata": {
        "colab": {
          "base_uri": "https://localhost:8080/",
          "height": 365
        },
        "id": "_mD2h4MaiZ4m",
        "outputId": "d5f4221c-eeb9-4a9f-9e77-afa5f9da328d"
      },
      "execution_count": null,
      "outputs": [
        {
          "output_type": "display_data",
          "data": {
            "text/plain": [
              "<Figure size 900x360 with 1 Axes>"
            ],
            "image/png": "[encoded data removed]"
          },
          "metadata": {
            "needs_background": "light"
          }
        }
      ]
    },
    {
      "cell_type": "code",
      "source": [
        "sns.catplot(x='genre_dom', y='avg_acoust', data=df_train, kind='box' ,aspect=2.5 );"
      ],
      "metadata": {
        "colab": {
          "base_uri": "https://localhost:8080/",
          "height": 365
        },
        "id": "dW_gSfs8ifBB",
        "outputId": "2f87c374-0503-459c-9eda-fb4fbeffacab"
      },
      "execution_count": null,
      "outputs": [
        {
          "output_type": "display_data",
          "data": {
            "text/plain": [
              "<Figure size 900x360 with 1 Axes>"
            ],
            "image/png": "[encoded data removed]"
          },
          "metadata": {
            "needs_background": "light"
          }
        }
      ]
    },
    {
      "cell_type": "code",
      "source": [
        "sns.catplot(x='genre_dom', y='avg_instr', data=df_train, kind='box' ,aspect=2.5 );"
      ],
      "metadata": {
        "colab": {
          "base_uri": "https://localhost:8080/",
          "height": 365
        },
        "id": "pvP16r0KiiI_",
        "outputId": "afbf9a40-a4d3-4369-96a0-f5ec4cddff98"
      },
      "execution_count": null,
      "outputs": [
        {
          "output_type": "display_data",
          "data": {
            "text/plain": [
              "<Figure size 900x360 with 1 Axes>"
            ],
            "image/png": "[encoded data removed]"
          },
          "metadata": {
            "needs_background": "light"
          }
        }
      ]
    },
    {
      "cell_type": "code",
      "source": [
        "sns.catplot(x='genre_dom', y='avg_live', data=df_train, kind='box' ,aspect=2.5 );"
      ],
      "metadata": {
        "colab": {
          "base_uri": "https://localhost:8080/",
          "height": 365
        },
        "id": "AbkXSKZjiqbp",
        "outputId": "3669fc21-97e7-4b57-c511-f086655b27e3"
      },
      "execution_count": null,
      "outputs": [
        {
          "output_type": "display_data",
          "data": {
            "text/plain": [
              "<Figure size 900x360 with 1 Axes>"
            ],
            "image/png": "[encoded data removed]"
          },
          "metadata": {
            "needs_background": "light"
          }
        }
      ]
    },
    {
      "cell_type": "code",
      "source": [
        "sns.catplot(x='genre_dom', y='avg_val', data=df_train, kind='box' ,aspect=2.5 );"
      ],
      "metadata": {
        "colab": {
          "base_uri": "https://localhost:8080/",
          "height": 365
        },
        "id": "yzYF514UiuBD",
        "outputId": "66e2e4bf-dedc-40d8-e08c-0ac97bdd11e9"
      },
      "execution_count": null,
      "outputs": [
        {
          "output_type": "display_data",
          "data": {
            "text/plain": [
              "<Figure size 900x360 with 1 Axes>"
            ],
            "image/png": "[encoded data removed]"
          },
          "metadata": {
            "needs_background": "light"
          }
        }
      ]
    },
    {
      "cell_type": "code",
      "source": [
        "sns.catplot(x='genre_dom', y='avg_temp', data=df_train, kind='box' ,aspect=2.5 );"
      ],
      "metadata": {
        "colab": {
          "base_uri": "https://localhost:8080/",
          "height": 365
        },
        "id": "0puplyVJiwv7",
        "outputId": "ea4499af-d517-4f6d-b98e-dea333f0a3da"
      },
      "execution_count": null,
      "outputs": [
        {
          "output_type": "display_data",
          "data": {
            "text/plain": [
              "<Figure size 900x360 with 1 Axes>"
            ],
            "image/png": "[encoded data removed]"
          },
          "metadata": {
            "needs_background": "light"
          }
        }
      ]
    },
    {
      "cell_type": "code",
      "source": [
        "sns.catplot(x='genre_dom', y='avg_dur', data=df_train, kind='box' ,aspect=2.5 );"
      ],
      "metadata": {
        "colab": {
          "base_uri": "https://localhost:8080/",
          "height": 365
        },
        "id": "oowwZLE9i0Di",
        "outputId": "3d3d383e-fdaf-43d7-cf4a-26b67ca12e10"
      },
      "execution_count": null,
      "outputs": [
        {
          "output_type": "display_data",
          "data": {
            "text/plain": [
              "<Figure size 900x360 with 1 Axes>"
            ],
            "image/png": "[encoded data removed]"
          },
          "metadata": {
            "needs_background": "light"
          }
        }
      ]
    },
    {
      "cell_type": "markdown",
      "source": [
        "*Tweet Frequency / Social Media Activity (Shiva)*"
      ],
      "metadata": {
        "id": "g5Qn_6iuxnGL"
      }
    },
    {
      "cell_type": "code",
      "source": [
        "df_train['twt_freq'].hist()"
      ],
      "metadata": {
        "colab": {
          "base_uri": "https://localhost:8080/",
          "height": 286
        },
        "id": "04T1W94AGjVU",
        "outputId": "18d06ac8-7cc2-41df-ec72-6fc7ff97ef7a"
      },
      "execution_count": null,
      "outputs": [
        {
          "output_type": "execute_result",
          "data": {
            "text/plain": [
              "<matplotlib.axes._subplots.AxesSubplot at 0x7fe4374c0c50>"
            ]
          },
          "metadata": {},
          "execution_count": 376
        },
        {
          "output_type": "display_data",
          "data": {
            "text/plain": [
              "<Figure size 432x288 with 1 Axes>"
            ],
            "image/png": "[encoded data removed]"
          },
          "metadata": {
            "needs_background": "light"
          }
        }
      ]
    },
    {
      "cell_type": "markdown",
      "source": [
        "vs. Artist Popularity"
      ],
      "metadata": {
        "id": "vZP-JPC50oPS"
      }
    },
    {
      "cell_type": "code",
      "source": [
        "sns.regplot(x=df_train['twt_freq'],y=df_train['avg_streams'])"
      ],
      "metadata": {
        "colab": {
          "base_uri": "https://localhost:8080/",
          "height": 303
        },
        "id": "ecsPRFdUHDIp",
        "outputId": "13b1968a-ad6f-4c32-eb8e-9ee07c88d3fc"
      },
      "execution_count": null,
      "outputs": [
        {
          "output_type": "execute_result",
          "data": {
            "text/plain": [
              "<matplotlib.axes._subplots.AxesSubplot at 0x7f398c131ad0>"
            ]
          },
          "metadata": {},
          "execution_count": 88
        },
        {
          "output_type": "display_data",
          "data": {
            "text/plain": [
              "<Figure size 432x288 with 1 Axes>"
            ],
            "image/png": "[encoded data removed]"
          },
          "metadata": {
            "needs_background": "light"
          }
        }
      ]
    },
    {
      "cell_type": "code",
      "source": [
        "sns.catplot(x='genre_dom', y='twt_freq', data=df_train, kind='box' ,aspect=2.5 );"
      ],
      "metadata": {
        "colab": {
          "base_uri": "https://localhost:8080/",
          "height": 365
        },
        "id": "zZ0qDszyi9pq",
        "outputId": "0e20b20c-b285-4f5a-a4ec-437d33a97465"
      },
      "execution_count": null,
      "outputs": [
        {
          "output_type": "display_data",
          "data": {
            "text/plain": [
              "<Figure size 900x360 with 1 Axes>"
            ],
            "image/png": "[encoded data removed]"
          },
          "metadata": {
            "needs_background": "light"
          }
        }
      ]
    },
    {
      "cell_type": "markdown",
      "source": [
        "*Collaboration Frequency (Tahmid)*"
      ],
      "metadata": {
        "id": "pWFzXM9fx5Zh"
      }
    },
    {
      "cell_type": "code",
      "source": [
        "sns.histplot(df_train.avg_collab)"
      ],
      "metadata": {
        "colab": {
          "base_uri": "https://localhost:8080/",
          "height": 307
        },
        "id": "vaa0J_7rTPHv",
        "outputId": "ae35da7a-a37a-4617-c8c1-010a842d3e5b"
      },
      "execution_count": null,
      "outputs": [
        {
          "output_type": "execute_result",
          "data": {
            "text/plain": [
              "<matplotlib.axes._subplots.AxesSubplot at 0x7fe435676210>"
            ]
          },
          "metadata": {},
          "execution_count": 389
        },
        {
          "output_type": "display_data",
          "data": {
            "text/plain": [
              "<Figure size 432x288 with 1 Axes>"
            ],
            "image/png": "[encoded data removed]"
          },
          "metadata": {
            "needs_background": "light"
          }
        }
      ]
    },
    {
      "cell_type": "code",
      "source": [
        "sns.regplot(x=df_train['avg_collab'],y=df_train['avg_streams'])"
      ],
      "metadata": {
        "colab": {
          "base_uri": "https://localhost:8080/",
          "height": 303
        },
        "id": "PKttqhgoTSTk",
        "outputId": "2a1896e4-96dd-4407-b41f-bf65314f36d8"
      },
      "execution_count": null,
      "outputs": [
        {
          "output_type": "execute_result",
          "data": {
            "text/plain": [
              "<matplotlib.axes._subplots.AxesSubplot at 0x7f398c255c10>"
            ]
          },
          "metadata": {},
          "execution_count": 91
        },
        {
          "output_type": "display_data",
          "data": {
            "text/plain": [
              "<Figure size 432x288 with 1 Axes>"
            ],
            "image/png": "[encoded data removed]"
          },
          "metadata": {
            "needs_background": "light"
          }
        }
      ]
    },
    {
      "cell_type": "code",
      "source": [
        "sns.catplot(x='genre_dom', y='avg_collab', data=df_train, kind='box' ,aspect=2.5 );"
      ],
      "metadata": {
        "colab": {
          "base_uri": "https://localhost:8080/",
          "height": 365
        },
        "id": "66pSfVsfivsb",
        "outputId": "16217e33-2519-490b-e8ff-7e4eab66e3e1"
      },
      "execution_count": null,
      "outputs": [
        {
          "output_type": "display_data",
          "data": {
            "text/plain": [
              "<Figure size 900x360 with 1 Axes>"
            ],
            "image/png": "[encoded data removed]"
          },
          "metadata": {
            "needs_background": "light"
          }
        }
      ]
    },
    {
      "cell_type": "markdown",
      "source": [
        "*Genre Diversity Metric (Shiva)*"
      ],
      "metadata": {
        "id": "l6vMIirp1v2n"
      }
    },
    {
      "cell_type": "code",
      "source": [
        "sns.histplot(df_train.genre_div)"
      ],
      "metadata": {
        "colab": {
          "base_uri": "https://localhost:8080/",
          "height": 303
        },
        "id": "Nds6YZd-Iawj",
        "outputId": "c7046788-b790-46be-db64-557cac0b60bd"
      },
      "execution_count": null,
      "outputs": [
        {
          "output_type": "execute_result",
          "data": {
            "text/plain": [
              "<matplotlib.axes._subplots.AxesSubplot at 0x7fe435aa4d10>"
            ]
          },
          "metadata": {},
          "execution_count": 391
        },
        {
          "output_type": "display_data",
          "data": {
            "text/plain": [
              "<Figure size 432x288 with 1 Axes>"
            ],
            "image/png": "[encoded data removed]"
          },
          "metadata": {
            "needs_background": "light"
          }
        }
      ]
    },
    {
      "cell_type": "markdown",
      "source": [
        "vs. Artist Popularity"
      ],
      "metadata": {
        "id": "XU5yiXzi15IK"
      }
    },
    {
      "cell_type": "code",
      "source": [
        "sns.regplot(x=df_train['genre_div'],y=df_train['avg_streams'])"
      ],
      "metadata": {
        "colab": {
          "base_uri": "https://localhost:8080/",
          "height": 303
        },
        "id": "rgD72xYRIzLQ",
        "outputId": "77dc2a4d-2a1e-4381-84f5-b29e12d0b5a0"
      },
      "execution_count": null,
      "outputs": [
        {
          "output_type": "execute_result",
          "data": {
            "text/plain": [
              "<matplotlib.axes._subplots.AxesSubplot at 0x7f398ce73dd0>"
            ]
          },
          "metadata": {},
          "execution_count": 94
        },
        {
          "output_type": "display_data",
          "data": {
            "text/plain": [
              "<Figure size 432x288 with 1 Axes>"
            ],
            "image/png": "[encoded data removed]"
          },
          "metadata": {
            "needs_background": "light"
          }
        }
      ]
    },
    {
      "cell_type": "markdown",
      "source": [
        "vs. Genre"
      ],
      "metadata": {
        "id": "ga3__E5niQMR"
      }
    },
    {
      "cell_type": "code",
      "source": [
        "sns.catplot(x='genre_dom', y='genre_div', data=df_train, kind='box' ,aspect=2.5 );"
      ],
      "metadata": {
        "colab": {
          "base_uri": "https://localhost:8080/",
          "height": 365
        },
        "id": "eZnqo1QniTnV",
        "outputId": "b0524d94-a2e2-4e40-9dde-80144043bf12"
      },
      "execution_count": null,
      "outputs": [
        {
          "output_type": "display_data",
          "data": {
            "text/plain": [
              "<Figure size 900x360 with 1 Axes>"
            ],
            "image/png": "[encoded data removed]"
          },
          "metadata": {
            "needs_background": "light"
          }
        }
      ]
    },
    {
      "cell_type": "markdown",
      "source": [
        "# Model Development and Analysis"
      ],
      "metadata": {
        "id": "LKe5tV9Dtp2b"
      }
    },
    {
      "cell_type": "code",
      "source": [
        "y_train = df_train[['avg_streams']]\n",
        "x_train = pd.get_dummies(df_train.drop(['avg_streams'], axis=1))\n",
        "\n",
        "x_train = sm.add_constant(x_train)"
      ],
      "metadata": {
        "colab": {
          "base_uri": "https://localhost:8080/"
        },
        "id": "rCXF4032lJWT",
        "outputId": "cbae14b5-285a-45b1-a422-aee6e4f9e3c1"
      },
      "execution_count": null,
      "outputs": [
        {
          "output_type": "stream",
          "name": "stderr",
          "text": [
            "/usr/local/lib/python3.7/dist-packages/statsmodels/tsa/tsatools.py:142: FutureWarning: In a future version of pandas all arguments of concat except for the argument 'objs' will be keyword-only\n",
            "  x = pd.concat(x[::order], 1)\n"
          ]
        }
      ]
    },
    {
      "cell_type": "code",
      "source": [
        "y_test = df_test['avg_streams']\n",
        "x_test = pd.get_dummies(df_train.drop(['avg_streams'], axis = 1))\n",
        "x_test = sm.add_constant(x_test)\n"
      ],
      "metadata": {
        "id": "02D7GsjVsjmD"
      },
      "execution_count": null,
      "outputs": []
    },
    {
      "cell_type": "markdown",
      "source": [
        "**Linear Regression (Shiva)**"
      ],
      "metadata": {
        "id": "kFL9f90vv2RH"
      }
    },
    {
      "cell_type": "markdown",
      "source": [
        "*Execution*"
      ],
      "metadata": {
        "id": "xEZok5ANwE53"
      }
    },
    {
      "cell_type": "code",
      "source": [
        "ols_model = sm.OLS(y_train, x_train)\n",
        "fit_model = ols_model.fit()\n",
        "\n",
        "print(fit_model.summary())"
      ],
      "metadata": {
        "colab": {
          "base_uri": "https://localhost:8080/"
        },
        "id": "D0ZcB9roqvcw",
        "outputId": "20074222-6d15-40f3-8324-07d3212271c8"
      },
      "execution_count": null,
      "outputs": [
        {
          "output_type": "stream",
          "name": "stdout",
          "text": [
            "                            OLS Regression Results                            \n",
            "==============================================================================\n",
            "Dep. Variable:            avg_streams   R-squared:                       0.086\n",
            "Model:                            OLS   Adj. R-squared:                  0.082\n",
            "Method:                 Least Squares   F-statistic:                     24.94\n",
            "Date:                Wed, 30 Nov 2022   Prob (F-statistic):           1.39e-88\n",
            "Time:                        10:11:55   Log-Likelihood:                -4777.6\n",
            "No. Observations:                5346   AIC:                             9597.\n",
            "Df Residuals:                    5325   BIC:                             9735.\n",
            "Df Model:                          20                                         \n",
            "Covariance Type:            nonrobust                                         \n",
            "=========================================================================================\n",
            "                            coef    std err          t      P>|t|      [0.025      0.975]\n",
            "-----------------------------------------------------------------------------------------\n",
            "const                     6.7241      0.208     32.259      0.000       6.315       7.133\n",
            "twt_freq              -3.595e-06      0.000     -0.021      0.984      -0.000       0.000\n",
            "genre_div                 0.0261      0.005      4.766      0.000       0.015       0.037\n",
            "avg_collab                0.0799      0.013      6.187      0.000       0.055       0.105\n",
            "avg_dance                -0.0075      0.153     -0.049      0.961      -0.307       0.292\n",
            "avg_energy               -1.1928      0.182     -6.550      0.000      -1.550      -0.836\n",
            "avg_loud                  0.0685      0.008      8.795      0.000       0.053       0.084\n",
            "avg_mode                  0.1873      0.048      3.896      0.000       0.093       0.282\n",
            "avg_spch                 -0.5174      0.160     -3.226      0.001      -0.832      -0.203\n",
            "avg_acoust               -0.1202      0.092     -1.310      0.190      -0.300       0.060\n",
            "avg_instr                 0.3306      0.102      3.255      0.001       0.132       0.530\n",
            "avg_live                  0.3473      0.175      1.990      0.047       0.005       0.689\n",
            "avg_val                   0.2800      0.097      2.884      0.004       0.090       0.470\n",
            "avg_temp                  0.0013      0.001      1.367      0.172      -0.001       0.003\n",
            "avg_dur                  -0.0352      0.014     -2.537      0.011      -0.062      -0.008\n",
            "genre_dom_country         1.0768      0.091     11.787      0.000       0.898       1.256\n",
            "genre_dom_edm             1.0730      0.073     14.742      0.000       0.930       1.216\n",
            "genre_dom_misc            1.0843      0.042     26.022      0.000       1.003       1.166\n",
            "genre_dom_pop             0.7706      0.040     19.487      0.000       0.693       0.848\n",
            "genre_dom_r&b             1.0612      0.130      8.168      0.000       0.806       1.316\n",
            "genre_dom_rap/hip-hop     0.8426      0.044     19.023      0.000       0.756       0.929\n",
            "genre_dom_rock            0.8156      0.061     13.378      0.000       0.696       0.935\n",
            "==============================================================================\n",
            "Omnibus:                       37.660   Durbin-Watson:                   2.039\n",
            "Prob(Omnibus):                  0.000   Jarque-Bera (JB):               37.701\n",
            "Skew:                           0.194   Prob(JB):                     6.51e-09\n",
            "Kurtosis:                       2.861   Cond. No.                     1.91e+17\n",
            "==============================================================================\n",
            "\n",
            "Notes:\n",
            "[1] Standard Errors assume that the covariance matrix of the errors is correctly specified.\n",
            "[2] The smallest eigenvalue is 2.26e-27. This might indicate that there are\n",
            "strong multicollinearity problems or that the design matrix is singular.\n"
          ]
        }
      ]
    },
    {
      "cell_type": "code",
      "source": [
        "lr_model = LinearRegression()\n",
        "lr_cv = cross_val_score(\n",
        "    lr_model,\n",
        "    x_train,\n",
        "    y_train,\n",
        "    cv=4,\n",
        "    scoring='r2',\n",
        "    n_jobs = CPUS-1\n",
        ")\n",
        "print(f\"Default model parameters:\\n{lr_model.get_params()}\")\n",
        "print(f\"Fold scores:\\n{lr_cv}\")\n",
        "print(f\"Mean score: {lr_cv.mean():.8f}\")"
      ],
      "metadata": {
        "colab": {
          "base_uri": "https://localhost:8080/"
        },
        "id": "DSFCl-15vEHG",
        "outputId": "f798c501-7d3a-4729-c0d1-13bcc30e3dde"
      },
      "execution_count": null,
      "outputs": [
        {
          "output_type": "stream",
          "name": "stdout",
          "text": [
            "Default model parameters:\n",
            "{'copy_X': True, 'fit_intercept': True, 'n_jobs': None, 'normalize': 'deprecated', 'positive': False}\n",
            "Fold scores:\n",
            "[0.0872 0.0821 0.056  0.0827]\n",
            "Mean score: 0.07700825\n"
          ]
        }
      ]
    },
    {
      "cell_type": "markdown",
      "source": [
        "Test RMSE Linear Regression"
      ],
      "metadata": {
        "id": "Or_eUzH96iOH"
      }
    },
    {
      "cell_type": "code",
      "source": [
        "lr_model.fit(x_train, y_train)\n",
        "lr_preds = lr_model.predict(x_test)\n",
        "lr_rmse = ((((lr_preds - y_test)**2).mean())**(1/2))\n",
        "lr_rmse"
      ],
      "metadata": {
        "colab": {
          "base_uri": "https://localhost:8080/"
        },
        "id": "hMZe4k6SLyDf",
        "outputId": "589d7878-9b4e-48ab-a0ee-5194d2a4015e"
      },
      "execution_count": null,
      "outputs": [
        {
          "output_type": "execute_result",
          "data": {
            "text/plain": [
              "0.5896011469923795"
            ]
          },
          "metadata": {},
          "execution_count": 134
        }
      ]
    },
    {
      "cell_type": "markdown",
      "source": [
        "**Lasso Regression (Shiva)**"
      ],
      "metadata": {
        "id": "yML3a8Fvv4XQ"
      }
    },
    {
      "cell_type": "markdown",
      "source": [
        "*Execution*"
      ],
      "metadata": {
        "id": "GiKCV36ywI3q"
      }
    },
    {
      "cell_type": "code",
      "source": [
        "lasso_r = Lasso()"
      ],
      "metadata": {
        "id": "Vl9kb0zNy-vw"
      },
      "execution_count": null,
      "outputs": []
    },
    {
      "cell_type": "code",
      "source": [
        "# Keep grid small to run quickly - alpha between 0 and 1\n",
        "alphas = np.logspace(start=-5,stop=-0.5,num=30,base=10.0)\n",
        "\n",
        "def lasso_gs(alphas):\n",
        "    tuned_params = {'alpha': alphas}\n",
        "    lr_gs = GridSearchCV(lasso_r,\n",
        "                         param_grid=tuned_params, \n",
        "                         scoring='r2',\n",
        "                         cv=4,\n",
        "                         refit=False,\n",
        "                         n_jobs=CPUS-1,\n",
        "                         verbose=10,\n",
        "                        ).fit(x_train,y_train)\n",
        "\n",
        "    return lr_gs\n",
        "    \n",
        "lr_gs = lasso_gs(alphas)"
      ],
      "metadata": {
        "colab": {
          "base_uri": "https://localhost:8080/"
        },
        "id": "2OuZzmwtzAm0",
        "outputId": "ba380da6-f6a4-435c-890c-fd492959c325"
      },
      "execution_count": null,
      "outputs": [
        {
          "output_type": "stream",
          "name": "stdout",
          "text": [
            "Fitting 4 folds for each of 30 candidates, totalling 120 fits\n",
            "[CV 1/4; 1/30] START alpha=1e-05................................................\n",
            "[CV 1/4; 1/30] END .................alpha=1e-05;, score=0.087 total time=   0.1s\n",
            "[CV 2/4; 1/30] START alpha=1e-05................................................\n"
          ]
        },
        {
          "output_type": "stream",
          "name": "stderr",
          "text": [
            "/usr/local/lib/python3.7/dist-packages/sklearn/linear_model/_coordinate_descent.py:648: ConvergenceWarning: Objective did not converge. You might want to increase the number of iterations, check the scale of the features or consider increasing regularisation. Duality gap: 3.579e+01, tolerance: 1.553e-01\n",
            "  coef_, l1_reg, l2_reg, X, y, max_iter, tol, rng, random, positive\n",
            "/usr/local/lib/python3.7/dist-packages/sklearn/linear_model/_coordinate_descent.py:648: ConvergenceWarning: Objective did not converge. You might want to increase the number of iterations, check the scale of the features or consider increasing regularisation. Duality gap: 3.616e+01, tolerance: 1.541e-01\n",
            "  coef_, l1_reg, l2_reg, X, y, max_iter, tol, rng, random, positive\n"
          ]
        },
        {
          "output_type": "stream",
          "name": "stdout",
          "text": [
            "[CV 2/4; 1/30] END .................alpha=1e-05;, score=0.082 total time=   0.1s\n",
            "[CV 3/4; 1/30] START alpha=1e-05................................................\n",
            "[CV 3/4; 1/30] END .................alpha=1e-05;, score=0.056 total time=   0.1s\n",
            "[CV 4/4; 1/30] START alpha=1e-05................................................\n"
          ]
        },
        {
          "output_type": "stream",
          "name": "stderr",
          "text": [
            "/usr/local/lib/python3.7/dist-packages/sklearn/linear_model/_coordinate_descent.py:648: ConvergenceWarning: Objective did not converge. You might want to increase the number of iterations, check the scale of the features or consider increasing regularisation. Duality gap: 3.568e+01, tolerance: 1.507e-01\n",
            "  coef_, l1_reg, l2_reg, X, y, max_iter, tol, rng, random, positive\n",
            "/usr/local/lib/python3.7/dist-packages/sklearn/linear_model/_coordinate_descent.py:648: ConvergenceWarning: Objective did not converge. You might want to increase the number of iterations, check the scale of the features or consider increasing regularisation. Duality gap: 3.558e+01, tolerance: 1.534e-01\n",
            "  coef_, l1_reg, l2_reg, X, y, max_iter, tol, rng, random, positive\n"
          ]
        },
        {
          "output_type": "stream",
          "name": "stdout",
          "text": [
            "[CV 4/4; 1/30] END .................alpha=1e-05;, score=0.083 total time=   0.1s\n",
            "[CV 1/4; 2/30] START alpha=1.429461338356844e-05................................\n",
            "[CV 1/4; 2/30] END .alpha=1.429461338356844e-05;, score=0.087 total time=   0.1s\n",
            "[CV 2/4; 2/30] START alpha=1.429461338356844e-05................................\n"
          ]
        },
        {
          "output_type": "stream",
          "name": "stderr",
          "text": [
            "/usr/local/lib/python3.7/dist-packages/sklearn/linear_model/_coordinate_descent.py:648: ConvergenceWarning: Objective did not converge. You might want to increase the number of iterations, check the scale of the features or consider increasing regularisation. Duality gap: 3.580e+01, tolerance: 1.553e-01\n",
            "  coef_, l1_reg, l2_reg, X, y, max_iter, tol, rng, random, positive\n",
            "/usr/local/lib/python3.7/dist-packages/sklearn/linear_model/_coordinate_descent.py:648: ConvergenceWarning: Objective did not converge. You might want to increase the number of iterations, check the scale of the features or consider increasing regularisation. Duality gap: 3.618e+01, tolerance: 1.541e-01\n",
            "  coef_, l1_reg, l2_reg, X, y, max_iter, tol, rng, random, positive\n"
          ]
        },
        {
          "output_type": "stream",
          "name": "stdout",
          "text": [
            "[CV 2/4; 2/30] END .alpha=1.429461338356844e-05;, score=0.082 total time=   0.1s\n",
            "[CV 3/4; 2/30] START alpha=1.429461338356844e-05................................\n",
            "[CV 3/4; 2/30] END .alpha=1.429461338356844e-05;, score=0.056 total time=   0.1s\n",
            "[CV 4/4; 2/30] START alpha=1.429461338356844e-05................................\n"
          ]
        },
        {
          "output_type": "stream",
          "name": "stderr",
          "text": [
            "/usr/local/lib/python3.7/dist-packages/sklearn/linear_model/_coordinate_descent.py:648: ConvergenceWarning: Objective did not converge. You might want to increase the number of iterations, check the scale of the features or consider increasing regularisation. Duality gap: 3.570e+01, tolerance: 1.507e-01\n",
            "  coef_, l1_reg, l2_reg, X, y, max_iter, tol, rng, random, positive\n",
            "/usr/local/lib/python3.7/dist-packages/sklearn/linear_model/_coordinate_descent.py:648: ConvergenceWarning: Objective did not converge. You might want to increase the number of iterations, check the scale of the features or consider increasing regularisation. Duality gap: 3.560e+01, tolerance: 1.534e-01\n",
            "  coef_, l1_reg, l2_reg, X, y, max_iter, tol, rng, random, positive\n"
          ]
        },
        {
          "output_type": "stream",
          "name": "stdout",
          "text": [
            "[CV 4/4; 2/30] END .alpha=1.429461338356844e-05;, score=0.083 total time=   0.1s\n",
            "[CV 1/4; 3/30] START alpha=2.0433597178569438e-05...............................\n",
            "[CV 1/4; 3/30] END alpha=2.0433597178569438e-05;, score=0.087 total time=   0.1s\n",
            "[CV 2/4; 3/30] START alpha=2.0433597178569438e-05...............................\n"
          ]
        },
        {
          "output_type": "stream",
          "name": "stderr",
          "text": [
            "/usr/local/lib/python3.7/dist-packages/sklearn/linear_model/_coordinate_descent.py:648: ConvergenceWarning: Objective did not converge. You might want to increase the number of iterations, check the scale of the features or consider increasing regularisation. Duality gap: 3.582e+01, tolerance: 1.553e-01\n",
            "  coef_, l1_reg, l2_reg, X, y, max_iter, tol, rng, random, positive\n",
            "/usr/local/lib/python3.7/dist-packages/sklearn/linear_model/_coordinate_descent.py:648: ConvergenceWarning: Objective did not converge. You might want to increase the number of iterations, check the scale of the features or consider increasing regularisation. Duality gap: 3.621e+01, tolerance: 1.541e-01\n",
            "  coef_, l1_reg, l2_reg, X, y, max_iter, tol, rng, random, positive\n"
          ]
        },
        {
          "output_type": "stream",
          "name": "stdout",
          "text": [
            "[CV 2/4; 3/30] END alpha=2.0433597178569438e-05;, score=0.082 total time=   0.1s\n",
            "[CV 3/4; 3/30] START alpha=2.0433597178569438e-05...............................\n",
            "[CV 3/4; 3/30] END alpha=2.0433597178569438e-05;, score=0.056 total time=   0.1s\n",
            "[CV 4/4; 3/30] START alpha=2.0433597178569438e-05...............................\n"
          ]
        },
        {
          "output_type": "stream",
          "name": "stderr",
          "text": [
            "/usr/local/lib/python3.7/dist-packages/sklearn/linear_model/_coordinate_descent.py:648: ConvergenceWarning: Objective did not converge. You might want to increase the number of iterations, check the scale of the features or consider increasing regularisation. Duality gap: 3.572e+01, tolerance: 1.507e-01\n",
            "  coef_, l1_reg, l2_reg, X, y, max_iter, tol, rng, random, positive\n",
            "/usr/local/lib/python3.7/dist-packages/sklearn/linear_model/_coordinate_descent.py:648: ConvergenceWarning: Objective did not converge. You might want to increase the number of iterations, check the scale of the features or consider increasing regularisation. Duality gap: 3.562e+01, tolerance: 1.534e-01\n",
            "  coef_, l1_reg, l2_reg, X, y, max_iter, tol, rng, random, positive\n"
          ]
        },
        {
          "output_type": "stream",
          "name": "stdout",
          "text": [
            "[CV 4/4; 3/30] END alpha=2.0433597178569438e-05;, score=0.083 total time=   0.1s\n",
            "[CV 1/4; 4/30] START alpha=2.92090371703225e-05.................................\n",
            "[CV 1/4; 4/30] END ..alpha=2.92090371703225e-05;, score=0.087 total time=   0.1s\n",
            "[CV 2/4; 4/30] START alpha=2.92090371703225e-05.................................\n"
          ]
        },
        {
          "output_type": "stream",
          "name": "stderr",
          "text": [
            "/usr/local/lib/python3.7/dist-packages/sklearn/linear_model/_coordinate_descent.py:648: ConvergenceWarning: Objective did not converge. You might want to increase the number of iterations, check the scale of the features or consider increasing regularisation. Duality gap: 3.585e+01, tolerance: 1.553e-01\n",
            "  coef_, l1_reg, l2_reg, X, y, max_iter, tol, rng, random, positive\n",
            "/usr/local/lib/python3.7/dist-packages/sklearn/linear_model/_coordinate_descent.py:648: ConvergenceWarning: Objective did not converge. You might want to increase the number of iterations, check the scale of the features or consider increasing regularisation. Duality gap: 3.624e+01, tolerance: 1.541e-01\n",
            "  coef_, l1_reg, l2_reg, X, y, max_iter, tol, rng, random, positive\n"
          ]
        },
        {
          "output_type": "stream",
          "name": "stdout",
          "text": [
            "[CV 2/4; 4/30] END ..alpha=2.92090371703225e-05;, score=0.082 total time=   0.1s\n",
            "[CV 3/4; 4/30] START alpha=2.92090371703225e-05.................................\n",
            "[CV 3/4; 4/30] END ..alpha=2.92090371703225e-05;, score=0.056 total time=   0.1s\n",
            "[CV 4/4; 4/30] START alpha=2.92090371703225e-05.................................\n"
          ]
        },
        {
          "output_type": "stream",
          "name": "stderr",
          "text": [
            "/usr/local/lib/python3.7/dist-packages/sklearn/linear_model/_coordinate_descent.py:648: ConvergenceWarning: Objective did not converge. You might want to increase the number of iterations, check the scale of the features or consider increasing regularisation. Duality gap: 3.576e+01, tolerance: 1.507e-01\n",
            "  coef_, l1_reg, l2_reg, X, y, max_iter, tol, rng, random, positive\n",
            "/usr/local/lib/python3.7/dist-packages/sklearn/linear_model/_coordinate_descent.py:648: ConvergenceWarning: Objective did not converge. You might want to increase the number of iterations, check the scale of the features or consider increasing regularisation. Duality gap: 3.564e+01, tolerance: 1.534e-01\n",
            "  coef_, l1_reg, l2_reg, X, y, max_iter, tol, rng, random, positive\n"
          ]
        },
        {
          "output_type": "stream",
          "name": "stdout",
          "text": [
            "[CV 4/4; 4/30] END ..alpha=2.92090371703225e-05;, score=0.082 total time=   0.1s\n",
            "[CV 1/4; 5/30] START alpha=4.1753189365604006e-05...............................\n",
            "[CV 1/4; 5/30] END alpha=4.1753189365604006e-05;, score=0.087 total time=   0.1s\n",
            "[CV 2/4; 5/30] START alpha=4.1753189365604006e-05...............................\n"
          ]
        },
        {
          "output_type": "stream",
          "name": "stderr",
          "text": [
            "/usr/local/lib/python3.7/dist-packages/sklearn/linear_model/_coordinate_descent.py:648: ConvergenceWarning: Objective did not converge. You might want to increase the number of iterations, check the scale of the features or consider increasing regularisation. Duality gap: 3.589e+01, tolerance: 1.553e-01\n",
            "  coef_, l1_reg, l2_reg, X, y, max_iter, tol, rng, random, positive\n",
            "/usr/local/lib/python3.7/dist-packages/sklearn/linear_model/_coordinate_descent.py:648: ConvergenceWarning: Objective did not converge. You might want to increase the number of iterations, check the scale of the features or consider increasing regularisation. Duality gap: 3.629e+01, tolerance: 1.541e-01\n",
            "  coef_, l1_reg, l2_reg, X, y, max_iter, tol, rng, random, positive\n"
          ]
        },
        {
          "output_type": "stream",
          "name": "stdout",
          "text": [
            "[CV 2/4; 5/30] END alpha=4.1753189365604006e-05;, score=0.082 total time=   0.1s\n",
            "[CV 3/4; 5/30] START alpha=4.1753189365604006e-05...............................\n",
            "[CV 3/4; 5/30] END alpha=4.1753189365604006e-05;, score=0.056 total time=   0.1s\n",
            "[CV 4/4; 5/30] START alpha=4.1753189365604006e-05...............................\n"
          ]
        },
        {
          "output_type": "stream",
          "name": "stderr",
          "text": [
            "/usr/local/lib/python3.7/dist-packages/sklearn/linear_model/_coordinate_descent.py:648: ConvergenceWarning: Objective did not converge. You might want to increase the number of iterations, check the scale of the features or consider increasing regularisation. Duality gap: 3.580e+01, tolerance: 1.507e-01\n",
            "  coef_, l1_reg, l2_reg, X, y, max_iter, tol, rng, random, positive\n",
            "/usr/local/lib/python3.7/dist-packages/sklearn/linear_model/_coordinate_descent.py:648: ConvergenceWarning: Objective did not converge. You might want to increase the number of iterations, check the scale of the features or consider increasing regularisation. Duality gap: 7.066e+00, tolerance: 1.534e-01\n",
            "  coef_, l1_reg, l2_reg, X, y, max_iter, tol, rng, random, positive\n",
            "/usr/local/lib/python3.7/dist-packages/sklearn/linear_model/_coordinate_descent.py:648: ConvergenceWarning: Objective did not converge. You might want to increase the number of iterations, check the scale of the features or consider increasing regularisation. Duality gap: 3.594e+01, tolerance: 1.553e-01\n",
            "  coef_, l1_reg, l2_reg, X, y, max_iter, tol, rng, random, positive\n"
          ]
        },
        {
          "output_type": "stream",
          "name": "stdout",
          "text": [
            "[CV 4/4; 5/30] END alpha=4.1753189365604006e-05;, score=0.082 total time=   0.1s\n",
            "[CV 1/4; 6/30] START alpha=5.9684569951223044e-05...............................\n",
            "[CV 1/4; 6/30] END alpha=5.9684569951223044e-05;, score=0.087 total time=   0.1s\n",
            "[CV 2/4; 6/30] START alpha=5.9684569951223044e-05...............................\n",
            "[CV 2/4; 6/30] END alpha=5.9684569951223044e-05;, score=0.083 total time=   0.1s\n",
            "[CV 3/4; 6/30] START alpha=5.9684569951223044e-05...............................\n"
          ]
        },
        {
          "output_type": "stream",
          "name": "stderr",
          "text": [
            "/usr/local/lib/python3.7/dist-packages/sklearn/linear_model/_coordinate_descent.py:648: ConvergenceWarning: Objective did not converge. You might want to increase the number of iterations, check the scale of the features or consider increasing regularisation. Duality gap: 3.634e+01, tolerance: 1.541e-01\n",
            "  coef_, l1_reg, l2_reg, X, y, max_iter, tol, rng, random, positive\n",
            "/usr/local/lib/python3.7/dist-packages/sklearn/linear_model/_coordinate_descent.py:648: ConvergenceWarning: Objective did not converge. You might want to increase the number of iterations, check the scale of the features or consider increasing regularisation. Duality gap: 7.348e-01, tolerance: 1.507e-01\n",
            "  coef_, l1_reg, l2_reg, X, y, max_iter, tol, rng, random, positive\n"
          ]
        },
        {
          "output_type": "stream",
          "name": "stdout",
          "text": [
            "[CV 3/4; 6/30] END alpha=5.9684569951223044e-05;, score=0.057 total time=   0.1s\n",
            "[CV 4/4; 6/30] START alpha=5.9684569951223044e-05...............................\n",
            "[CV 4/4; 6/30] END alpha=5.9684569951223044e-05;, score=0.082 total time=   0.1s\n",
            "[CV 1/4; 7/30] START alpha=8.531678524172815e-05................................\n"
          ]
        },
        {
          "output_type": "stream",
          "name": "stderr",
          "text": [
            "/usr/local/lib/python3.7/dist-packages/sklearn/linear_model/_coordinate_descent.py:648: ConvergenceWarning: Objective did not converge. You might want to increase the number of iterations, check the scale of the features or consider increasing regularisation. Duality gap: 3.598e+01, tolerance: 1.553e-01\n",
            "  coef_, l1_reg, l2_reg, X, y, max_iter, tol, rng, random, positive\n"
          ]
        },
        {
          "output_type": "stream",
          "name": "stdout",
          "text": [
            "[CV 1/4; 7/30] END .alpha=8.531678524172815e-05;, score=0.087 total time=   0.1s\n",
            "[CV 2/4; 7/30] START alpha=8.531678524172815e-05................................\n",
            "[CV 2/4; 7/30] END .alpha=8.531678524172815e-05;, score=0.083 total time=   0.1s\n",
            "[CV 3/4; 7/30] START alpha=8.531678524172815e-05................................\n",
            "[CV 3/4; 7/30] END .alpha=8.531678524172815e-05;, score=0.057 total time=   0.1s\n",
            "[CV 4/4; 7/30] START alpha=8.531678524172815e-05................................\n",
            "[CV 4/4; 7/30] END .alpha=8.531678524172815e-05;, score=0.082 total time=   0.1s\n",
            "[CV 1/4; 8/30] START alpha=0.00012195704601594415...............................\n",
            "[CV 1/4; 8/30] END alpha=0.00012195704601594415;, score=0.087 total time=   0.1s\n",
            "[CV 2/4; 8/30] START alpha=0.00012195704601594415...............................\n",
            "[CV 2/4; 8/30] END alpha=0.00012195704601594415;, score=0.083 total time=   0.1s\n",
            "[CV 3/4; 8/30] START alpha=0.00012195704601594415...............................\n",
            "[CV 3/4; 8/30] END alpha=0.00012195704601594415;, score=0.057 total time=   0.1s\n",
            "[CV 4/4; 8/30] START alpha=0.00012195704601594415...............................\n",
            "[CV 4/4; 8/30] END alpha=0.00012195704601594415;, score=0.082 total time=   0.1s\n",
            "[CV 1/4; 9/30] START alpha=0.00017433288221999874...............................\n",
            "[CV 1/4; 9/30] END alpha=0.00017433288221999874;, score=0.086 total time=   0.1s\n",
            "[CV 2/4; 9/30] START alpha=0.00017433288221999874...............................\n",
            "[CV 2/4; 9/30] END alpha=0.00017433288221999874;, score=0.083 total time=   0.0s\n",
            "[CV 3/4; 9/30] START alpha=0.00017433288221999874...............................\n",
            "[CV 3/4; 9/30] END alpha=0.00017433288221999874;, score=0.058 total time=   0.1s\n",
            "[CV 4/4; 9/30] START alpha=0.00017433288221999874...............................\n",
            "[CV 4/4; 9/30] END alpha=0.00017433288221999874;, score=0.081 total time=   0.1s\n",
            "[CV 1/4; 10/30] START alpha=0.00024920211513780567..............................\n",
            "[CV 1/4; 10/30] END alpha=0.00024920211513780567;, score=0.086 total time=   0.0s\n",
            "[CV 2/4; 10/30] START alpha=0.00024920211513780567..............................\n",
            "[CV 2/4; 10/30] END alpha=0.00024920211513780567;, score=0.084 total time=   0.0s\n",
            "[CV 3/4; 10/30] START alpha=0.00024920211513780567..............................\n",
            "[CV 3/4; 10/30] END alpha=0.00024920211513780567;, score=0.058 total time=   0.1s\n",
            "[CV 4/4; 10/30] START alpha=0.00024920211513780567..............................\n",
            "[CV 4/4; 10/30] END alpha=0.00024920211513780567;, score=0.081 total time=   0.0s\n",
            "[CV 1/4; 11/30] START alpha=0.0003562247890262444...............................\n",
            "[CV 1/4; 11/30] END alpha=0.0003562247890262444;, score=0.085 total time=   0.0s\n",
            "[CV 2/4; 11/30] START alpha=0.0003562247890262444...............................\n",
            "[CV 2/4; 11/30] END alpha=0.0003562247890262444;, score=0.084 total time=   0.0s\n",
            "[CV 3/4; 11/30] START alpha=0.0003562247890262444...............................\n",
            "[CV 3/4; 11/30] END alpha=0.0003562247890262444;, score=0.059 total time=   0.0s\n",
            "[CV 4/4; 11/30] START alpha=0.0003562247890262444...............................\n",
            "[CV 4/4; 11/30] END alpha=0.0003562247890262444;, score=0.080 total time=   0.0s\n",
            "[CV 1/4; 12/30] START alpha=0.0005092095636773398...............................\n",
            "[CV 1/4; 12/30] END alpha=0.0005092095636773398;, score=0.083 total time=   0.0s\n",
            "[CV 2/4; 12/30] START alpha=0.0005092095636773398...............................\n",
            "[CV 2/4; 12/30] END alpha=0.0005092095636773398;, score=0.084 total time=   0.0s\n",
            "[CV 3/4; 12/30] START alpha=0.0005092095636773398...............................\n",
            "[CV 3/4; 12/30] END alpha=0.0005092095636773398;, score=0.060 total time=   0.0s\n",
            "[CV 4/4; 12/30] START alpha=0.0005092095636773398...............................\n",
            "[CV 4/4; 12/30] END alpha=0.0005092095636773398;, score=0.078 total time=   0.0s\n",
            "[CV 1/4; 13/30] START alpha=0.0007278953843983154...............................\n",
            "[CV 1/4; 13/30] END alpha=0.0007278953843983154;, score=0.080 total time=   0.0s\n",
            "[CV 2/4; 13/30] START alpha=0.0007278953843983154...............................\n",
            "[CV 2/4; 13/30] END alpha=0.0007278953843983154;, score=0.084 total time=   0.0s\n",
            "[CV 3/4; 13/30] START alpha=0.0007278953843983154...............................\n",
            "[CV 3/4; 13/30] END alpha=0.0007278953843983154;, score=0.061 total time=   0.0s\n",
            "[CV 4/4; 13/30] START alpha=0.0007278953843983154...............................\n",
            "[CV 4/4; 13/30] END alpha=0.0007278953843983154;, score=0.076 total time=   0.0s\n",
            "[CV 1/4; 14/30] START alpha=0.0010404983103657853...............................\n",
            "[CV 1/4; 14/30] END alpha=0.0010404983103657853;, score=0.078 total time=   0.0s\n",
            "[CV 2/4; 14/30] START alpha=0.0010404983103657853...............................\n",
            "[CV 2/4; 14/30] END alpha=0.0010404983103657853;, score=0.083 total time=   0.0s\n",
            "[CV 3/4; 14/30] START alpha=0.0010404983103657853...............................\n",
            "[CV 3/4; 14/30] END alpha=0.0010404983103657853;, score=0.061 total time=   0.0s\n",
            "[CV 4/4; 14/30] START alpha=0.0010404983103657853...............................\n",
            "[CV 4/4; 14/30] END alpha=0.0010404983103657853;, score=0.073 total time=   0.0s\n",
            "[CV 1/4; 15/30] START alpha=0.0014873521072935117...............................\n",
            "[CV 1/4; 15/30] END alpha=0.0014873521072935117;, score=0.076 total time=   0.0s\n",
            "[CV 2/4; 15/30] START alpha=0.0014873521072935117...............................\n",
            "[CV 2/4; 15/30] END alpha=0.0014873521072935117;, score=0.081 total time=   0.0s\n",
            "[CV 3/4; 15/30] START alpha=0.0014873521072935117...............................\n",
            "[CV 3/4; 15/30] END alpha=0.0014873521072935117;, score=0.060 total time=   0.0s\n",
            "[CV 4/4; 15/30] START alpha=0.0014873521072935117...............................\n",
            "[CV 4/4; 15/30] END alpha=0.0014873521072935117;, score=0.069 total time=   0.0s\n",
            "[CV 1/4; 16/30] START alpha=0.0021261123338996556...............................\n",
            "[CV 1/4; 16/30] END alpha=0.0021261123338996556;, score=0.073 total time=   0.0s\n",
            "[CV 2/4; 16/30] START alpha=0.0021261123338996556...............................\n",
            "[CV 2/4; 16/30] END alpha=0.0021261123338996556;, score=0.078 total time=   0.0s\n",
            "[CV 3/4; 16/30] START alpha=0.0021261123338996556...............................\n",
            "[CV 3/4; 16/30] END alpha=0.0021261123338996556;, score=0.059 total time=   0.0s\n",
            "[CV 4/4; 16/30] START alpha=0.0021261123338996556...............................\n",
            "[CV 4/4; 16/30] END alpha=0.0021261123338996556;, score=0.065 total time=   0.0s\n",
            "[CV 1/4; 17/30] START alpha=0.0030391953823131978...............................\n",
            "[CV 1/4; 17/30] END alpha=0.0030391953823131978;, score=0.070 total time=   0.0s\n",
            "[CV 2/4; 17/30] START alpha=0.0030391953823131978...............................\n",
            "[CV 2/4; 17/30] END alpha=0.0030391953823131978;, score=0.073 total time=   0.0s\n",
            "[CV 3/4; 17/30] START alpha=0.0030391953823131978...............................\n",
            "[CV 3/4; 17/30] END alpha=0.0030391953823131978;, score=0.058 total time=   0.0s\n",
            "[CV 4/4; 17/30] START alpha=0.0030391953823131978...............................\n",
            "[CV 4/4; 17/30] END alpha=0.0030391953823131978;, score=0.061 total time=   0.0s\n",
            "[CV 1/4; 18/30] START alpha=0.004344412298729368................................\n",
            "[CV 1/4; 18/30] END .alpha=0.004344412298729368;, score=0.068 total time=   0.0s\n",
            "[CV 2/4; 18/30] START alpha=0.004344412298729368................................\n",
            "[CV 2/4; 18/30] END .alpha=0.004344412298729368;, score=0.070 total time=   0.0s\n",
            "[CV 3/4; 18/30] START alpha=0.004344412298729368................................\n",
            "[CV 3/4; 18/30] END .alpha=0.004344412298729368;, score=0.057 total time=   0.0s\n",
            "[CV 4/4; 18/30] START alpha=0.004344412298729368................................\n",
            "[CV 4/4; 18/30] END .alpha=0.004344412298729368;, score=0.058 total time=   0.0s\n",
            "[CV 1/4; 19/30] START alpha=0.006210169418915616................................\n",
            "[CV 1/4; 19/30] END .alpha=0.006210169418915616;, score=0.064 total time=   0.0s\n",
            "[CV 2/4; 19/30] START alpha=0.006210169418915616................................\n",
            "[CV 2/4; 19/30] END .alpha=0.006210169418915616;, score=0.067 total time=   0.0s\n",
            "[CV 3/4; 19/30] START alpha=0.006210169418915616................................\n",
            "[CV 3/4; 19/30] END .alpha=0.006210169418915616;, score=0.057 total time=   0.0s\n",
            "[CV 4/4; 19/30] START alpha=0.006210169418915616................................\n",
            "[CV 4/4; 19/30] END .alpha=0.006210169418915616;, score=0.055 total time=   0.0s\n",
            "[CV 1/4; 20/30] START alpha=0.00887719708898587.................................\n",
            "[CV 1/4; 20/30] END ..alpha=0.00887719708898587;, score=0.059 total time=   0.0s\n",
            "[CV 2/4; 20/30] START alpha=0.00887719708898587.................................\n",
            "[CV 2/4; 20/30] END ..alpha=0.00887719708898587;, score=0.063 total time=   0.0s\n",
            "[CV 3/4; 20/30] START alpha=0.00887719708898587.................................\n",
            "[CV 3/4; 20/30] END ..alpha=0.00887719708898587;, score=0.056 total time=   0.0s\n",
            "[CV 4/4; 20/30] START alpha=0.00887719708898587.................................\n",
            "[CV 4/4; 20/30] END ..alpha=0.00887719708898587;, score=0.052 total time=   0.0s\n",
            "[CV 1/4; 21/30] START alpha=0.01268961003167922.................................\n",
            "[CV 1/4; 21/30] END ..alpha=0.01268961003167922;, score=0.056 total time=   0.0s\n",
            "[CV 2/4; 21/30] START alpha=0.01268961003167922.................................\n",
            "[CV 2/4; 21/30] END ..alpha=0.01268961003167922;, score=0.060 total time=   0.0s\n",
            "[CV 3/4; 21/30] START alpha=0.01268961003167922.................................\n",
            "[CV 3/4; 21/30] END ..alpha=0.01268961003167922;, score=0.054 total time=   0.0s\n",
            "[CV 4/4; 21/30] START alpha=0.01268961003167922.................................\n",
            "[CV 4/4; 21/30] END ..alpha=0.01268961003167922;, score=0.051 total time=   0.0s\n",
            "[CV 1/4; 22/30] START alpha=0.01813930693911063.................................\n",
            "[CV 1/4; 22/30] END ..alpha=0.01813930693911063;, score=0.050 total time=   0.0s\n",
            "[CV 2/4; 22/30] START alpha=0.01813930693911063.................................\n",
            "[CV 2/4; 22/30] END ..alpha=0.01813930693911063;, score=0.055 total time=   0.0s\n",
            "[CV 3/4; 22/30] START alpha=0.01813930693911063.................................\n",
            "[CV 3/4; 22/30] END ..alpha=0.01813930693911063;, score=0.052 total time=   0.0s\n",
            "[CV 4/4; 22/30] START alpha=0.01813930693911063.................................\n",
            "[CV 4/4; 22/30] END ..alpha=0.01813930693911063;, score=0.048 total time=   0.0s\n",
            "[CV 1/4; 23/30] START alpha=0.02592943797404667.................................\n",
            "[CV 1/4; 23/30] END ..alpha=0.02592943797404667;, score=0.043 total time=   0.0s\n",
            "[CV 2/4; 23/30] START alpha=0.02592943797404667.................................\n",
            "[CV 2/4; 23/30] END ..alpha=0.02592943797404667;, score=0.047 total time=   0.0s\n",
            "[CV 3/4; 23/30] START alpha=0.02592943797404667.................................\n",
            "[CV 3/4; 23/30] END ..alpha=0.02592943797404667;, score=0.046 total time=   0.0s\n",
            "[CV 4/4; 23/30] START alpha=0.02592943797404667.................................\n",
            "[CV 4/4; 23/30] END ..alpha=0.02592943797404667;, score=0.044 total time=   0.0s\n",
            "[CV 1/4; 24/30] START alpha=0.037065129109221565................................\n",
            "[CV 1/4; 24/30] END .alpha=0.037065129109221565;, score=0.031 total time=   0.0s\n",
            "[CV 2/4; 24/30] START alpha=0.037065129109221565................................\n",
            "[CV 2/4; 24/30] END .alpha=0.037065129109221565;, score=0.035 total time=   0.0s\n",
            "[CV 3/4; 24/30] START alpha=0.037065129109221565................................\n",
            "[CV 3/4; 24/30] END .alpha=0.037065129109221565;, score=0.036 total time=   0.0s\n",
            "[CV 4/4; 24/30] START alpha=0.037065129109221565................................\n",
            "[CV 4/4; 24/30] END .alpha=0.037065129109221565;, score=0.036 total time=   0.0s\n",
            "[CV 1/4; 25/30] START alpha=0.05298316906283713.................................\n",
            "[CV 1/4; 25/30] END ..alpha=0.05298316906283713;, score=0.011 total time=   0.0s\n",
            "[CV 2/4; 25/30] START alpha=0.05298316906283713.................................\n",
            "[CV 2/4; 25/30] END ..alpha=0.05298316906283713;, score=0.012 total time=   0.0s\n",
            "[CV 3/4; 25/30] START alpha=0.05298316906283713.................................\n",
            "[CV 3/4; 25/30] END ..alpha=0.05298316906283713;, score=0.017 total time=   0.0s\n",
            "[CV 4/4; 25/30] START alpha=0.05298316906283713.................................\n",
            "[CV 4/4; 25/30] END ..alpha=0.05298316906283713;, score=0.020 total time=   0.0s\n",
            "[CV 1/4; 26/30] START alpha=0.0757373917589501..................................\n",
            "[CV 1/4; 26/30] END ...alpha=0.0757373917589501;, score=0.001 total time=   0.0s\n",
            "[CV 2/4; 26/30] START alpha=0.0757373917589501..................................\n",
            "[CV 2/4; 26/30] END ...alpha=0.0757373917589501;, score=0.005 total time=   0.0s\n",
            "[CV 3/4; 26/30] START alpha=0.0757373917589501..................................\n",
            "[CV 3/4; 26/30] END ...alpha=0.0757373917589501;, score=0.006 total time=   0.0s\n",
            "[CV 4/4; 26/30] START alpha=0.0757373917589501..................................\n",
            "[CV 4/4; 26/30] END ...alpha=0.0757373917589501;, score=0.008 total time=   0.0s\n",
            "[CV 1/4; 27/30] START alpha=0.1082636733874054..................................\n",
            "[CV 1/4; 27/30] END ..alpha=0.1082636733874054;, score=-0.001 total time=   0.0s\n",
            "[CV 2/4; 27/30] START alpha=0.1082636733874054..................................\n",
            "[CV 2/4; 27/30] END ...alpha=0.1082636733874054;, score=0.004 total time=   0.0s\n",
            "[CV 3/4; 27/30] START alpha=0.1082636733874054..................................\n",
            "[CV 3/4; 27/30] END ...alpha=0.1082636733874054;, score=0.002 total time=   0.0s\n",
            "[CV 4/4; 27/30] START alpha=0.1082636733874054..................................\n",
            "[CV 4/4; 27/30] END ...alpha=0.1082636733874054;, score=0.003 total time=   0.0s\n",
            "[CV 1/4; 28/30] START alpha=0.15475873545578908.................................\n",
            "[CV 1/4; 28/30] END .alpha=0.15475873545578908;, score=-0.002 total time=   0.0s\n",
            "[CV 2/4; 28/30] START alpha=0.15475873545578908.................................\n",
            "[CV 2/4; 28/30] END ..alpha=0.15475873545578908;, score=0.001 total time=   0.0s\n",
            "[CV 3/4; 28/30] START alpha=0.15475873545578908.................................\n",
            "[CV 3/4; 28/30] END .alpha=0.15475873545578908;, score=-0.000 total time=   0.0s\n",
            "[CV 4/4; 28/30] START alpha=0.15475873545578908.................................\n",
            "[CV 4/4; 28/30] END ..alpha=0.15475873545578908;, score=0.000 total time=   0.0s\n",
            "[CV 1/4; 29/30] START alpha=0.22122162910704501.................................\n",
            "[CV 1/4; 29/30] END .alpha=0.22122162910704501;, score=-0.002 total time=   0.0s\n",
            "[CV 2/4; 29/30] START alpha=0.22122162910704501.................................\n",
            "[CV 2/4; 29/30] END .alpha=0.22122162910704501;, score=-0.000 total time=   0.0s\n",
            "[CV 3/4; 29/30] START alpha=0.22122162910704501.................................\n",
            "[CV 3/4; 29/30] END .alpha=0.22122162910704501;, score=-0.001 total time=   0.0s\n",
            "[CV 4/4; 29/30] START alpha=0.22122162910704501.................................\n",
            "[CV 4/4; 29/30] END .alpha=0.22122162910704501;, score=-0.000 total time=   0.0s\n",
            "[CV 1/4; 30/30] START alpha=0.31622776601683794.................................\n",
            "[CV 1/4; 30/30] END .alpha=0.31622776601683794;, score=-0.001 total time=   0.0s\n",
            "[CV 2/4; 30/30] START alpha=0.31622776601683794.................................\n",
            "[CV 2/4; 30/30] END .alpha=0.31622776601683794;, score=-0.000 total time=   0.0s\n",
            "[CV 3/4; 30/30] START alpha=0.31622776601683794.................................\n",
            "[CV 3/4; 30/30] END .alpha=0.31622776601683794;, score=-0.001 total time=   0.0s\n",
            "[CV 4/4; 30/30] START alpha=0.31622776601683794.................................\n",
            "[CV 4/4; 30/30] END .alpha=0.31622776601683794;, score=-0.000 total time=   0.0s\n"
          ]
        }
      ]
    },
    {
      "cell_type": "code",
      "source": [
        "print(f\"Best parameter: {lr_gs.best_params_['alpha']:.5f} and score {lr_gs.best_score_:.2%}\")"
      ],
      "metadata": {
        "colab": {
          "base_uri": "https://localhost:8080/"
        },
        "id": "ySal49tI0EOc",
        "outputId": "c353137c-99d7-44aa-d3d1-61136590851a"
      },
      "execution_count": null,
      "outputs": [
        {
          "output_type": "stream",
          "name": "stdout",
          "text": [
            "Best parameter: 0.00012 and score 7.72%\n"
          ]
        }
      ]
    },
    {
      "cell_type": "code",
      "source": [
        "opt_lasso = Lasso(**lr_gs.best_params_)\n",
        "opt_lasso_cv = cross_val_score(\n",
        "    opt_lasso,\n",
        "    x_train,\n",
        "    y_train,\n",
        "    cv = 4,\n",
        "    scoring = 'r2',\n",
        "    n_jobs = CPUS - 1\n",
        ")\n",
        "print(f\"Default parameters:\\n{opt_lasso.get_params()}\")\n",
        "print(f\"Fold scores:\\n{opt_lasso_cv}\")\n",
        "print(f\"Mean score: {opt_lasso_cv.mean():.8f}\")"
      ],
      "metadata": {
        "colab": {
          "base_uri": "https://localhost:8080/"
        },
        "id": "RBD5wJ2l0Y6U",
        "outputId": "e4265234-b021-4938-ba51-a7785d332dff"
      },
      "execution_count": null,
      "outputs": [
        {
          "output_type": "stream",
          "name": "stdout",
          "text": [
            "Default parameters:\n",
            "{'alpha': 0.00012195704601594415, 'copy_X': True, 'fit_intercept': True, 'max_iter': 1000, 'normalize': 'deprecated', 'positive': False, 'precompute': False, 'random_state': None, 'selection': 'cyclic', 'tol': 0.0001, 'warm_start': False}\n",
            "Fold scores:\n",
            "[0.0867 0.0831 0.0572 0.0818]\n",
            "Mean score: 0.07718422\n"
          ]
        }
      ]
    },
    {
      "cell_type": "markdown",
      "source": [
        "Test RMSE Lasso Regression"
      ],
      "metadata": {
        "id": "KE_cbLzC6d5D"
      }
    },
    {
      "cell_type": "code",
      "source": [
        "opt_lasso.fit(x_train, y_train)\n",
        "opt_lasso_preds = opt_lasso.predict(x_test)\n",
        "opt_lasso_rmse = ((((opt_lasso_preds - y_test)**2).mean())**(1/2))\n",
        "opt_lasso_rmse"
      ],
      "metadata": {
        "colab": {
          "base_uri": "https://localhost:8080/"
        },
        "id": "0PhkTvZZOaH1",
        "outputId": "27437d74-856a-4b0a-82a1-139615f155e8"
      },
      "execution_count": null,
      "outputs": [
        {
          "output_type": "execute_result",
          "data": {
            "text/plain": [
              "0.5897630636247657"
            ]
          },
          "metadata": {},
          "execution_count": 139
        }
      ]
    },
    {
      "cell_type": "markdown",
      "source": [
        "**Random Forest (Tahmid)**"
      ],
      "metadata": {
        "id": "njSegZp7v9At"
      }
    },
    {
      "cell_type": "markdown",
      "source": [
        "*Execution*"
      ],
      "metadata": {
        "id": "8DCDl5IdwNLV"
      }
    },
    {
      "cell_type": "code",
      "source": [
        "y_train = df_train['avg_streams']\n",
        "x_train = pd.get_dummies(df_train.drop(['avg_streams'], axis=1))\n",
        "\n",
        "y_test = df_test['avg_streams']\n",
        "x_test = pd.get_dummies(df_test.drop(['avg_streams'], axis = 1))\n"
      ],
      "metadata": {
        "id": "SJ8H00onuFNJ"
      },
      "execution_count": null,
      "outputs": []
    },
    {
      "cell_type": "code",
      "source": [
        "rf_model = RandomForestRegressor()"
      ],
      "metadata": {
        "id": "i4_NG6mitgvR"
      },
      "execution_count": null,
      "outputs": []
    },
    {
      "cell_type": "code",
      "source": [
        "rf_cv = cross_val_score(rf_model,\n",
        "                        x_train,\n",
        "                        y_train,\n",
        "                        cv=4,\n",
        "                        scoring='r2',\n",
        "                        n_jobs=CPUS-1\n",
        "                       )\n",
        "print(f\"Default parameters:\\n{rf_model.get_params()}\")\n",
        "print(f\"Fold scores:\\n{rf_cv}\")\n",
        "print(f\"Mean score: {rf_cv.mean():.8f}\")"
      ],
      "metadata": {
        "colab": {
          "base_uri": "https://localhost:8080/"
        },
        "id": "iLcHEoTettx6",
        "outputId": "0f91559a-286e-4edd-a470-bbb5aeb5fe79"
      },
      "execution_count": null,
      "outputs": [
        {
          "output_type": "stream",
          "name": "stdout",
          "text": [
            "Default parameters:\n",
            "{'bootstrap': True, 'ccp_alpha': 0.0, 'criterion': 'squared_error', 'max_depth': None, 'max_features': 'auto', 'max_leaf_nodes': None, 'max_samples': None, 'min_impurity_decrease': 0.0, 'min_samples_leaf': 1, 'min_samples_split': 2, 'min_weight_fraction_leaf': 0.0, 'n_estimators': 100, 'n_jobs': None, 'oob_score': False, 'random_state': None, 'verbose': 0, 'warm_start': False}\n",
            "Fold scores:\n",
            "[0.1187 0.1309 0.0951 0.0973]\n",
            "Mean score: 0.11049940\n"
          ]
        }
      ]
    },
    {
      "cell_type": "code",
      "source": [
        "pgrid = {\n",
        "    'n_estimators': np.linspace(50,1000,20,dtype=int),\n",
        "    'max_features': ['auto','sqrt','log2'],\n",
        "    'min_samples_leaf': [1,2,4],\n",
        "    'min_samples_split': [2,4,8],\n",
        "}\n",
        "\n",
        "def random_forest_rs(pgrid,folds):\n",
        "    rf_rs = RandomizedSearchCV(estimator=rf_model,\n",
        "                               param_distributions=pgrid,\n",
        "                               scoring='r2',\n",
        "                               n_iter=30,\n",
        "                               cv=folds,\n",
        "                               verbose=10,\n",
        "                               n_jobs=CPUS-1,\n",
        "                               random_state=SEED\n",
        "                              ).fit(x_train,y_train)\n",
        "    \n",
        "    return rf_rs\n",
        "\n",
        "rf_rs = random_forest_rs(pgrid,4)"
      ],
      "metadata": {
        "colab": {
          "base_uri": "https://localhost:8080/"
        },
        "id": "I1CWjk3Bung8",
        "outputId": "f9acda21-326f-4d9f-a4c2-129a94c30cfb"
      },
      "execution_count": null,
      "outputs": [
        {
          "output_type": "stream",
          "name": "stdout",
          "text": [
            "Fitting 4 folds for each of 30 candidates, totalling 120 fits\n",
            "[CV 1/4; 1/30] START max_features=log2, min_samples_leaf=4, min_samples_split=4, n_estimators=400\n",
            "[CV 1/4; 1/30] END max_features=log2, min_samples_leaf=4, min_samples_split=4, n_estimators=400;, score=0.138 total time=   4.3s\n",
            "[CV 2/4; 1/30] START max_features=log2, min_samples_leaf=4, min_samples_split=4, n_estimators=400\n",
            "[CV 2/4; 1/30] END max_features=log2, min_samples_leaf=4, min_samples_split=4, n_estimators=400;, score=0.134 total time=   3.6s\n",
            "[CV 3/4; 1/30] START max_features=log2, min_samples_leaf=4, min_samples_split=4, n_estimators=400\n",
            "[CV 3/4; 1/30] END max_features=log2, min_samples_leaf=4, min_samples_split=4, n_estimators=400;, score=0.105 total time=   3.7s\n",
            "[CV 4/4; 1/30] START max_features=log2, min_samples_leaf=4, min_samples_split=4, n_estimators=400\n",
            "[CV 4/4; 1/30] END max_features=log2, min_samples_leaf=4, min_samples_split=4, n_estimators=400;, score=0.114 total time=   3.7s\n",
            "[CV 1/4; 2/30] START max_features=log2, min_samples_leaf=2, min_samples_split=8, n_estimators=950\n",
            "[CV 1/4; 2/30] END max_features=log2, min_samples_leaf=2, min_samples_split=8, n_estimators=950;, score=0.141 total time=   9.5s\n",
            "[CV 2/4; 2/30] START max_features=log2, min_samples_leaf=2, min_samples_split=8, n_estimators=950\n",
            "[CV 2/4; 2/30] END max_features=log2, min_samples_leaf=2, min_samples_split=8, n_estimators=950;, score=0.139 total time=   9.3s\n",
            "[CV 3/4; 2/30] START max_features=log2, min_samples_leaf=2, min_samples_split=8, n_estimators=950\n",
            "[CV 3/4; 2/30] END max_features=log2, min_samples_leaf=2, min_samples_split=8, n_estimators=950;, score=0.105 total time=   9.3s\n",
            "[CV 4/4; 2/30] START max_features=log2, min_samples_leaf=2, min_samples_split=8, n_estimators=950\n",
            "[CV 4/4; 2/30] END max_features=log2, min_samples_leaf=2, min_samples_split=8, n_estimators=950;, score=0.122 total time=   9.4s\n",
            "[CV 1/4; 3/30] START max_features=sqrt, min_samples_leaf=1, min_samples_split=4, n_estimators=700\n",
            "[CV 1/4; 3/30] END max_features=sqrt, min_samples_leaf=1, min_samples_split=4, n_estimators=700;, score=0.144 total time=   7.9s\n",
            "[CV 2/4; 3/30] START max_features=sqrt, min_samples_leaf=1, min_samples_split=4, n_estimators=700\n",
            "[CV 2/4; 3/30] END max_features=sqrt, min_samples_leaf=1, min_samples_split=4, n_estimators=700;, score=0.143 total time=   7.8s\n",
            "[CV 3/4; 3/30] START max_features=sqrt, min_samples_leaf=1, min_samples_split=4, n_estimators=700\n",
            "[CV 3/4; 3/30] END max_features=sqrt, min_samples_leaf=1, min_samples_split=4, n_estimators=700;, score=0.103 total time=   7.6s\n",
            "[CV 4/4; 3/30] START max_features=sqrt, min_samples_leaf=1, min_samples_split=4, n_estimators=700\n",
            "[CV 4/4; 3/30] END max_features=sqrt, min_samples_leaf=1, min_samples_split=4, n_estimators=700;, score=0.125 total time=   7.9s\n",
            "[CV 1/4; 4/30] START max_features=sqrt, min_samples_leaf=2, min_samples_split=8, n_estimators=300\n",
            "[CV 1/4; 4/30] END max_features=sqrt, min_samples_leaf=2, min_samples_split=8, n_estimators=300;, score=0.141 total time=   3.0s\n",
            "[CV 2/4; 4/30] START max_features=sqrt, min_samples_leaf=2, min_samples_split=8, n_estimators=300\n",
            "[CV 2/4; 4/30] END max_features=sqrt, min_samples_leaf=2, min_samples_split=8, n_estimators=300;, score=0.137 total time=   2.9s\n",
            "[CV 3/4; 4/30] START max_features=sqrt, min_samples_leaf=2, min_samples_split=8, n_estimators=300\n",
            "[CV 3/4; 4/30] END max_features=sqrt, min_samples_leaf=2, min_samples_split=8, n_estimators=300;, score=0.101 total time=   3.6s\n",
            "[CV 4/4; 4/30] START max_features=sqrt, min_samples_leaf=2, min_samples_split=8, n_estimators=300\n",
            "[CV 4/4; 4/30] END max_features=sqrt, min_samples_leaf=2, min_samples_split=8, n_estimators=300;, score=0.122 total time=   3.0s\n",
            "[CV 1/4; 5/30] START max_features=auto, min_samples_leaf=2, min_samples_split=8, n_estimators=250\n",
            "[CV 1/4; 5/30] END max_features=auto, min_samples_leaf=2, min_samples_split=8, n_estimators=250;, score=0.126 total time=  10.0s\n",
            "[CV 2/4; 5/30] START max_features=auto, min_samples_leaf=2, min_samples_split=8, n_estimators=250\n",
            "[CV 2/4; 5/30] END max_features=auto, min_samples_leaf=2, min_samples_split=8, n_estimators=250;, score=0.133 total time=  10.7s\n",
            "[CV 3/4; 5/30] START max_features=auto, min_samples_leaf=2, min_samples_split=8, n_estimators=250\n",
            "[CV 3/4; 5/30] END max_features=auto, min_samples_leaf=2, min_samples_split=8, n_estimators=250;, score=0.095 total time=   9.9s\n",
            "[CV 4/4; 5/30] START max_features=auto, min_samples_leaf=2, min_samples_split=8, n_estimators=250\n",
            "[CV 4/4; 5/30] END max_features=auto, min_samples_leaf=2, min_samples_split=8, n_estimators=250;, score=0.102 total time=  10.1s\n",
            "[CV 1/4; 6/30] START max_features=log2, min_samples_leaf=4, min_samples_split=2, n_estimators=850\n",
            "[CV 1/4; 6/30] END max_features=log2, min_samples_leaf=4, min_samples_split=2, n_estimators=850;, score=0.137 total time=   7.9s\n",
            "[CV 2/4; 6/30] START max_features=log2, min_samples_leaf=4, min_samples_split=2, n_estimators=850\n",
            "[CV 2/4; 6/30] END max_features=log2, min_samples_leaf=4, min_samples_split=2, n_estimators=850;, score=0.138 total time=   7.7s\n",
            "[CV 3/4; 6/30] START max_features=log2, min_samples_leaf=4, min_samples_split=2, n_estimators=850\n",
            "[CV 3/4; 6/30] END max_features=log2, min_samples_leaf=4, min_samples_split=2, n_estimators=850;, score=0.104 total time=   7.8s\n",
            "[CV 4/4; 6/30] START max_features=log2, min_samples_leaf=4, min_samples_split=2, n_estimators=850\n",
            "[CV 4/4; 6/30] END max_features=log2, min_samples_leaf=4, min_samples_split=2, n_estimators=850;, score=0.116 total time=   7.9s\n",
            "[CV 1/4; 7/30] START max_features=sqrt, min_samples_leaf=2, min_samples_split=4, n_estimators=550\n",
            "[CV 1/4; 7/30] END max_features=sqrt, min_samples_leaf=2, min_samples_split=4, n_estimators=550;, score=0.137 total time=   6.7s\n",
            "[CV 2/4; 7/30] START max_features=sqrt, min_samples_leaf=2, min_samples_split=4, n_estimators=550\n",
            "[CV 2/4; 7/30] END max_features=sqrt, min_samples_leaf=2, min_samples_split=4, n_estimators=550;, score=0.145 total time=   5.8s\n",
            "[CV 3/4; 7/30] START max_features=sqrt, min_samples_leaf=2, min_samples_split=4, n_estimators=550\n",
            "[CV 3/4; 7/30] END max_features=sqrt, min_samples_leaf=2, min_samples_split=4, n_estimators=550;, score=0.104 total time=   5.8s\n",
            "[CV 4/4; 7/30] START max_features=sqrt, min_samples_leaf=2, min_samples_split=4, n_estimators=550\n",
            "[CV 4/4; 7/30] END max_features=sqrt, min_samples_leaf=2, min_samples_split=4, n_estimators=550;, score=0.121 total time=   5.8s\n",
            "[CV 1/4; 8/30] START max_features=log2, min_samples_leaf=1, min_samples_split=2, n_estimators=600\n",
            "[CV 1/4; 8/30] END max_features=log2, min_samples_leaf=1, min_samples_split=2, n_estimators=600;, score=0.144 total time=  10.3s\n",
            "[CV 2/4; 8/30] START max_features=log2, min_samples_leaf=1, min_samples_split=2, n_estimators=600\n",
            "[CV 2/4; 8/30] END max_features=log2, min_samples_leaf=1, min_samples_split=2, n_estimators=600;, score=0.144 total time=  10.1s\n",
            "[CV 3/4; 8/30] START max_features=log2, min_samples_leaf=1, min_samples_split=2, n_estimators=600\n",
            "[CV 3/4; 8/30] END max_features=log2, min_samples_leaf=1, min_samples_split=2, n_estimators=600;, score=0.106 total time=   8.0s\n",
            "[CV 4/4; 8/30] START max_features=log2, min_samples_leaf=1, min_samples_split=2, n_estimators=600\n",
            "[CV 4/4; 8/30] END max_features=log2, min_samples_leaf=1, min_samples_split=2, n_estimators=600;, score=0.124 total time=   7.9s\n",
            "[CV 1/4; 9/30] START max_features=auto, min_samples_leaf=2, min_samples_split=2, n_estimators=750\n",
            "[CV 1/4; 9/30] END max_features=auto, min_samples_leaf=2, min_samples_split=2, n_estimators=750;, score=0.126 total time=  34.9s\n",
            "[CV 2/4; 9/30] START max_features=auto, min_samples_leaf=2, min_samples_split=2, n_estimators=750\n",
            "[CV 2/4; 9/30] END max_features=auto, min_samples_leaf=2, min_samples_split=2, n_estimators=750;, score=0.141 total time=  31.1s\n",
            "[CV 3/4; 9/30] START max_features=auto, min_samples_leaf=2, min_samples_split=2, n_estimators=750\n",
            "[CV 3/4; 9/30] END max_features=auto, min_samples_leaf=2, min_samples_split=2, n_estimators=750;, score=0.092 total time=  32.2s\n",
            "[CV 4/4; 9/30] START max_features=auto, min_samples_leaf=2, min_samples_split=2, n_estimators=750\n",
            "[CV 4/4; 9/30] END max_features=auto, min_samples_leaf=2, min_samples_split=2, n_estimators=750;, score=0.107 total time=  32.5s\n",
            "[CV 1/4; 10/30] START max_features=sqrt, min_samples_leaf=2, min_samples_split=2, n_estimators=250\n",
            "[CV 1/4; 10/30] END max_features=sqrt, min_samples_leaf=2, min_samples_split=2, n_estimators=250;, score=0.142 total time=   2.7s\n",
            "[CV 2/4; 10/30] START max_features=sqrt, min_samples_leaf=2, min_samples_split=2, n_estimators=250\n",
            "[CV 2/4; 10/30] END max_features=sqrt, min_samples_leaf=2, min_samples_split=2, n_estimators=250;, score=0.143 total time=   2.6s\n",
            "[CV 3/4; 10/30] START max_features=sqrt, min_samples_leaf=2, min_samples_split=2, n_estimators=250\n",
            "[CV 3/4; 10/30] END max_features=sqrt, min_samples_leaf=2, min_samples_split=2, n_estimators=250;, score=0.099 total time=   2.6s\n",
            "[CV 4/4; 10/30] START max_features=sqrt, min_samples_leaf=2, min_samples_split=2, n_estimators=250\n",
            "[CV 4/4; 10/30] END max_features=sqrt, min_samples_leaf=2, min_samples_split=2, n_estimators=250;, score=0.120 total time=   2.7s\n",
            "[CV 1/4; 11/30] START max_features=sqrt, min_samples_leaf=1, min_samples_split=2, n_estimators=500\n",
            "[CV 1/4; 11/30] END max_features=sqrt, min_samples_leaf=1, min_samples_split=2, n_estimators=500;, score=0.148 total time=   7.1s\n",
            "[CV 2/4; 11/30] START max_features=sqrt, min_samples_leaf=1, min_samples_split=2, n_estimators=500\n",
            "[CV 2/4; 11/30] END max_features=sqrt, min_samples_leaf=1, min_samples_split=2, n_estimators=500;, score=0.144 total time=   6.0s\n",
            "[CV 3/4; 11/30] START max_features=sqrt, min_samples_leaf=1, min_samples_split=2, n_estimators=500\n",
            "[CV 3/4; 11/30] END max_features=sqrt, min_samples_leaf=1, min_samples_split=2, n_estimators=500;, score=0.106 total time=   6.1s\n",
            "[CV 4/4; 11/30] START max_features=sqrt, min_samples_leaf=1, min_samples_split=2, n_estimators=500\n",
            "[CV 4/4; 11/30] END max_features=sqrt, min_samples_leaf=1, min_samples_split=2, n_estimators=500;, score=0.118 total time=   6.8s\n",
            "[CV 1/4; 12/30] START max_features=log2, min_samples_leaf=1, min_samples_split=8, n_estimators=850\n",
            "[CV 1/4; 12/30] END max_features=log2, min_samples_leaf=1, min_samples_split=8, n_estimators=850;, score=0.142 total time=   8.7s\n",
            "[CV 2/4; 12/30] START max_features=log2, min_samples_leaf=1, min_samples_split=8, n_estimators=850\n",
            "[CV 2/4; 12/30] END max_features=log2, min_samples_leaf=1, min_samples_split=8, n_estimators=850;, score=0.141 total time=   8.7s\n",
            "[CV 3/4; 12/30] START max_features=log2, min_samples_leaf=1, min_samples_split=8, n_estimators=850\n",
            "[CV 3/4; 12/30] END max_features=log2, min_samples_leaf=1, min_samples_split=8, n_estimators=850;, score=0.107 total time=   8.7s\n",
            "[CV 4/4; 12/30] START max_features=log2, min_samples_leaf=1, min_samples_split=8, n_estimators=850\n",
            "[CV 4/4; 12/30] END max_features=log2, min_samples_leaf=1, min_samples_split=8, n_estimators=850;, score=0.119 total time=   8.8s\n",
            "[CV 1/4; 13/30] START max_features=auto, min_samples_leaf=1, min_samples_split=2, n_estimators=200\n",
            "[CV 1/4; 13/30] END max_features=auto, min_samples_leaf=1, min_samples_split=2, n_estimators=200;, score=0.123 total time=   9.3s\n",
            "[CV 2/4; 13/30] START max_features=auto, min_samples_leaf=1, min_samples_split=2, n_estimators=200\n",
            "[CV 2/4; 13/30] END max_features=auto, min_samples_leaf=1, min_samples_split=2, n_estimators=200;, score=0.135 total time=   9.3s\n",
            "[CV 3/4; 13/30] START max_features=auto, min_samples_leaf=1, min_samples_split=2, n_estimators=200\n",
            "[CV 3/4; 13/30] END max_features=auto, min_samples_leaf=1, min_samples_split=2, n_estimators=200;, score=0.098 total time=   9.3s\n",
            "[CV 4/4; 13/30] START max_features=auto, min_samples_leaf=1, min_samples_split=2, n_estimators=200\n",
            "[CV 4/4; 13/30] END max_features=auto, min_samples_leaf=1, min_samples_split=2, n_estimators=200;, score=0.109 total time=   9.5s\n",
            "[CV 1/4; 14/30] START max_features=log2, min_samples_leaf=2, min_samples_split=4, n_estimators=950\n",
            "[CV 1/4; 14/30] END max_features=log2, min_samples_leaf=2, min_samples_split=4, n_estimators=950;, score=0.141 total time=  10.1s\n",
            "[CV 2/4; 14/30] START max_features=log2, min_samples_leaf=2, min_samples_split=4, n_estimators=950\n",
            "[CV 2/4; 14/30] END max_features=log2, min_samples_leaf=2, min_samples_split=4, n_estimators=950;, score=0.141 total time=  10.0s\n",
            "[CV 3/4; 14/30] START max_features=log2, min_samples_leaf=2, min_samples_split=4, n_estimators=950\n",
            "[CV 3/4; 14/30] END max_features=log2, min_samples_leaf=2, min_samples_split=4, n_estimators=950;, score=0.107 total time=  10.0s\n",
            "[CV 4/4; 14/30] START max_features=log2, min_samples_leaf=2, min_samples_split=4, n_estimators=950\n",
            "[CV 4/4; 14/30] END max_features=log2, min_samples_leaf=2, min_samples_split=4, n_estimators=950;, score=0.122 total time=  10.0s\n",
            "[CV 1/4; 15/30] START max_features=sqrt, min_samples_leaf=1, min_samples_split=8, n_estimators=650\n",
            "[CV 1/4; 15/30] END max_features=sqrt, min_samples_leaf=1, min_samples_split=8, n_estimators=650;, score=0.142 total time=   8.0s\n",
            "[CV 2/4; 15/30] START max_features=sqrt, min_samples_leaf=1, min_samples_split=8, n_estimators=650\n",
            "[CV 2/4; 15/30] END max_features=sqrt, min_samples_leaf=1, min_samples_split=8, n_estimators=650;, score=0.140 total time=   6.7s\n",
            "[CV 3/4; 15/30] START max_features=sqrt, min_samples_leaf=1, min_samples_split=8, n_estimators=650\n",
            "[CV 3/4; 15/30] END max_features=sqrt, min_samples_leaf=1, min_samples_split=8, n_estimators=650;, score=0.105 total time=   6.6s\n",
            "[CV 4/4; 15/30] START max_features=sqrt, min_samples_leaf=1, min_samples_split=8, n_estimators=650\n",
            "[CV 4/4; 15/30] END max_features=sqrt, min_samples_leaf=1, min_samples_split=8, n_estimators=650;, score=0.122 total time=   6.7s\n",
            "[CV 1/4; 16/30] START max_features=auto, min_samples_leaf=1, min_samples_split=4, n_estimators=300\n",
            "[CV 1/4; 16/30] END max_features=auto, min_samples_leaf=1, min_samples_split=4, n_estimators=300;, score=0.124 total time=  13.2s\n",
            "[CV 2/4; 16/30] START max_features=auto, min_samples_leaf=1, min_samples_split=4, n_estimators=300\n",
            "[CV 2/4; 16/30] END max_features=auto, min_samples_leaf=1, min_samples_split=4, n_estimators=300;, score=0.139 total time=  12.9s\n",
            "[CV 3/4; 16/30] START max_features=auto, min_samples_leaf=1, min_samples_split=4, n_estimators=300\n",
            "[CV 3/4; 16/30] END max_features=auto, min_samples_leaf=1, min_samples_split=4, n_estimators=300;, score=0.096 total time=  13.3s\n",
            "[CV 4/4; 16/30] START max_features=auto, min_samples_leaf=1, min_samples_split=4, n_estimators=300\n",
            "[CV 4/4; 16/30] END max_features=auto, min_samples_leaf=1, min_samples_split=4, n_estimators=300;, score=0.107 total time=  14.2s\n",
            "[CV 1/4; 17/30] START max_features=log2, min_samples_leaf=1, min_samples_split=4, n_estimators=300\n",
            "[CV 1/4; 17/30] END max_features=log2, min_samples_leaf=1, min_samples_split=4, n_estimators=300;, score=0.149 total time=   3.4s\n",
            "[CV 2/4; 17/30] START max_features=log2, min_samples_leaf=1, min_samples_split=4, n_estimators=300\n",
            "[CV 2/4; 17/30] END max_features=log2, min_samples_leaf=1, min_samples_split=4, n_estimators=300;, score=0.141 total time=   3.3s\n",
            "[CV 3/4; 17/30] START max_features=log2, min_samples_leaf=1, min_samples_split=4, n_estimators=300\n",
            "[CV 3/4; 17/30] END max_features=log2, min_samples_leaf=1, min_samples_split=4, n_estimators=300;, score=0.106 total time=   3.4s\n",
            "[CV 4/4; 17/30] START max_features=log2, min_samples_leaf=1, min_samples_split=4, n_estimators=300\n",
            "[CV 4/4; 17/30] END max_features=log2, min_samples_leaf=1, min_samples_split=4, n_estimators=300;, score=0.119 total time=   3.3s\n",
            "[CV 1/4; 18/30] START max_features=log2, min_samples_leaf=2, min_samples_split=2, n_estimators=300\n",
            "[CV 1/4; 18/30] END max_features=log2, min_samples_leaf=2, min_samples_split=2, n_estimators=300;, score=0.140 total time=   3.2s\n",
            "[CV 2/4; 18/30] START max_features=log2, min_samples_leaf=2, min_samples_split=2, n_estimators=300\n",
            "[CV 2/4; 18/30] END max_features=log2, min_samples_leaf=2, min_samples_split=2, n_estimators=300;, score=0.138 total time=   3.2s\n",
            "[CV 3/4; 18/30] START max_features=log2, min_samples_leaf=2, min_samples_split=2, n_estimators=300\n",
            "[CV 3/4; 18/30] END max_features=log2, min_samples_leaf=2, min_samples_split=2, n_estimators=300;, score=0.106 total time=   3.2s\n",
            "[CV 4/4; 18/30] START max_features=log2, min_samples_leaf=2, min_samples_split=2, n_estimators=300\n",
            "[CV 4/4; 18/30] END max_features=log2, min_samples_leaf=2, min_samples_split=2, n_estimators=300;, score=0.120 total time=   3.2s\n",
            "[CV 1/4; 19/30] START max_features=log2, min_samples_leaf=2, min_samples_split=8, n_estimators=200\n",
            "[CV 1/4; 19/30] END max_features=log2, min_samples_leaf=2, min_samples_split=8, n_estimators=200;, score=0.137 total time=   2.3s\n",
            "[CV 2/4; 19/30] START max_features=log2, min_samples_leaf=2, min_samples_split=8, n_estimators=200\n",
            "[CV 2/4; 19/30] END max_features=log2, min_samples_leaf=2, min_samples_split=8, n_estimators=200;, score=0.138 total time=   2.3s\n",
            "[CV 3/4; 19/30] START max_features=log2, min_samples_leaf=2, min_samples_split=8, n_estimators=200\n",
            "[CV 3/4; 19/30] END max_features=log2, min_samples_leaf=2, min_samples_split=8, n_estimators=200;, score=0.102 total time=   2.3s\n",
            "[CV 4/4; 19/30] START max_features=log2, min_samples_leaf=2, min_samples_split=8, n_estimators=200\n",
            "[CV 4/4; 19/30] END max_features=log2, min_samples_leaf=2, min_samples_split=8, n_estimators=200;, score=0.117 total time=   2.6s\n",
            "[CV 1/4; 20/30] START max_features=log2, min_samples_leaf=4, min_samples_split=4, n_estimators=100\n",
            "[CV 1/4; 20/30] END max_features=log2, min_samples_leaf=4, min_samples_split=4, n_estimators=100;, score=0.132 total time=   0.9s\n",
            "[CV 2/4; 20/30] START max_features=log2, min_samples_leaf=4, min_samples_split=4, n_estimators=100\n",
            "[CV 2/4; 20/30] END max_features=log2, min_samples_leaf=4, min_samples_split=4, n_estimators=100;, score=0.131 total time=   0.9s\n",
            "[CV 3/4; 20/30] START max_features=log2, min_samples_leaf=4, min_samples_split=4, n_estimators=100\n",
            "[CV 3/4; 20/30] END max_features=log2, min_samples_leaf=4, min_samples_split=4, n_estimators=100;, score=0.095 total time=   0.9s\n",
            "[CV 4/4; 20/30] START max_features=log2, min_samples_leaf=4, min_samples_split=4, n_estimators=100\n",
            "[CV 4/4; 20/30] END max_features=log2, min_samples_leaf=4, min_samples_split=4, n_estimators=100;, score=0.113 total time=   0.9s\n",
            "[CV 1/4; 21/30] START max_features=auto, min_samples_leaf=2, min_samples_split=8, n_estimators=200\n",
            "[CV 1/4; 21/30] END max_features=auto, min_samples_leaf=2, min_samples_split=8, n_estimators=200;, score=0.126 total time=   8.1s\n",
            "[CV 2/4; 21/30] START max_features=auto, min_samples_leaf=2, min_samples_split=8, n_estimators=200\n",
            "[CV 2/4; 21/30] END max_features=auto, min_samples_leaf=2, min_samples_split=8, n_estimators=200;, score=0.134 total time=   7.9s\n",
            "[CV 3/4; 21/30] START max_features=auto, min_samples_leaf=2, min_samples_split=8, n_estimators=200\n",
            "[CV 3/4; 21/30] END max_features=auto, min_samples_leaf=2, min_samples_split=8, n_estimators=200;, score=0.090 total time=   7.9s\n",
            "[CV 4/4; 21/30] START max_features=auto, min_samples_leaf=2, min_samples_split=8, n_estimators=200\n",
            "[CV 4/4; 21/30] END max_features=auto, min_samples_leaf=2, min_samples_split=8, n_estimators=200;, score=0.108 total time=   8.0s\n",
            "[CV 1/4; 22/30] START max_features=sqrt, min_samples_leaf=1, min_samples_split=8, n_estimators=1000\n",
            "[CV 1/4; 22/30] END max_features=sqrt, min_samples_leaf=1, min_samples_split=8, n_estimators=1000;, score=0.146 total time=  10.4s\n",
            "[CV 2/4; 22/30] START max_features=sqrt, min_samples_leaf=1, min_samples_split=8, n_estimators=1000\n",
            "[CV 2/4; 22/30] END max_features=sqrt, min_samples_leaf=1, min_samples_split=8, n_estimators=1000;, score=0.143 total time=  10.2s\n",
            "[CV 3/4; 22/30] START max_features=sqrt, min_samples_leaf=1, min_samples_split=8, n_estimators=1000\n",
            "[CV 3/4; 22/30] END max_features=sqrt, min_samples_leaf=1, min_samples_split=8, n_estimators=1000;, score=0.105 total time=  10.2s\n",
            "[CV 4/4; 22/30] START max_features=sqrt, min_samples_leaf=1, min_samples_split=8, n_estimators=1000\n",
            "[CV 4/4; 22/30] END max_features=sqrt, min_samples_leaf=1, min_samples_split=8, n_estimators=1000;, score=0.121 total time=  10.2s\n",
            "[CV 1/4; 23/30] START max_features=auto, min_samples_leaf=2, min_samples_split=4, n_estimators=550\n",
            "[CV 1/4; 23/30] END max_features=auto, min_samples_leaf=2, min_samples_split=4, n_estimators=550;, score=0.122 total time=  24.0s\n",
            "[CV 2/4; 23/30] START max_features=auto, min_samples_leaf=2, min_samples_split=4, n_estimators=550\n",
            "[CV 2/4; 23/30] END max_features=auto, min_samples_leaf=2, min_samples_split=4, n_estimators=550;, score=0.140 total time=  22.7s\n",
            "[CV 3/4; 23/30] START max_features=auto, min_samples_leaf=2, min_samples_split=4, n_estimators=550\n",
            "[CV 3/4; 23/30] END max_features=auto, min_samples_leaf=2, min_samples_split=4, n_estimators=550;, score=0.097 total time=  22.8s\n",
            "[CV 4/4; 23/30] START max_features=auto, min_samples_leaf=2, min_samples_split=4, n_estimators=550\n",
            "[CV 4/4; 23/30] END max_features=auto, min_samples_leaf=2, min_samples_split=4, n_estimators=550;, score=0.107 total time=  24.3s\n",
            "[CV 1/4; 24/30] START max_features=sqrt, min_samples_leaf=2, min_samples_split=4, n_estimators=600\n",
            "[CV 1/4; 24/30] END max_features=sqrt, min_samples_leaf=2, min_samples_split=4, n_estimators=600;, score=0.143 total time=   6.4s\n",
            "[CV 2/4; 24/30] START max_features=sqrt, min_samples_leaf=2, min_samples_split=4, n_estimators=600\n",
            "[CV 2/4; 24/30] END max_features=sqrt, min_samples_leaf=2, min_samples_split=4, n_estimators=600;, score=0.145 total time=   6.4s\n",
            "[CV 3/4; 24/30] START max_features=sqrt, min_samples_leaf=2, min_samples_split=4, n_estimators=600\n",
            "[CV 3/4; 24/30] END max_features=sqrt, min_samples_leaf=2, min_samples_split=4, n_estimators=600;, score=0.106 total time=   6.3s\n",
            "[CV 4/4; 24/30] START max_features=sqrt, min_samples_leaf=2, min_samples_split=4, n_estimators=600\n",
            "[CV 4/4; 24/30] END max_features=sqrt, min_samples_leaf=2, min_samples_split=4, n_estimators=600;, score=0.120 total time=   6.4s\n",
            "[CV 1/4; 25/30] START max_features=log2, min_samples_leaf=1, min_samples_split=4, n_estimators=650\n",
            "[CV 1/4; 25/30] END max_features=log2, min_samples_leaf=1, min_samples_split=4, n_estimators=650;, score=0.144 total time=   7.3s\n",
            "[CV 2/4; 25/30] START max_features=log2, min_samples_leaf=1, min_samples_split=4, n_estimators=650\n",
            "[CV 2/4; 25/30] END max_features=log2, min_samples_leaf=1, min_samples_split=4, n_estimators=650;, score=0.145 total time=   7.3s\n",
            "[CV 3/4; 25/30] START max_features=log2, min_samples_leaf=1, min_samples_split=4, n_estimators=650\n",
            "[CV 3/4; 25/30] END max_features=log2, min_samples_leaf=1, min_samples_split=4, n_estimators=650;, score=0.104 total time=   7.3s\n",
            "[CV 4/4; 25/30] START max_features=log2, min_samples_leaf=1, min_samples_split=4, n_estimators=650\n",
            "[CV 4/4; 25/30] END max_features=log2, min_samples_leaf=1, min_samples_split=4, n_estimators=650;, score=0.120 total time=   7.3s\n",
            "[CV 1/4; 26/30] START max_features=auto, min_samples_leaf=1, min_samples_split=2, n_estimators=50\n",
            "[CV 1/4; 26/30] END max_features=auto, min_samples_leaf=1, min_samples_split=2, n_estimators=50;, score=0.122 total time=   2.4s\n",
            "[CV 2/4; 26/30] START max_features=auto, min_samples_leaf=1, min_samples_split=2, n_estimators=50\n",
            "[CV 2/4; 26/30] END max_features=auto, min_samples_leaf=1, min_samples_split=2, n_estimators=50;, score=0.124 total time=   2.3s\n",
            "[CV 3/4; 26/30] START max_features=auto, min_samples_leaf=1, min_samples_split=2, n_estimators=50\n",
            "[CV 3/4; 26/30] END max_features=auto, min_samples_leaf=1, min_samples_split=2, n_estimators=50;, score=0.084 total time=   2.4s\n",
            "[CV 4/4; 26/30] START max_features=auto, min_samples_leaf=1, min_samples_split=2, n_estimators=50\n",
            "[CV 4/4; 26/30] END max_features=auto, min_samples_leaf=1, min_samples_split=2, n_estimators=50;, score=0.072 total time=   2.4s\n",
            "[CV 1/4; 27/30] START max_features=log2, min_samples_leaf=4, min_samples_split=2, n_estimators=600\n",
            "[CV 1/4; 27/30] END max_features=log2, min_samples_leaf=4, min_samples_split=2, n_estimators=600;, score=0.135 total time=   5.5s\n",
            "[CV 2/4; 27/30] START max_features=log2, min_samples_leaf=4, min_samples_split=2, n_estimators=600\n",
            "[CV 2/4; 27/30] END max_features=log2, min_samples_leaf=4, min_samples_split=2, n_estimators=600;, score=0.138 total time=   5.6s\n",
            "[CV 3/4; 27/30] START max_features=log2, min_samples_leaf=4, min_samples_split=2, n_estimators=600\n",
            "[CV 3/4; 27/30] END max_features=log2, min_samples_leaf=4, min_samples_split=2, n_estimators=600;, score=0.104 total time=   5.5s\n",
            "[CV 4/4; 27/30] START max_features=log2, min_samples_leaf=4, min_samples_split=2, n_estimators=600\n",
            "[CV 4/4; 27/30] END max_features=log2, min_samples_leaf=4, min_samples_split=2, n_estimators=600;, score=0.117 total time=   5.6s\n",
            "[CV 1/4; 28/30] START max_features=log2, min_samples_leaf=4, min_samples_split=4, n_estimators=800\n",
            "[CV 1/4; 28/30] END max_features=log2, min_samples_leaf=4, min_samples_split=4, n_estimators=800;, score=0.137 total time=   7.5s\n",
            "[CV 2/4; 28/30] START max_features=log2, min_samples_leaf=4, min_samples_split=4, n_estimators=800\n",
            "[CV 2/4; 28/30] END max_features=log2, min_samples_leaf=4, min_samples_split=4, n_estimators=800;, score=0.138 total time=   7.4s\n",
            "[CV 3/4; 28/30] START max_features=log2, min_samples_leaf=4, min_samples_split=4, n_estimators=800\n",
            "[CV 3/4; 28/30] END max_features=log2, min_samples_leaf=4, min_samples_split=4, n_estimators=800;, score=0.104 total time=   7.4s\n",
            "[CV 4/4; 28/30] START max_features=log2, min_samples_leaf=4, min_samples_split=4, n_estimators=800\n",
            "[CV 4/4; 28/30] END max_features=log2, min_samples_leaf=4, min_samples_split=4, n_estimators=800;, score=0.118 total time=   7.4s\n",
            "[CV 1/4; 29/30] START max_features=log2, min_samples_leaf=4, min_samples_split=2, n_estimators=1000\n",
            "[CV 1/4; 29/30] END max_features=log2, min_samples_leaf=4, min_samples_split=2, n_estimators=1000;, score=0.137 total time=   9.7s\n",
            "[CV 2/4; 29/30] START max_features=log2, min_samples_leaf=4, min_samples_split=2, n_estimators=1000\n",
            "[CV 2/4; 29/30] END max_features=log2, min_samples_leaf=4, min_samples_split=2, n_estimators=1000;, score=0.135 total time=   9.7s\n",
            "[CV 3/4; 29/30] START max_features=log2, min_samples_leaf=4, min_samples_split=2, n_estimators=1000\n",
            "[CV 3/4; 29/30] END max_features=log2, min_samples_leaf=4, min_samples_split=2, n_estimators=1000;, score=0.105 total time=   9.2s\n",
            "[CV 4/4; 29/30] START max_features=log2, min_samples_leaf=4, min_samples_split=2, n_estimators=1000\n",
            "[CV 4/4; 29/30] END max_features=log2, min_samples_leaf=4, min_samples_split=2, n_estimators=1000;, score=0.115 total time=   9.3s\n",
            "[CV 1/4; 30/30] START max_features=sqrt, min_samples_leaf=1, min_samples_split=4, n_estimators=50\n",
            "[CV 1/4; 30/30] END max_features=sqrt, min_samples_leaf=1, min_samples_split=4, n_estimators=50;, score=0.129 total time=   0.6s\n",
            "[CV 2/4; 30/30] START max_features=sqrt, min_samples_leaf=1, min_samples_split=4, n_estimators=50\n",
            "[CV 2/4; 30/30] END max_features=sqrt, min_samples_leaf=1, min_samples_split=4, n_estimators=50;, score=0.125 total time=   0.6s\n",
            "[CV 3/4; 30/30] START max_features=sqrt, min_samples_leaf=1, min_samples_split=4, n_estimators=50\n",
            "[CV 3/4; 30/30] END max_features=sqrt, min_samples_leaf=1, min_samples_split=4, n_estimators=50;, score=0.085 total time=   0.6s\n",
            "[CV 4/4; 30/30] START max_features=sqrt, min_samples_leaf=1, min_samples_split=4, n_estimators=50\n",
            "[CV 4/4; 30/30] END max_features=sqrt, min_samples_leaf=1, min_samples_split=4, n_estimators=50;, score=0.102 total time=   0.6s\n"
          ]
        }
      ]
    },
    {
      "cell_type": "code",
      "source": [
        "opt_rf_model = RandomForestRegressor(**rf_rs.best_params_)\n",
        "opt_rf_model_cv = cross_val_score(\n",
        "    opt_rf_model,\n",
        "    x_train,\n",
        "    y_train,\n",
        "    cv=4,\n",
        "    scoring = 'r2',\n",
        "    n_jobs = CPUS-1\n",
        ")\n",
        "print(f\"Default parameters:\\n{opt_rf_model.get_params()}\")\n",
        "print(f\"Fold scores:\\n{opt_rf_model_cv}\")\n",
        "print(f\"Mean score: {opt_rf_model_cv.mean():.8f}\")"
      ],
      "metadata": {
        "colab": {
          "base_uri": "https://localhost:8080/"
        },
        "id": "sJNzWFi7vrnM",
        "outputId": "4e54cc48-5544-4c7e-ffe1-c05030c93c16"
      },
      "execution_count": null,
      "outputs": [
        {
          "output_type": "stream",
          "name": "stdout",
          "text": [
            "Default parameters:\n",
            "{'bootstrap': True, 'ccp_alpha': 0.0, 'criterion': 'squared_error', 'max_depth': None, 'max_features': 'log2', 'max_leaf_nodes': None, 'max_samples': None, 'min_impurity_decrease': 0.0, 'min_samples_leaf': 1, 'min_samples_split': 2, 'min_weight_fraction_leaf': 0.0, 'n_estimators': 600, 'n_jobs': None, 'oob_score': False, 'random_state': None, 'verbose': 0, 'warm_start': False}\n",
            "Fold scores:\n",
            "[0.1471 0.1438 0.1091 0.1189]\n",
            "Mean score: 0.12970055\n"
          ]
        }
      ]
    },
    {
      "cell_type": "markdown",
      "source": [
        "Test RMSE Random Forest"
      ],
      "metadata": {
        "id": "qjJOP0Sr6aZl"
      }
    },
    {
      "cell_type": "code",
      "source": [
        "opt_rf_model.fit(x_train, y_train)\n",
        "optimal_rf_test_preds = opt_rf_model.predict(x_test)\n"
      ],
      "metadata": {
        "id": "oDgLUNaCyq_M"
      },
      "execution_count": null,
      "outputs": []
    },
    {
      "cell_type": "code",
      "source": [
        "rf_rmse = (((optimal_rf_test_preds - y_test)**2).mean())**(1/2)"
      ],
      "metadata": {
        "id": "0j3uEgaVzYJN"
      },
      "execution_count": null,
      "outputs": []
    },
    {
      "cell_type": "code",
      "source": [
        "rf_rmse"
      ],
      "metadata": {
        "colab": {
          "base_uri": "https://localhost:8080/"
        },
        "id": "zPmQOVnq0X-g",
        "outputId": "9e632c26-5514-4c12-b6a3-e494392310b6"
      },
      "execution_count": null,
      "outputs": [
        {
          "output_type": "execute_result",
          "data": {
            "text/plain": [
              "0.5742079473512082"
            ]
          },
          "metadata": {},
          "execution_count": 119
        }
      ]
    },
    {
      "cell_type": "markdown",
      "source": [
        "**Gradient Boosting (Tahmid)**"
      ],
      "metadata": {
        "id": "Nyw-lBqPv_sO"
      }
    },
    {
      "cell_type": "markdown",
      "source": [
        "*Execution*"
      ],
      "metadata": {
        "id": "SPAb1WGuwQvv"
      }
    },
    {
      "cell_type": "code",
      "source": [
        "gb = GradientBoostingRegressor()\n",
        "gb_cv = cross_val_score(gb,\n",
        "                        x_train,\n",
        "                        y_train,\n",
        "                        cv=4,\n",
        "                        scoring='r2',\n",
        "                        n_jobs=CPUS-1\n",
        "                       )\n",
        "print(f\"Default parameters:\\n{gb.get_params()}\")\n",
        "print(f\"Fold scores:\\n{gb_cv}\")\n",
        "print(f\"Mean score: {gb_cv.mean():.8f}\")"
      ],
      "metadata": {
        "colab": {
          "base_uri": "https://localhost:8080/"
        },
        "id": "XP20DmPTvh-M",
        "outputId": "811fcdcd-6ab4-4c38-bd39-75f757461a57"
      },
      "execution_count": null,
      "outputs": [
        {
          "output_type": "stream",
          "name": "stdout",
          "text": [
            "Default parameters:\n",
            "{'alpha': 0.9, 'ccp_alpha': 0.0, 'criterion': 'friedman_mse', 'init': None, 'learning_rate': 0.1, 'loss': 'squared_error', 'max_depth': 3, 'max_features': None, 'max_leaf_nodes': None, 'min_impurity_decrease': 0.0, 'min_samples_leaf': 1, 'min_samples_split': 2, 'min_weight_fraction_leaf': 0.0, 'n_estimators': 100, 'n_iter_no_change': None, 'random_state': None, 'subsample': 1.0, 'tol': 0.0001, 'validation_fraction': 0.1, 'verbose': 0, 'warm_start': False}\n",
            "Fold scores:\n",
            "[0.12   0.1065 0.0972 0.102 ]\n",
            "Mean score: 0.10639841\n"
          ]
        }
      ]
    },
    {
      "cell_type": "code",
      "source": [
        "pgrid = {\n",
        "    'learning_rate': [0.1,0.05,0.01],\n",
        "    'n_estimators': [100,200,300],\n",
        "    'max_depth': [4,6,8],\n",
        "    'min_samples_leaf': [1,5,10]\n",
        "}\n",
        "\n",
        "def gradient_boosting_gs(pgrid, folds):    \n",
        "    gb_gs = RandomizedSearchCV(estimator=gb,\n",
        "                               param_distributions=pgrid,\n",
        "                               scoring='r2',\n",
        "                               n_iter=30,\n",
        "                               cv=folds,\n",
        "                               verbose=10,\n",
        "                               n_jobs=CPUS-1,\n",
        "                               random_state=SEED\n",
        "                              ).fit(x_train,y_train)\n",
        "     \n",
        "    return gb_gs\n",
        "\n",
        "gb_gs = gradient_boosting_gs(pgrid,4)"
      ],
      "metadata": {
        "colab": {
          "base_uri": "https://localhost:8080/"
        },
        "id": "3Cn7cE8Xviom",
        "outputId": "1186cc2b-9091-42c0-c54b-a3158e726fae"
      },
      "execution_count": null,
      "outputs": [
        {
          "output_type": "stream",
          "name": "stdout",
          "text": [
            "Fitting 4 folds for each of 30 candidates, totalling 120 fits\n",
            "[CV 1/4; 1/30] START learning_rate=0.05, max_depth=6, min_samples_leaf=5, n_estimators=100\n",
            "[CV 1/4; 1/30] END learning_rate=0.05, max_depth=6, min_samples_leaf=5, n_estimators=100;, score=0.117 total time=   3.6s\n",
            "[CV 2/4; 1/30] START learning_rate=0.05, max_depth=6, min_samples_leaf=5, n_estimators=100\n",
            "[CV 2/4; 1/30] END learning_rate=0.05, max_depth=6, min_samples_leaf=5, n_estimators=100;, score=0.132 total time=   3.3s\n",
            "[CV 3/4; 1/30] START learning_rate=0.05, max_depth=6, min_samples_leaf=5, n_estimators=100\n",
            "[CV 3/4; 1/30] END learning_rate=0.05, max_depth=6, min_samples_leaf=5, n_estimators=100;, score=0.090 total time=   3.3s\n",
            "[CV 4/4; 1/30] START learning_rate=0.05, max_depth=6, min_samples_leaf=5, n_estimators=100\n",
            "[CV 4/4; 1/30] END learning_rate=0.05, max_depth=6, min_samples_leaf=5, n_estimators=100;, score=0.104 total time=   3.3s\n",
            "[CV 1/4; 2/30] START learning_rate=0.01, max_depth=6, min_samples_leaf=1, n_estimators=300\n",
            "[CV 1/4; 2/30] END learning_rate=0.01, max_depth=6, min_samples_leaf=1, n_estimators=300;, score=0.124 total time=  10.6s\n",
            "[CV 2/4; 2/30] START learning_rate=0.01, max_depth=6, min_samples_leaf=1, n_estimators=300\n",
            "[CV 2/4; 2/30] END learning_rate=0.01, max_depth=6, min_samples_leaf=1, n_estimators=300;, score=0.127 total time=   9.7s\n",
            "[CV 3/4; 2/30] START learning_rate=0.01, max_depth=6, min_samples_leaf=1, n_estimators=300\n",
            "[CV 3/4; 2/30] END learning_rate=0.01, max_depth=6, min_samples_leaf=1, n_estimators=300;, score=0.095 total time=   9.6s\n",
            "[CV 4/4; 2/30] START learning_rate=0.01, max_depth=6, min_samples_leaf=1, n_estimators=300\n",
            "[CV 4/4; 2/30] END learning_rate=0.01, max_depth=6, min_samples_leaf=1, n_estimators=300;, score=0.104 total time=  10.9s\n",
            "[CV 1/4; 3/30] START learning_rate=0.1, max_depth=6, min_samples_leaf=5, n_estimators=300\n",
            "[CV 1/4; 3/30] END learning_rate=0.1, max_depth=6, min_samples_leaf=5, n_estimators=300;, score=0.070 total time=  10.2s\n",
            "[CV 2/4; 3/30] START learning_rate=0.1, max_depth=6, min_samples_leaf=5, n_estimators=300\n",
            "[CV 2/4; 3/30] END learning_rate=0.1, max_depth=6, min_samples_leaf=5, n_estimators=300;, score=0.091 total time=  11.0s\n",
            "[CV 3/4; 3/30] START learning_rate=0.1, max_depth=6, min_samples_leaf=5, n_estimators=300\n",
            "[CV 3/4; 3/30] END learning_rate=0.1, max_depth=6, min_samples_leaf=5, n_estimators=300;, score=0.034 total time=  10.1s\n",
            "[CV 4/4; 3/30] START learning_rate=0.1, max_depth=6, min_samples_leaf=5, n_estimators=300\n",
            "[CV 4/4; 3/30] END learning_rate=0.1, max_depth=6, min_samples_leaf=5, n_estimators=300;, score=0.076 total time=  10.0s\n",
            "[CV 1/4; 4/30] START learning_rate=0.01, max_depth=4, min_samples_leaf=1, n_estimators=300\n",
            "[CV 1/4; 4/30] END learning_rate=0.01, max_depth=4, min_samples_leaf=1, n_estimators=300;, score=0.115 total time=   6.8s\n",
            "[CV 2/4; 4/30] START learning_rate=0.01, max_depth=4, min_samples_leaf=1, n_estimators=300\n",
            "[CV 2/4; 4/30] END learning_rate=0.01, max_depth=4, min_samples_leaf=1, n_estimators=300;, score=0.108 total time=   7.6s\n",
            "[CV 3/4; 4/30] START learning_rate=0.01, max_depth=4, min_samples_leaf=1, n_estimators=300\n",
            "[CV 3/4; 4/30] END learning_rate=0.01, max_depth=4, min_samples_leaf=1, n_estimators=300;, score=0.094 total time=   6.8s\n",
            "[CV 4/4; 4/30] START learning_rate=0.01, max_depth=4, min_samples_leaf=1, n_estimators=300\n",
            "[CV 4/4; 4/30] END learning_rate=0.01, max_depth=4, min_samples_leaf=1, n_estimators=300;, score=0.088 total time=   6.7s\n",
            "[CV 1/4; 5/30] START learning_rate=0.05, max_depth=6, min_samples_leaf=1, n_estimators=100\n",
            "[CV 1/4; 5/30] END learning_rate=0.05, max_depth=6, min_samples_leaf=1, n_estimators=100;, score=0.122 total time=   3.3s\n",
            "[CV 2/4; 5/30] START learning_rate=0.05, max_depth=6, min_samples_leaf=1, n_estimators=100\n",
            "[CV 2/4; 5/30] END learning_rate=0.05, max_depth=6, min_samples_leaf=1, n_estimators=100;, score=0.129 total time=   3.3s\n",
            "[CV 3/4; 5/30] START learning_rate=0.05, max_depth=6, min_samples_leaf=1, n_estimators=100\n",
            "[CV 3/4; 5/30] END learning_rate=0.05, max_depth=6, min_samples_leaf=1, n_estimators=100;, score=0.086 total time=   3.3s\n",
            "[CV 4/4; 5/30] START learning_rate=0.05, max_depth=6, min_samples_leaf=1, n_estimators=100\n",
            "[CV 4/4; 5/30] END learning_rate=0.05, max_depth=6, min_samples_leaf=1, n_estimators=100;, score=0.102 total time=   3.3s\n",
            "[CV 1/4; 6/30] START learning_rate=0.1, max_depth=8, min_samples_leaf=10, n_estimators=100\n",
            "[CV 1/4; 6/30] END learning_rate=0.1, max_depth=8, min_samples_leaf=10, n_estimators=100;, score=0.082 total time=   4.3s\n",
            "[CV 2/4; 6/30] START learning_rate=0.1, max_depth=8, min_samples_leaf=10, n_estimators=100\n",
            "[CV 2/4; 6/30] END learning_rate=0.1, max_depth=8, min_samples_leaf=10, n_estimators=100;, score=0.108 total time=   4.3s\n",
            "[CV 3/4; 6/30] START learning_rate=0.1, max_depth=8, min_samples_leaf=10, n_estimators=100\n",
            "[CV 3/4; 6/30] END learning_rate=0.1, max_depth=8, min_samples_leaf=10, n_estimators=100;, score=0.048 total time=   4.3s\n",
            "[CV 4/4; 6/30] START learning_rate=0.1, max_depth=8, min_samples_leaf=10, n_estimators=100\n",
            "[CV 4/4; 6/30] END learning_rate=0.1, max_depth=8, min_samples_leaf=10, n_estimators=100;, score=0.094 total time=   4.3s\n",
            "[CV 1/4; 7/30] START learning_rate=0.1, max_depth=8, min_samples_leaf=5, n_estimators=300\n",
            "[CV 1/4; 7/30] END learning_rate=0.1, max_depth=8, min_samples_leaf=5, n_estimators=300;, score=0.043 total time=  13.0s\n",
            "[CV 2/4; 7/30] START learning_rate=0.1, max_depth=8, min_samples_leaf=5, n_estimators=300\n",
            "[CV 2/4; 7/30] END learning_rate=0.1, max_depth=8, min_samples_leaf=5, n_estimators=300;, score=0.088 total time=  13.0s\n",
            "[CV 3/4; 7/30] START learning_rate=0.1, max_depth=8, min_samples_leaf=5, n_estimators=300\n",
            "[CV 3/4; 7/30] END learning_rate=0.1, max_depth=8, min_samples_leaf=5, n_estimators=300;, score=0.010 total time=  13.0s\n",
            "[CV 4/4; 7/30] START learning_rate=0.1, max_depth=8, min_samples_leaf=5, n_estimators=300\n",
            "[CV 4/4; 7/30] END learning_rate=0.1, max_depth=8, min_samples_leaf=5, n_estimators=300;, score=0.065 total time=  13.0s\n",
            "[CV 1/4; 8/30] START learning_rate=0.01, max_depth=4, min_samples_leaf=5, n_estimators=200\n",
            "[CV 1/4; 8/30] END learning_rate=0.01, max_depth=4, min_samples_leaf=5, n_estimators=200;, score=0.102 total time=   4.5s\n",
            "[CV 2/4; 8/30] START learning_rate=0.01, max_depth=4, min_samples_leaf=5, n_estimators=200\n",
            "[CV 2/4; 8/30] END learning_rate=0.01, max_depth=4, min_samples_leaf=5, n_estimators=200;, score=0.100 total time=   4.5s\n",
            "[CV 3/4; 8/30] START learning_rate=0.01, max_depth=4, min_samples_leaf=5, n_estimators=200\n",
            "[CV 3/4; 8/30] END learning_rate=0.01, max_depth=4, min_samples_leaf=5, n_estimators=200;, score=0.091 total time=   4.5s\n",
            "[CV 4/4; 8/30] START learning_rate=0.01, max_depth=4, min_samples_leaf=5, n_estimators=200\n",
            "[CV 4/4; 8/30] END learning_rate=0.01, max_depth=4, min_samples_leaf=5, n_estimators=200;, score=0.080 total time=   4.5s\n",
            "[CV 1/4; 9/30] START learning_rate=0.05, max_depth=4, min_samples_leaf=5, n_estimators=200\n",
            "[CV 1/4; 9/30] END learning_rate=0.05, max_depth=4, min_samples_leaf=5, n_estimators=200;, score=0.113 total time=   5.5s\n",
            "[CV 2/4; 9/30] START learning_rate=0.05, max_depth=4, min_samples_leaf=5, n_estimators=200\n",
            "[CV 2/4; 9/30] END learning_rate=0.05, max_depth=4, min_samples_leaf=5, n_estimators=200;, score=0.121 total time=   4.6s\n",
            "[CV 3/4; 9/30] START learning_rate=0.05, max_depth=4, min_samples_leaf=5, n_estimators=200\n",
            "[CV 3/4; 9/30] END learning_rate=0.05, max_depth=4, min_samples_leaf=5, n_estimators=200;, score=0.095 total time=   4.6s\n",
            "[CV 4/4; 9/30] START learning_rate=0.05, max_depth=4, min_samples_leaf=5, n_estimators=200\n",
            "[CV 4/4; 9/30] END learning_rate=0.05, max_depth=4, min_samples_leaf=5, n_estimators=200;, score=0.113 total time=   4.6s\n",
            "[CV 1/4; 10/30] START learning_rate=0.1, max_depth=6, min_samples_leaf=5, n_estimators=200\n",
            "[CV 1/4; 10/30] END learning_rate=0.1, max_depth=6, min_samples_leaf=5, n_estimators=200;, score=0.092 total time=  10.2s\n",
            "[CV 2/4; 10/30] START learning_rate=0.1, max_depth=6, min_samples_leaf=5, n_estimators=200\n",
            "[CV 2/4; 10/30] END learning_rate=0.1, max_depth=6, min_samples_leaf=5, n_estimators=200;, score=0.098 total time=   7.8s\n",
            "[CV 3/4; 10/30] START learning_rate=0.1, max_depth=6, min_samples_leaf=5, n_estimators=200\n",
            "[CV 3/4; 10/30] END learning_rate=0.1, max_depth=6, min_samples_leaf=5, n_estimators=200;, score=0.046 total time=   6.7s\n",
            "[CV 4/4; 10/30] START learning_rate=0.1, max_depth=6, min_samples_leaf=5, n_estimators=200\n",
            "[CV 4/4; 10/30] END learning_rate=0.1, max_depth=6, min_samples_leaf=5, n_estimators=200;, score=0.081 total time=   6.7s\n",
            "[CV 1/4; 11/30] START learning_rate=0.01, max_depth=8, min_samples_leaf=1, n_estimators=100\n",
            "[CV 1/4; 11/30] END learning_rate=0.01, max_depth=8, min_samples_leaf=1, n_estimators=100;, score=0.089 total time=   5.0s\n",
            "[CV 2/4; 11/30] START learning_rate=0.01, max_depth=8, min_samples_leaf=1, n_estimators=100\n",
            "[CV 2/4; 11/30] END learning_rate=0.01, max_depth=8, min_samples_leaf=1, n_estimators=100;, score=0.097 total time=   4.1s\n",
            "[CV 3/4; 11/30] START learning_rate=0.01, max_depth=8, min_samples_leaf=1, n_estimators=100\n",
            "[CV 3/4; 11/30] END learning_rate=0.01, max_depth=8, min_samples_leaf=1, n_estimators=100;, score=0.068 total time=   4.1s\n",
            "[CV 4/4; 11/30] START learning_rate=0.01, max_depth=8, min_samples_leaf=1, n_estimators=100\n",
            "[CV 4/4; 11/30] END learning_rate=0.01, max_depth=8, min_samples_leaf=1, n_estimators=100;, score=0.072 total time=   4.1s\n",
            "[CV 1/4; 12/30] START learning_rate=0.05, max_depth=4, min_samples_leaf=1, n_estimators=300\n",
            "[CV 1/4; 12/30] END learning_rate=0.05, max_depth=4, min_samples_leaf=1, n_estimators=300;, score=0.116 total time=   6.9s\n",
            "[CV 2/4; 12/30] START learning_rate=0.05, max_depth=4, min_samples_leaf=1, n_estimators=300\n",
            "[CV 2/4; 12/30] END learning_rate=0.05, max_depth=4, min_samples_leaf=1, n_estimators=300;, score=0.121 total time=   7.0s\n",
            "[CV 3/4; 12/30] START learning_rate=0.05, max_depth=4, min_samples_leaf=1, n_estimators=300\n",
            "[CV 3/4; 12/30] END learning_rate=0.05, max_depth=4, min_samples_leaf=1, n_estimators=300;, score=0.090 total time=   6.9s\n",
            "[CV 4/4; 12/30] START learning_rate=0.05, max_depth=4, min_samples_leaf=1, n_estimators=300\n",
            "[CV 4/4; 12/30] END learning_rate=0.05, max_depth=4, min_samples_leaf=1, n_estimators=300;, score=0.114 total time=   6.9s\n",
            "[CV 1/4; 13/30] START learning_rate=0.05, max_depth=6, min_samples_leaf=10, n_estimators=200\n",
            "[CV 1/4; 13/30] END learning_rate=0.05, max_depth=6, min_samples_leaf=10, n_estimators=200;, score=0.115 total time=   6.7s\n",
            "[CV 2/4; 13/30] START learning_rate=0.05, max_depth=6, min_samples_leaf=10, n_estimators=200\n",
            "[CV 2/4; 13/30] END learning_rate=0.05, max_depth=6, min_samples_leaf=10, n_estimators=200;, score=0.132 total time=   6.7s\n",
            "[CV 3/4; 13/30] START learning_rate=0.05, max_depth=6, min_samples_leaf=10, n_estimators=200\n",
            "[CV 3/4; 13/30] END learning_rate=0.05, max_depth=6, min_samples_leaf=10, n_estimators=200;, score=0.085 total time=   6.7s\n",
            "[CV 4/4; 13/30] START learning_rate=0.05, max_depth=6, min_samples_leaf=10, n_estimators=200\n",
            "[CV 4/4; 13/30] END learning_rate=0.05, max_depth=6, min_samples_leaf=10, n_estimators=200;, score=0.118 total time=   6.6s\n",
            "[CV 1/4; 14/30] START learning_rate=0.01, max_depth=6, min_samples_leaf=10, n_estimators=300\n",
            "[CV 1/4; 14/30] END learning_rate=0.01, max_depth=6, min_samples_leaf=10, n_estimators=300;, score=0.117 total time=   9.6s\n",
            "[CV 2/4; 14/30] START learning_rate=0.01, max_depth=6, min_samples_leaf=10, n_estimators=300\n",
            "[CV 2/4; 14/30] END learning_rate=0.01, max_depth=6, min_samples_leaf=10, n_estimators=300;, score=0.125 total time=   9.6s\n",
            "[CV 3/4; 14/30] START learning_rate=0.01, max_depth=6, min_samples_leaf=10, n_estimators=300\n",
            "[CV 3/4; 14/30] END learning_rate=0.01, max_depth=6, min_samples_leaf=10, n_estimators=300;, score=0.096 total time=   9.6s\n",
            "[CV 4/4; 14/30] START learning_rate=0.01, max_depth=6, min_samples_leaf=10, n_estimators=300\n",
            "[CV 4/4; 14/30] END learning_rate=0.01, max_depth=6, min_samples_leaf=10, n_estimators=300;, score=0.099 total time=   9.7s\n",
            "[CV 1/4; 15/30] START learning_rate=0.1, max_depth=6, min_samples_leaf=10, n_estimators=200\n",
            "[CV 1/4; 15/30] END learning_rate=0.1, max_depth=6, min_samples_leaf=10, n_estimators=200;, score=0.084 total time=   6.8s\n",
            "[CV 2/4; 15/30] START learning_rate=0.1, max_depth=6, min_samples_leaf=10, n_estimators=200\n",
            "[CV 2/4; 15/30] END learning_rate=0.1, max_depth=6, min_samples_leaf=10, n_estimators=200;, score=0.095 total time=   6.7s\n",
            "[CV 3/4; 15/30] START learning_rate=0.1, max_depth=6, min_samples_leaf=10, n_estimators=200\n",
            "[CV 3/4; 15/30] END learning_rate=0.1, max_depth=6, min_samples_leaf=10, n_estimators=200;, score=0.047 total time=   6.7s\n",
            "[CV 4/4; 15/30] START learning_rate=0.1, max_depth=6, min_samples_leaf=10, n_estimators=200\n",
            "[CV 4/4; 15/30] END learning_rate=0.1, max_depth=6, min_samples_leaf=10, n_estimators=200;, score=0.092 total time=   6.7s\n",
            "[CV 1/4; 16/30] START learning_rate=0.05, max_depth=6, min_samples_leaf=1, n_estimators=200\n",
            "[CV 1/4; 16/30] END learning_rate=0.05, max_depth=6, min_samples_leaf=1, n_estimators=200;, score=0.109 total time=   6.8s\n",
            "[CV 2/4; 16/30] START learning_rate=0.05, max_depth=6, min_samples_leaf=1, n_estimators=200\n",
            "[CV 2/4; 16/30] END learning_rate=0.05, max_depth=6, min_samples_leaf=1, n_estimators=200;, score=0.125 total time=   6.9s\n",
            "[CV 3/4; 16/30] START learning_rate=0.05, max_depth=6, min_samples_leaf=1, n_estimators=200\n",
            "[CV 3/4; 16/30] END learning_rate=0.05, max_depth=6, min_samples_leaf=1, n_estimators=200;, score=0.078 total time=   6.7s\n",
            "[CV 4/4; 16/30] START learning_rate=0.05, max_depth=6, min_samples_leaf=1, n_estimators=200\n",
            "[CV 4/4; 16/30] END learning_rate=0.05, max_depth=6, min_samples_leaf=1, n_estimators=200;, score=0.097 total time=   7.5s\n",
            "[CV 1/4; 17/30] START learning_rate=0.05, max_depth=8, min_samples_leaf=10, n_estimators=200\n",
            "[CV 1/4; 17/30] END learning_rate=0.05, max_depth=8, min_samples_leaf=10, n_estimators=200;, score=0.096 total time=   8.5s\n",
            "[CV 2/4; 17/30] START learning_rate=0.05, max_depth=8, min_samples_leaf=10, n_estimators=200\n",
            "[CV 2/4; 17/30] END learning_rate=0.05, max_depth=8, min_samples_leaf=10, n_estimators=200;, score=0.115 total time=   8.5s\n",
            "[CV 3/4; 17/30] START learning_rate=0.05, max_depth=8, min_samples_leaf=10, n_estimators=200\n",
            "[CV 3/4; 17/30] END learning_rate=0.05, max_depth=8, min_samples_leaf=10, n_estimators=200;, score=0.060 total time=   8.5s\n",
            "[CV 4/4; 17/30] START learning_rate=0.05, max_depth=8, min_samples_leaf=10, n_estimators=200\n",
            "[CV 4/4; 17/30] END learning_rate=0.05, max_depth=8, min_samples_leaf=10, n_estimators=200;, score=0.099 total time=   8.5s\n",
            "[CV 1/4; 18/30] START learning_rate=0.1, max_depth=8, min_samples_leaf=1, n_estimators=300\n",
            "[CV 1/4; 18/30] END learning_rate=0.1, max_depth=8, min_samples_leaf=1, n_estimators=300;, score=0.058 total time=  14.2s\n",
            "[CV 2/4; 18/30] START learning_rate=0.1, max_depth=8, min_samples_leaf=1, n_estimators=300\n",
            "[CV 2/4; 18/30] END learning_rate=0.1, max_depth=8, min_samples_leaf=1, n_estimators=300;, score=0.096 total time=  13.3s\n",
            "[CV 3/4; 18/30] START learning_rate=0.1, max_depth=8, min_samples_leaf=1, n_estimators=300\n",
            "[CV 3/4; 18/30] END learning_rate=0.1, max_depth=8, min_samples_leaf=1, n_estimators=300;, score=0.038 total time=  13.3s\n",
            "[CV 4/4; 18/30] START learning_rate=0.1, max_depth=8, min_samples_leaf=1, n_estimators=300\n",
            "[CV 4/4; 18/30] END learning_rate=0.1, max_depth=8, min_samples_leaf=1, n_estimators=300;, score=0.070 total time=  13.2s\n",
            "[CV 1/4; 19/30] START learning_rate=0.05, max_depth=6, min_samples_leaf=1, n_estimators=300\n",
            "[CV 1/4; 19/30] END learning_rate=0.05, max_depth=6, min_samples_leaf=1, n_estimators=300;, score=0.107 total time=  10.1s\n",
            "[CV 2/4; 19/30] START learning_rate=0.05, max_depth=6, min_samples_leaf=1, n_estimators=300\n",
            "[CV 2/4; 19/30] END learning_rate=0.05, max_depth=6, min_samples_leaf=1, n_estimators=300;, score=0.117 total time=  10.1s\n",
            "[CV 3/4; 19/30] START learning_rate=0.05, max_depth=6, min_samples_leaf=1, n_estimators=300\n",
            "[CV 3/4; 19/30] END learning_rate=0.05, max_depth=6, min_samples_leaf=1, n_estimators=300;, score=0.065 total time=  11.2s\n",
            "[CV 4/4; 19/30] START learning_rate=0.05, max_depth=6, min_samples_leaf=1, n_estimators=300\n",
            "[CV 4/4; 19/30] END learning_rate=0.05, max_depth=6, min_samples_leaf=1, n_estimators=300;, score=0.088 total time=  10.2s\n",
            "[CV 1/4; 20/30] START learning_rate=0.05, max_depth=6, min_samples_leaf=10, n_estimators=100\n",
            "[CV 1/4; 20/30] END learning_rate=0.05, max_depth=6, min_samples_leaf=10, n_estimators=100;, score=0.116 total time=   3.4s\n",
            "[CV 2/4; 20/30] START learning_rate=0.05, max_depth=6, min_samples_leaf=10, n_estimators=100\n",
            "[CV 2/4; 20/30] END learning_rate=0.05, max_depth=6, min_samples_leaf=10, n_estimators=100;, score=0.127 total time=   3.3s\n",
            "[CV 3/4; 20/30] START learning_rate=0.05, max_depth=6, min_samples_leaf=10, n_estimators=100\n",
            "[CV 3/4; 20/30] END learning_rate=0.05, max_depth=6, min_samples_leaf=10, n_estimators=100;, score=0.095 total time=   3.3s\n",
            "[CV 4/4; 20/30] START learning_rate=0.05, max_depth=6, min_samples_leaf=10, n_estimators=100\n",
            "[CV 4/4; 20/30] END learning_rate=0.05, max_depth=6, min_samples_leaf=10, n_estimators=100;, score=0.114 total time=   3.3s\n",
            "[CV 1/4; 21/30] START learning_rate=0.1, max_depth=6, min_samples_leaf=1, n_estimators=100\n",
            "[CV 1/4; 21/30] END learning_rate=0.1, max_depth=6, min_samples_leaf=1, n_estimators=100;, score=0.108 total time=   3.3s\n",
            "[CV 2/4; 21/30] START learning_rate=0.1, max_depth=6, min_samples_leaf=1, n_estimators=100\n",
            "[CV 2/4; 21/30] END learning_rate=0.1, max_depth=6, min_samples_leaf=1, n_estimators=100;, score=0.105 total time=   3.4s\n",
            "[CV 3/4; 21/30] START learning_rate=0.1, max_depth=6, min_samples_leaf=1, n_estimators=100\n",
            "[CV 3/4; 21/30] END learning_rate=0.1, max_depth=6, min_samples_leaf=1, n_estimators=100;, score=0.075 total time=   3.4s\n",
            "[CV 4/4; 21/30] START learning_rate=0.1, max_depth=6, min_samples_leaf=1, n_estimators=100\n",
            "[CV 4/4; 21/30] END learning_rate=0.1, max_depth=6, min_samples_leaf=1, n_estimators=100;, score=0.083 total time=   3.3s\n",
            "[CV 1/4; 22/30] START learning_rate=0.01, max_depth=4, min_samples_leaf=5, n_estimators=100\n",
            "[CV 1/4; 22/30] END learning_rate=0.01, max_depth=4, min_samples_leaf=5, n_estimators=100;, score=0.072 total time=   2.2s\n",
            "[CV 2/4; 22/30] START learning_rate=0.01, max_depth=4, min_samples_leaf=5, n_estimators=100\n",
            "[CV 2/4; 22/30] END learning_rate=0.01, max_depth=4, min_samples_leaf=5, n_estimators=100;, score=0.072 total time=   2.2s\n",
            "[CV 3/4; 22/30] START learning_rate=0.01, max_depth=4, min_samples_leaf=5, n_estimators=100\n",
            "[CV 3/4; 22/30] END learning_rate=0.01, max_depth=4, min_samples_leaf=5, n_estimators=100;, score=0.071 total time=   2.2s\n",
            "[CV 4/4; 22/30] START learning_rate=0.01, max_depth=4, min_samples_leaf=5, n_estimators=100\n",
            "[CV 4/4; 22/30] END learning_rate=0.01, max_depth=4, min_samples_leaf=5, n_estimators=100;, score=0.056 total time=   2.2s\n",
            "[CV 1/4; 23/30] START learning_rate=0.1, max_depth=8, min_samples_leaf=10, n_estimators=300\n",
            "[CV 1/4; 23/30] END learning_rate=0.1, max_depth=8, min_samples_leaf=10, n_estimators=300;, score=0.051 total time=  12.9s\n",
            "[CV 2/4; 23/30] START learning_rate=0.1, max_depth=8, min_samples_leaf=10, n_estimators=300\n",
            "[CV 2/4; 23/30] END learning_rate=0.1, max_depth=8, min_samples_leaf=10, n_estimators=300;, score=0.088 total time=  12.9s\n",
            "[CV 3/4; 23/30] START learning_rate=0.1, max_depth=8, min_samples_leaf=10, n_estimators=300\n",
            "[CV 3/4; 23/30] END learning_rate=0.1, max_depth=8, min_samples_leaf=10, n_estimators=300;, score=0.014 total time=  13.9s\n",
            "[CV 4/4; 23/30] START learning_rate=0.1, max_depth=8, min_samples_leaf=10, n_estimators=300\n",
            "[CV 4/4; 23/30] END learning_rate=0.1, max_depth=8, min_samples_leaf=10, n_estimators=300;, score=0.077 total time=  12.9s\n",
            "[CV 1/4; 24/30] START learning_rate=0.1, max_depth=4, min_samples_leaf=10, n_estimators=300\n",
            "[CV 1/4; 24/30] END learning_rate=0.1, max_depth=4, min_samples_leaf=10, n_estimators=300;, score=0.087 total time=   6.9s\n",
            "[CV 2/4; 24/30] START learning_rate=0.1, max_depth=4, min_samples_leaf=10, n_estimators=300\n",
            "[CV 2/4; 24/30] END learning_rate=0.1, max_depth=4, min_samples_leaf=10, n_estimators=300;, score=0.109 total time=   6.9s\n",
            "[CV 3/4; 24/30] START learning_rate=0.1, max_depth=4, min_samples_leaf=10, n_estimators=300\n",
            "[CV 3/4; 24/30] END learning_rate=0.1, max_depth=4, min_samples_leaf=10, n_estimators=300;, score=0.060 total time=   6.9s\n",
            "[CV 4/4; 24/30] START learning_rate=0.1, max_depth=4, min_samples_leaf=10, n_estimators=300\n",
            "[CV 4/4; 24/30] END learning_rate=0.1, max_depth=4, min_samples_leaf=10, n_estimators=300;, score=0.110 total time=   6.9s\n",
            "[CV 1/4; 25/30] START learning_rate=0.01, max_depth=6, min_samples_leaf=5, n_estimators=200\n",
            "[CV 1/4; 25/30] END learning_rate=0.01, max_depth=6, min_samples_leaf=5, n_estimators=200;, score=0.117 total time=   7.2s\n",
            "[CV 2/4; 25/30] START learning_rate=0.01, max_depth=6, min_samples_leaf=5, n_estimators=200\n",
            "[CV 2/4; 25/30] END learning_rate=0.01, max_depth=6, min_samples_leaf=5, n_estimators=200;, score=0.122 total time=   6.3s\n",
            "[CV 3/4; 25/30] START learning_rate=0.01, max_depth=6, min_samples_leaf=5, n_estimators=200\n",
            "[CV 3/4; 25/30] END learning_rate=0.01, max_depth=6, min_samples_leaf=5, n_estimators=200;, score=0.093 total time=   6.2s\n",
            "[CV 4/4; 25/30] START learning_rate=0.01, max_depth=6, min_samples_leaf=5, n_estimators=200\n",
            "[CV 4/4; 25/30] END learning_rate=0.01, max_depth=6, min_samples_leaf=5, n_estimators=200;, score=0.095 total time=   6.3s\n",
            "[CV 1/4; 26/30] START learning_rate=0.05, max_depth=4, min_samples_leaf=5, n_estimators=100\n",
            "[CV 1/4; 26/30] END learning_rate=0.05, max_depth=4, min_samples_leaf=5, n_estimators=100;, score=0.115 total time=   2.3s\n",
            "[CV 2/4; 26/30] START learning_rate=0.05, max_depth=4, min_samples_leaf=5, n_estimators=100\n",
            "[CV 2/4; 26/30] END learning_rate=0.05, max_depth=4, min_samples_leaf=5, n_estimators=100;, score=0.116 total time=   2.3s\n",
            "[CV 3/4; 26/30] START learning_rate=0.05, max_depth=4, min_samples_leaf=5, n_estimators=100\n",
            "[CV 3/4; 26/30] END learning_rate=0.05, max_depth=4, min_samples_leaf=5, n_estimators=100;, score=0.096 total time=   2.3s\n",
            "[CV 4/4; 26/30] START learning_rate=0.05, max_depth=4, min_samples_leaf=5, n_estimators=100\n",
            "[CV 4/4; 26/30] END learning_rate=0.05, max_depth=4, min_samples_leaf=5, n_estimators=100;, score=0.103 total time=   2.3s\n",
            "[CV 1/4; 27/30] START learning_rate=0.05, max_depth=8, min_samples_leaf=1, n_estimators=100\n",
            "[CV 1/4; 27/30] END learning_rate=0.05, max_depth=8, min_samples_leaf=1, n_estimators=100;, score=0.112 total time=   4.3s\n",
            "[CV 2/4; 27/30] START learning_rate=0.05, max_depth=8, min_samples_leaf=1, n_estimators=100\n",
            "[CV 2/4; 27/30] END learning_rate=0.05, max_depth=8, min_samples_leaf=1, n_estimators=100;, score=0.121 total time=   4.3s\n",
            "[CV 3/4; 27/30] START learning_rate=0.05, max_depth=8, min_samples_leaf=1, n_estimators=100\n",
            "[CV 3/4; 27/30] END learning_rate=0.05, max_depth=8, min_samples_leaf=1, n_estimators=100;, score=0.068 total time=   4.2s\n",
            "[CV 4/4; 27/30] START learning_rate=0.05, max_depth=8, min_samples_leaf=1, n_estimators=100\n",
            "[CV 4/4; 27/30] END learning_rate=0.05, max_depth=8, min_samples_leaf=1, n_estimators=100;, score=0.088 total time=   4.3s\n",
            "[CV 1/4; 28/30] START learning_rate=0.05, max_depth=6, min_samples_leaf=10, n_estimators=300\n",
            "[CV 1/4; 28/30] END learning_rate=0.05, max_depth=6, min_samples_leaf=10, n_estimators=300;, score=0.099 total time=  10.0s\n",
            "[CV 2/4; 28/30] START learning_rate=0.05, max_depth=6, min_samples_leaf=10, n_estimators=300\n",
            "[CV 2/4; 28/30] END learning_rate=0.05, max_depth=6, min_samples_leaf=10, n_estimators=300;, score=0.126 total time=  10.1s\n",
            "[CV 3/4; 28/30] START learning_rate=0.05, max_depth=6, min_samples_leaf=10, n_estimators=300\n",
            "[CV 3/4; 28/30] END learning_rate=0.05, max_depth=6, min_samples_leaf=10, n_estimators=300;, score=0.073 total time=  10.0s\n",
            "[CV 4/4; 28/30] START learning_rate=0.05, max_depth=6, min_samples_leaf=10, n_estimators=300\n",
            "[CV 4/4; 28/30] END learning_rate=0.05, max_depth=6, min_samples_leaf=10, n_estimators=300;, score=0.108 total time=   9.9s\n",
            "[CV 1/4; 29/30] START learning_rate=0.05, max_depth=6, min_samples_leaf=5, n_estimators=200\n",
            "[CV 1/4; 29/30] END learning_rate=0.05, max_depth=6, min_samples_leaf=5, n_estimators=200;, score=0.110 total time=   6.6s\n",
            "[CV 2/4; 29/30] START learning_rate=0.05, max_depth=6, min_samples_leaf=5, n_estimators=200\n",
            "[CV 2/4; 29/30] END learning_rate=0.05, max_depth=6, min_samples_leaf=5, n_estimators=200;, score=0.131 total time=   6.7s\n",
            "[CV 3/4; 29/30] START learning_rate=0.05, max_depth=6, min_samples_leaf=5, n_estimators=200\n",
            "[CV 3/4; 29/30] END learning_rate=0.05, max_depth=6, min_samples_leaf=5, n_estimators=200;, score=0.079 total time=   6.6s\n",
            "[CV 4/4; 29/30] START learning_rate=0.05, max_depth=6, min_samples_leaf=5, n_estimators=200\n",
            "[CV 4/4; 29/30] END learning_rate=0.05, max_depth=6, min_samples_leaf=5, n_estimators=200;, score=0.110 total time=   6.6s\n",
            "[CV 1/4; 30/30] START learning_rate=0.05, max_depth=8, min_samples_leaf=5, n_estimators=300\n",
            "[CV 1/4; 30/30] END learning_rate=0.05, max_depth=8, min_samples_leaf=5, n_estimators=300;, score=0.078 total time=  12.9s\n",
            "[CV 2/4; 30/30] START learning_rate=0.05, max_depth=8, min_samples_leaf=5, n_estimators=300\n",
            "[CV 2/4; 30/30] END learning_rate=0.05, max_depth=8, min_samples_leaf=5, n_estimators=300;, score=0.116 total time=  12.9s\n",
            "[CV 3/4; 30/30] START learning_rate=0.05, max_depth=8, min_samples_leaf=5, n_estimators=300\n",
            "[CV 3/4; 30/30] END learning_rate=0.05, max_depth=8, min_samples_leaf=5, n_estimators=300;, score=0.041 total time=  12.9s\n",
            "[CV 4/4; 30/30] START learning_rate=0.05, max_depth=8, min_samples_leaf=5, n_estimators=300\n",
            "[CV 4/4; 30/30] END learning_rate=0.05, max_depth=8, min_samples_leaf=5, n_estimators=300;, score=0.088 total time=  13.8s\n"
          ]
        }
      ]
    },
    {
      "cell_type": "code",
      "source": [
        "opt_gb_model = GradientBoostingRegressor(**gb_gs.best_params_)\n",
        "opt_gb_cv = cross_val_score(\n",
        "    opt_gb_model,\n",
        "    x_train, \n",
        "    y_train,\n",
        "    cv=4,\n",
        "    scoring='r2',\n",
        "    n_jobs = CPUS-1\n",
        ")\n",
        "print(f\"Default parameters:\\n{opt_gb_model.get_params()}\")\n",
        "print(f\"Fold scores:\\n{opt_gb_cv}\")\n",
        "print(f\"Mean score: {opt_gb_cv.mean():.8f}\")"
      ],
      "metadata": {
        "colab": {
          "base_uri": "https://localhost:8080/"
        },
        "id": "fg1LVo9yvna5",
        "outputId": "56a9751a-e4b6-46ee-8847-9ab95b969b45"
      },
      "execution_count": null,
      "outputs": [
        {
          "output_type": "stream",
          "name": "stdout",
          "text": [
            "Default parameters:\n",
            "{'alpha': 0.9, 'ccp_alpha': 0.0, 'criterion': 'friedman_mse', 'init': None, 'learning_rate': 0.05, 'loss': 'squared_error', 'max_depth': 6, 'max_features': None, 'max_leaf_nodes': None, 'min_impurity_decrease': 0.0, 'min_samples_leaf': 10, 'min_samples_split': 2, 'min_weight_fraction_leaf': 0.0, 'n_estimators': 100, 'n_iter_no_change': None, 'random_state': None, 'subsample': 1.0, 'tol': 0.0001, 'validation_fraction': 0.1, 'verbose': 0, 'warm_start': False}\n",
            "Fold scores:\n",
            "[0.1161 0.1271 0.095  0.1141]\n",
            "Mean score: 0.11309926\n"
          ]
        }
      ]
    },
    {
      "cell_type": "markdown",
      "source": [
        "Test RMSE Gradient Boosting"
      ],
      "metadata": {
        "id": "uEOjaQyc6VMf"
      }
    },
    {
      "cell_type": "code",
      "source": [
        "opt_gb_model.fit(x_train, y_train)\n",
        "optimal_gb_test_preds = opt_gb_model.predict(x_test)"
      ],
      "metadata": {
        "id": "aXXigs7l4M9f"
      },
      "execution_count": null,
      "outputs": []
    },
    {
      "cell_type": "code",
      "source": [
        "gb_rmse = (((optimal_gb_test_preds - y_test)**2).mean())**(1/2)"
      ],
      "metadata": {
        "id": "GJ3NMZ3H6Ep1"
      },
      "execution_count": null,
      "outputs": []
    },
    {
      "cell_type": "code",
      "source": [
        "gb_rmse"
      ],
      "metadata": {
        "colab": {
          "base_uri": "https://localhost:8080/"
        },
        "id": "zzb0PlGC6HHS",
        "outputId": "ebb7f3c3-b17f-452d-9489-9f6e2ec3ed40"
      },
      "execution_count": null,
      "outputs": [
        {
          "output_type": "execute_result",
          "data": {
            "text/plain": [
              "0.5822932657014884"
            ]
          },
          "metadata": {},
          "execution_count": 126
        }
      ]
    }
  ]
}